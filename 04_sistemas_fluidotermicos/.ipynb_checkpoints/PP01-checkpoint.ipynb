{
  "nbformat": 4,
  "nbformat_minor": 0,
  "metadata": {
    "colab": {
      "name": "PP01.ipynb",
      "provenance": [],
      "collapsed_sections": []
    },
    "kernelspec": {
      "name": "python3",
      "display_name": "Python 3"
    }
  },
  "cells": [
    {
      "cell_type": "markdown",
      "metadata": {
        "id": "MQtwZjt2CzRd"
      },
      "source": [
        "## Autores\n",
        "\n",
        "Carlos Augusto Jardim Chiarelli 165685\n",
        "\n",
        "Pirata 135898\n",
        "\n",
        "$$ $$\n",
        "\n",
        "# ES672 – Sistemas Fluidotérmicos I – turma A\n",
        "\n",
        "$$ $$\n",
        "\n",
        "# Enunciado do problema\n",
        "\n",
        "Considere sistemas de refrigeração relativamente simples, como os existentes em residências e estabelecimentos comerciais de pequeno porte, e outros mais complexos, como aqueles utilizados em indústrias (e.g. de alimentos) e supermercados. Responda às perguntas abaixo.\n",
        "Suponha um refrigerador residencial que deve conservar alimentos a 4°C e que as condições do ambiente externo correspondem a 27°C. Informações de literatura indicam que a potência de uma geladeira comum é de 250-300 W, dependendo da capacidade e da idade da tecnologia empregada. A Tabela 1 indica estimativa de consumo de eletricidade mensal associado à operação de geladeiras. Suponha que o compressor, que opera com rotação constante e que é usado no equipamento, tenha eficiência isentrópica 85%. Qual o efeito útil de refrigeração? Qual o COP da geladeira? \n",
        "\n",
        "$$ $$\n",
        "\n",
        "Agora suponha um equipamento de refrigeração industrial por compressão de vapor que deve atender uma demanda térmica de 120 TRs. A matéria resfriada deve ser mantida a 4°C e a temperatura ambiente externa no local em que a unidade vai ser instalada pode chegar a 40°C, mas essa também pode ser tão baixa quanto 12°C. No caso do sistema convencional (i.e. compressor com relação de pressões fixas), qual a potência elétrica requerida para acionar o compressor? Qual o COP do sistema?\n",
        "\n",
        "Considere que o fluído de refrigeração nos dois casos é o R134a. \n",
        "As diferenças de temperaturas entre o fluído de refrigeração e o ar, tanto no evaporador quanto no condensador, devem ser 10°C. \n",
        "\n",
        "$$ $$\n",
        "\n",
        "Além das questões apresentadas acima, responda:\n",
        "\n",
        "* Em equipamentos de refrigeração de pequeno porte, qual o princípio de controle? Se há um sensor principal, onde deve estar localizado, e qual o sinal registrado? Quais as vantagens e as desvantagens em relação a sistemas mais modernos?\n",
        "\n",
        "* Um sistema de controle mais avançado impõe variação da rotação do compressor. Em relação ao caso de referência (o mais simples), calcule a variação do consumo de eletricidade caso um refrigerador tenha esse controle. Para compressor com rotação variável, como deve atuar o sistema de controle? Explicite as hipóteses consideradas.\n",
        "\n",
        "* No caso de um sistema de refrigeração industrial cujo compressor opera com relação de pressões constante, qual o impacto da grande variação de temperaturas ambiente sobre a potência de acionamento do compressor e o consumo de eletricidade ao longo do ano?\n",
        "\n",
        "* Para sistemas de maior capacidade a tecnologia alternativa de compressão é conhecida como “sliding pressure”, e nesse caso a pressão final de compressão varia com a temperatura ambiente (que governa a transferência de energia por calor no condensador). Considerando as condições variáveis de operação ao longo do ano, quais impactos sobre a potência e o consumo de eletricidade do compressor? Explicite as hipóteses consideradas. Como deve atuar o sistema de controle?\n",
        "\n"
      ]
    },
    {
      "cell_type": "markdown",
      "metadata": {
        "id": "XdJ1oGeHISxt"
      },
      "source": [
        "![](https://drive.google.com/uc?export=view&id=1eSNeLMmPhiPg52M1zNkPqnXtN17e_Ymy)"
      ]
    },
    {
      "cell_type": "markdown",
      "metadata": {
        "id": "dxK-cEJ7ITBA"
      },
      "source": [
        "![](https://drive.google.com/uc?export=view&id=1gWCA8Xz2EPLkuHQUVXzTU4N_baceeJZe)"
      ]
    },
    {
      "cell_type": "markdown",
      "metadata": {
        "id": "_2_xyBURI0Zs"
      },
      "source": [
        "$$ $$"
      ]
    },
    {
      "cell_type": "markdown",
      "metadata": {
        "id": "tzmP3OMjFk37"
      },
      "source": [
        "# Parte 01"
      ]
    },
    {
      "cell_type": "markdown",
      "metadata": {
        "id": "bJ71zJ9WFuV0"
      },
      "source": [
        "O sistema pode ser ilustrado na figura abaixo:\n",
        "\n",
        "![](https://drive.google.com/uc?export=view&id=1a40pdq4dEcXNTOtQOndUPpHp83Pv4L_-)\n",
        "\n",
        "![](https://drive.google.com/uc?export=view&id=1s43kEYTUClvmfJXd0x-flxPYQSSjnqZV)"
      ]
    },
    {
      "cell_type": "markdown",
      "metadata": {
        "id": "2wLlZiFxGgdV"
      },
      "source": [
        "Os dados da primeira parte são:\n",
        "\n",
        "* $T_{c} = 4°C$\n",
        "\n",
        "* $T_{h} = 27°C$\n",
        "\n",
        "* $T_{3} = 37°C$\n",
        "\n",
        "* $T_{1} = -6°C$\n",
        "\n",
        "* $P_{comp} = 300W$\n",
        "\n",
        "* $\\eta_{c} = 0.85$\n",
        "\n",
        "* fluido *R134a*\n",
        "\n",
        "* $TR = 211 kJ/min$"
      ]
    },
    {
      "cell_type": "markdown",
      "metadata": {
        "id": "maeeYUgNLbT9"
      },
      "source": [
        "**É solicitado:**\n",
        "\n",
        "* efeito útil ou capacidade de refrigeração  ($ \\dot{Q}_{in} $)\n",
        "\n",
        "* COP da geladeira"
      ]
    },
    {
      "cell_type": "markdown",
      "metadata": {
        "id": "2l0pxRdmKoFJ"
      },
      "source": [
        "Hipóteses:\n",
        "\n",
        "* Cada componente é analisado como um VC operando em RP\n",
        "\n",
        "* Todos os processos são internamente reversíveis, exceto o processo de expansão na válvula\n",
        "\n",
        "* Os processos de compressão e de expansão são adiabáticos\n",
        "\n",
        "* Variações de energia cinética e potencial devem ser desprezadas\n",
        "\n",
        "* O ciclo é ideal para primeira parte da análise\n",
        "\n",
        "* Processos 2-3 e 4-1 são isobáricos (pressão constante)\n",
        "\n",
        "* Processo 3-4 é isoentálpico\n",
        "\n",
        "* Condição de saturação em 1 e 3"
      ]
    },
    {
      "cell_type": "markdown",
      "metadata": {
        "id": "sDWmP8VEU6lN"
      },
      "source": [
        "Iniciamos obtendo as propriedades termodinâmicas do fluído nos estados 1 e 3 (vapor saturado e líquido saturado, respectivamente). Utilizou-se a **tabela A.10** (fluido R134a) do livro \"*Fundamentos de Termodinâmica - Moran e Shapiro - 7ª edição*\"."
      ]
    },
    {
      "cell_type": "code",
      "metadata": {
        "id": "c7gEMQIvbx59",
        "outputId": "2222eeee-51e3-49b0-b45c-515ea7badbea",
        "colab": {
          "base_uri": "https://localhost:8080/",
          "height": 35
        }
      },
      "source": [
        "# bibliotecas\n",
        "from pandas import DataFrame\n",
        "from numpy  import nan\n",
        "from platform import python_version\n",
        "from warnings import filterwarnings\n",
        "\n",
        "filterwarnings('ignore')\n",
        "\n",
        "print('Versão da Linguagem Python usada neste relatório:', python_version())"
      ],
      "execution_count": 78,
      "outputs": [
        {
          "output_type": "stream",
          "text": [
            "Versão da Linguagem Python usada neste relatório: 3.6.9\n"
          ],
          "name": "stdout"
        }
      ]
    },
    {
      "cell_type": "code",
      "metadata": {
        "id": "NezekD5LCfCP"
      },
      "source": [
        "def interpola(x, par1, par2):\n",
        "  '''\n",
        "  :param x:       Float é a variável (X) conhecida do par\n",
        "  :param parAlvo: Tuple (Xa, Ya) sendo um dos itens incognita\n",
        "  :param par1:    Tuple (X1, Y1)\n",
        "  :param par2:    Tuple (X2, Y2)\n",
        "  :return:        Float é o número interpolado (variável Y desconhecida do par)\n",
        "  '''\n",
        "  X1, Y1 = par1\n",
        "  X2, Y2 = par2\n",
        "  Xa     = x\n",
        "\n",
        "  Ya = (Xa - X1)/(X2 - X1)*(Y2 - Y1) + Y1\n",
        "\n",
        "  return Ya\n"
      ],
      "execution_count": 5,
      "outputs": []
    },
    {
      "cell_type": "code",
      "metadata": {
        "id": "7U6e2Jz3CfNY"
      },
      "source": [
        "# Propriedades estado 1\n",
        "T1 = -6\n",
        "h1 = interpola(T1, (-8, 242.54), (-4, 244.90))\n",
        "s1 = interpola(T1, (-8, 0.9239), (-4, 0.9213))\n",
        "p1 = interpola(T1, (-8, 2.1704), (-4, 2.5274))\n",
        "\n",
        "# Propriedades estado 3\n",
        "T3 = 37\n",
        "h3 = interpola(T3, (36, 100.25), (38, 103.21))\n",
        "s3 = interpola(T3, (36, 0.3678), (38, 0.3772))\n",
        "p3 = interpola(T3, (36, 9.1168), (38, 9.6298))"
      ],
      "execution_count": 59,
      "outputs": []
    },
    {
      "cell_type": "code",
      "metadata": {
        "id": "CVi0BHLmjx_i",
        "outputId": "5c58847c-6057-4e4c-a663-e95ecdf54ea0",
        "colab": {
          "base_uri": "https://localhost:8080/",
          "height": 112
        }
      },
      "source": [
        "# tabela de dados\n",
        "df = DataFrame({'Estado'            : [1, 3],\n",
        "                'Temperatura (°C)'  : [T1,T3],\n",
        "                'Entalpia (kJ/kg)'  : [h1,h3],\n",
        "                'Entropia (kJ/kg.K)': [s1,s3],\n",
        "                'Pressão (bar)'     : [p1,p3]})\n",
        "\n",
        "df.head()"
      ],
      "execution_count": 60,
      "outputs": [
        {
          "output_type": "execute_result",
          "data": {
            "text/html": [
              "<div>\n",
              "<style scoped>\n",
              "    .dataframe tbody tr th:only-of-type {\n",
              "        vertical-align: middle;\n",
              "    }\n",
              "\n",
              "    .dataframe tbody tr th {\n",
              "        vertical-align: top;\n",
              "    }\n",
              "\n",
              "    .dataframe thead th {\n",
              "        text-align: right;\n",
              "    }\n",
              "</style>\n",
              "<table border=\"1\" class=\"dataframe\">\n",
              "  <thead>\n",
              "    <tr style=\"text-align: right;\">\n",
              "      <th></th>\n",
              "      <th>Estado</th>\n",
              "      <th>Temperatura (°C)</th>\n",
              "      <th>Entalpia (kJ/kg)</th>\n",
              "      <th>Entropia (kJ/kg.K)</th>\n",
              "      <th>Pressão (bar)</th>\n",
              "    </tr>\n",
              "  </thead>\n",
              "  <tbody>\n",
              "    <tr>\n",
              "      <th>0</th>\n",
              "      <td>1</td>\n",
              "      <td>-6</td>\n",
              "      <td>243.72</td>\n",
              "      <td>0.9226</td>\n",
              "      <td>2.3489</td>\n",
              "    </tr>\n",
              "    <tr>\n",
              "      <th>1</th>\n",
              "      <td>3</td>\n",
              "      <td>37</td>\n",
              "      <td>101.73</td>\n",
              "      <td>0.3725</td>\n",
              "      <td>9.3733</td>\n",
              "    </tr>\n",
              "  </tbody>\n",
              "</table>\n",
              "</div>"
            ],
            "text/plain": [
              "   Estado  Temperatura (°C)  ...  Entropia (kJ/kg.K)  Pressão (bar)\n",
              "0       1                -6  ...              0.9226         2.3489\n",
              "1       3                37  ...              0.3725         9.3733\n",
              "\n",
              "[2 rows x 5 columns]"
            ]
          },
          "metadata": {
            "tags": []
          },
          "execution_count": 60
        }
      ]
    },
    {
      "cell_type": "markdown",
      "metadata": {
        "id": "3GctcX0_guce"
      },
      "source": [
        "Para definição do estado termodinâmico 4 sabemos:\n",
        "\n",
        "* $ T_{1} = T_{4} $\n",
        "\n",
        "* $ h_{3} = h_{4}$"
      ]
    },
    {
      "cell_type": "code",
      "metadata": {
        "id": "9Tkzo0iEgt_g",
        "outputId": "0dc2378a-ead8-4a49-ad6e-bce1ce91d112",
        "colab": {
          "base_uri": "https://localhost:8080/",
          "height": 175
        }
      },
      "source": [
        "# adicionando linha\n",
        "h4 = h3\n",
        "df.loc[2] = [4, T1, h4, nan, nan]\n",
        "df.head()"
      ],
      "execution_count": 92,
      "outputs": [
        {
          "output_type": "execute_result",
          "data": {
            "text/html": [
              "<div>\n",
              "<style scoped>\n",
              "    .dataframe tbody tr th:only-of-type {\n",
              "        vertical-align: middle;\n",
              "    }\n",
              "\n",
              "    .dataframe tbody tr th {\n",
              "        vertical-align: top;\n",
              "    }\n",
              "\n",
              "    .dataframe thead th {\n",
              "        text-align: right;\n",
              "    }\n",
              "</style>\n",
              "<table border=\"1\" class=\"dataframe\">\n",
              "  <thead>\n",
              "    <tr style=\"text-align: right;\">\n",
              "      <th></th>\n",
              "      <th>Estado</th>\n",
              "      <th>Temperatura (°C)</th>\n",
              "      <th>Entalpia (kJ/kg)</th>\n",
              "      <th>Entropia (kJ/kg.K)</th>\n",
              "      <th>Pressão (bar)</th>\n",
              "    </tr>\n",
              "  </thead>\n",
              "  <tbody>\n",
              "    <tr>\n",
              "      <th>0</th>\n",
              "      <td>1.0</td>\n",
              "      <td>-6.0</td>\n",
              "      <td>243.720000</td>\n",
              "      <td>0.9226</td>\n",
              "      <td>2.3489</td>\n",
              "    </tr>\n",
              "    <tr>\n",
              "      <th>1</th>\n",
              "      <td>3.0</td>\n",
              "      <td>37.0</td>\n",
              "      <td>101.730000</td>\n",
              "      <td>0.3725</td>\n",
              "      <td>9.3733</td>\n",
              "    </tr>\n",
              "    <tr>\n",
              "      <th>2</th>\n",
              "      <td>4.0</td>\n",
              "      <td>-6.0</td>\n",
              "      <td>101.730000</td>\n",
              "      <td>NaN</td>\n",
              "      <td>NaN</td>\n",
              "    </tr>\n",
              "    <tr>\n",
              "      <th>3</th>\n",
              "      <td>2.0</td>\n",
              "      <td>NaN</td>\n",
              "      <td>277.424629</td>\n",
              "      <td>0.9226</td>\n",
              "      <td>9.3733</td>\n",
              "    </tr>\n",
              "  </tbody>\n",
              "</table>\n",
              "</div>"
            ],
            "text/plain": [
              "   Estado  Temperatura (°C)  ...  Entropia (kJ/kg.K)  Pressão (bar)\n",
              "0     1.0              -6.0  ...              0.9226         2.3489\n",
              "1     3.0              37.0  ...              0.3725         9.3733\n",
              "2     4.0              -6.0  ...                 NaN            NaN\n",
              "3     2.0               NaN  ...              0.9226         9.3733\n",
              "\n",
              "[4 rows x 5 columns]"
            ]
          },
          "metadata": {
            "tags": []
          },
          "execution_count": 92
        }
      ]
    },
    {
      "cell_type": "markdown",
      "metadata": {
        "id": "IoNuj9JtmHRZ"
      },
      "source": [
        "Para obter o estado termodinâmico 2 será considerado a eficiência isentrópica:\n",
        "\n",
        "$$ $$\n",
        "\n",
        "$$ \\eta_{c} = \\frac{h_{s2}-h_{1}}{h_{2}-h_{1}}$$\n",
        "\n",
        "$$ $$\n",
        "\n",
        "$$ h_{2} = \\frac{h_{s2}-h_{1}}{\\eta_{c}} + h_{1}  $$\n",
        "\n",
        "$$ $$\n",
        "\n",
        "$h_{s2}$ é definido pois:\n",
        "\n",
        "* $s_{1} = s_{2}$\n",
        "\n",
        "* $p_{3} = p_{2}$\n",
        "\n",
        "$$ $$\n",
        "\n"
      ]
    },
    {
      "cell_type": "code",
      "metadata": {
        "id": "PAKeUw4KryO9",
        "outputId": "1b29125f-00d1-4e7d-9d67-cd4c1fc1744f",
        "colab": {
          "base_uri": "https://localhost:8080/",
          "height": 175
        }
      },
      "source": [
        "# Propriedades estado 2\n",
        "p2 = p3\n",
        "s2 = s1\n",
        "efic_isent = 0.85\n",
        "\n",
        "df.loc[3] = [2, nan, nan, s2, p2]\n",
        "df.head()"
      ],
      "execution_count": 62,
      "outputs": [
        {
          "output_type": "execute_result",
          "data": {
            "text/html": [
              "<div>\n",
              "<style scoped>\n",
              "    .dataframe tbody tr th:only-of-type {\n",
              "        vertical-align: middle;\n",
              "    }\n",
              "\n",
              "    .dataframe tbody tr th {\n",
              "        vertical-align: top;\n",
              "    }\n",
              "\n",
              "    .dataframe thead th {\n",
              "        text-align: right;\n",
              "    }\n",
              "</style>\n",
              "<table border=\"1\" class=\"dataframe\">\n",
              "  <thead>\n",
              "    <tr style=\"text-align: right;\">\n",
              "      <th></th>\n",
              "      <th>Estado</th>\n",
              "      <th>Temperatura (°C)</th>\n",
              "      <th>Entalpia (kJ/kg)</th>\n",
              "      <th>Entropia (kJ/kg.K)</th>\n",
              "      <th>Pressão (bar)</th>\n",
              "    </tr>\n",
              "  </thead>\n",
              "  <tbody>\n",
              "    <tr>\n",
              "      <th>0</th>\n",
              "      <td>1.0</td>\n",
              "      <td>-6.0</td>\n",
              "      <td>243.72</td>\n",
              "      <td>0.9226</td>\n",
              "      <td>2.3489</td>\n",
              "    </tr>\n",
              "    <tr>\n",
              "      <th>1</th>\n",
              "      <td>3.0</td>\n",
              "      <td>37.0</td>\n",
              "      <td>101.73</td>\n",
              "      <td>0.3725</td>\n",
              "      <td>9.3733</td>\n",
              "    </tr>\n",
              "    <tr>\n",
              "      <th>2</th>\n",
              "      <td>4.0</td>\n",
              "      <td>-6.0</td>\n",
              "      <td>101.73</td>\n",
              "      <td>NaN</td>\n",
              "      <td>NaN</td>\n",
              "    </tr>\n",
              "    <tr>\n",
              "      <th>3</th>\n",
              "      <td>2.0</td>\n",
              "      <td>NaN</td>\n",
              "      <td>NaN</td>\n",
              "      <td>0.9226</td>\n",
              "      <td>9.3733</td>\n",
              "    </tr>\n",
              "  </tbody>\n",
              "</table>\n",
              "</div>"
            ],
            "text/plain": [
              "   Estado  Temperatura (°C)  ...  Entropia (kJ/kg.K)  Pressão (bar)\n",
              "0     1.0              -6.0  ...              0.9226         2.3489\n",
              "1     3.0              37.0  ...              0.3725         9.3733\n",
              "2     4.0              -6.0  ...                 NaN            NaN\n",
              "3     2.0               NaN  ...              0.9226         9.3733\n",
              "\n",
              "[4 rows x 5 columns]"
            ]
          },
          "metadata": {
            "tags": []
          },
          "execution_count": 62
        }
      ]
    },
    {
      "cell_type": "markdown",
      "metadata": {
        "id": "pmr2OvXiryYi"
      },
      "source": [
        "Consultando a **tabela A.12** e interpolando os valores:"
      ]
    },
    {
      "cell_type": "code",
      "metadata": {
        "id": "DXs1bHd6Cfgf",
        "outputId": "9e69c8ab-539b-45bd-ea54-aaf9586ee079",
        "colab": {
          "base_uri": "https://localhost:8080/",
          "height": 35
        }
      },
      "source": [
        "# Para p = 9 bar\n",
        "h_9bar = interpola(s2, (0.9217, 271.25),  (0.9566, 282.34))\n",
        "\n",
        "# Para p = 10 bar\n",
        "h_10bar = interpola(s2, (0.9066, 268.68),  (0.9428, 280.19))\n",
        "\n",
        "# Para h_s2\n",
        "h_s2 = interpola(p2, (9, h_9bar), (10, h_10bar))\n",
        "\n",
        "print('H_s2 =',h_s2)"
      ],
      "execution_count": 79,
      "outputs": [
        {
          "output_type": "stream",
          "text": [
            "H_s2 = 272.3689344260318\n"
          ],
          "name": "stdout"
        }
      ]
    },
    {
      "cell_type": "code",
      "metadata": {
        "id": "rygyO-g4CfpG",
        "outputId": "f38a32cb-fdbc-4b2b-8b46-6a22763e0b21",
        "colab": {
          "base_uri": "https://localhost:8080/",
          "height": 175
        }
      },
      "source": [
        "h2 = (h_s2 - h1)/efic_isent + h1\n",
        "\n",
        "# gravando na tabela\n",
        "df.loc[3,'Entalpia (kJ/kg)'] = h2\n",
        "\n",
        "df.head()"
      ],
      "execution_count": 76,
      "outputs": [
        {
          "output_type": "execute_result",
          "data": {
            "text/html": [
              "<div>\n",
              "<style scoped>\n",
              "    .dataframe tbody tr th:only-of-type {\n",
              "        vertical-align: middle;\n",
              "    }\n",
              "\n",
              "    .dataframe tbody tr th {\n",
              "        vertical-align: top;\n",
              "    }\n",
              "\n",
              "    .dataframe thead th {\n",
              "        text-align: right;\n",
              "    }\n",
              "</style>\n",
              "<table border=\"1\" class=\"dataframe\">\n",
              "  <thead>\n",
              "    <tr style=\"text-align: right;\">\n",
              "      <th></th>\n",
              "      <th>Estado</th>\n",
              "      <th>Temperatura (°C)</th>\n",
              "      <th>Entalpia (kJ/kg)</th>\n",
              "      <th>Entropia (kJ/kg.K)</th>\n",
              "      <th>Pressão (bar)</th>\n",
              "    </tr>\n",
              "  </thead>\n",
              "  <tbody>\n",
              "    <tr>\n",
              "      <th>0</th>\n",
              "      <td>1.0</td>\n",
              "      <td>-6.0</td>\n",
              "      <td>243.720000</td>\n",
              "      <td>0.9226</td>\n",
              "      <td>2.3489</td>\n",
              "    </tr>\n",
              "    <tr>\n",
              "      <th>1</th>\n",
              "      <td>3.0</td>\n",
              "      <td>37.0</td>\n",
              "      <td>101.730000</td>\n",
              "      <td>0.3725</td>\n",
              "      <td>9.3733</td>\n",
              "    </tr>\n",
              "    <tr>\n",
              "      <th>2</th>\n",
              "      <td>4.0</td>\n",
              "      <td>-6.0</td>\n",
              "      <td>101.730000</td>\n",
              "      <td>NaN</td>\n",
              "      <td>NaN</td>\n",
              "    </tr>\n",
              "    <tr>\n",
              "      <th>3</th>\n",
              "      <td>2.0</td>\n",
              "      <td>NaN</td>\n",
              "      <td>277.424629</td>\n",
              "      <td>0.9226</td>\n",
              "      <td>9.3733</td>\n",
              "    </tr>\n",
              "  </tbody>\n",
              "</table>\n",
              "</div>"
            ],
            "text/plain": [
              "   Estado  Temperatura (°C)  ...  Entropia (kJ/kg.K)  Pressão (bar)\n",
              "0     1.0              -6.0  ...              0.9226         2.3489\n",
              "1     3.0              37.0  ...              0.3725         9.3733\n",
              "2     4.0              -6.0  ...                 NaN            NaN\n",
              "3     2.0               NaN  ...              0.9226         9.3733\n",
              "\n",
              "[4 rows x 5 columns]"
            ]
          },
          "metadata": {
            "tags": []
          },
          "execution_count": 76
        }
      ]
    },
    {
      "cell_type": "markdown",
      "metadata": {
        "id": "4y1IdNNJzxdf"
      },
      "source": [
        "Agora é necessário calcular $\\dot{m}$ para obter as variáveis solicitadas no enunciado.\n",
        "\n",
        "Fazendo o balanço de energia no VC do compressor:\n",
        "\n",
        "$$ $$\n",
        "\n",
        "$$ \\dot{W}_{c} = \\dot{m}(h_{2} - h_{1}) $$\n",
        "\n",
        "$$ $$"
      ]
    },
    {
      "cell_type": "markdown",
      "metadata": {
        "id": "ZuxlJDdtzxWt"
      },
      "source": [
        ""
      ]
    },
    {
      "cell_type": "code",
      "metadata": {
        "id": "-Id84N2ywF9r",
        "outputId": "a355207b-ef95-4838-f385-62e61c9587cd",
        "colab": {
          "base_uri": "https://localhost:8080/",
          "height": 35
        }
      },
      "source": [
        "# Potência compressor\n",
        "P = 300\n",
        "\n",
        "# fluxo mássico\n",
        "m_ponto = P/(h2*1e3 - h1*1e3)\n",
        "\n",
        "print('Fluxo mássico é %.4f kg/s' % m_ponto)"
      ],
      "execution_count": 90,
      "outputs": [
        {
          "output_type": "stream",
          "text": [
            "Fluxo mássico é 0.0089 kg/s\n"
          ],
          "name": "stdout"
        }
      ]
    },
    {
      "cell_type": "markdown",
      "metadata": {
        "id": "1oaLsBZg3noD"
      },
      "source": [
        "Fazendo o balanço de energia no VC evaporador obtemos o **efeito útil de refrigeração**:\n",
        "\n",
        "$$ $$\n",
        "\n",
        "$$ \\dot{Q}_{in} = \\dot{m}(h_{1} - h_{4}) $$\n",
        "\n",
        "$$ $$\n",
        "\n",
        "E para o cálculo do **COP**:\n",
        "\n",
        "$$ \\beta = \\frac{Q_{in}}{\\dot{W}} $$"
      ]
    },
    {
      "cell_type": "code",
      "metadata": {
        "id": "78Ly5cqF13wO"
      },
      "source": [
        "# efeito útil\n",
        "Q_in = m_ponto*(h1 - h4)\n",
        "\n",
        "# COP\n",
        "beta = Q_in*1e3/P"
      ],
      "execution_count": 95,
      "outputs": []
    },
    {
      "cell_type": "code",
      "metadata": {
        "id": "0bPSk7R713ui",
        "outputId": "aed1f667-75e1-434b-a1b2-e0144ee76cde",
        "colab": {
          "base_uri": "https://localhost:8080/",
          "height": 143
        }
      },
      "source": [
        "# tabela de dados\n",
        "df = DataFrame({'Variável' : ['fluxo mássico', 'efeito útil', 'COP'],\n",
        "                'Valor'  : [round(m_ponto, 4), round(Q_in, 2), round(beta,2)],\n",
        "                'Unidade'  : ['kg / s','kJ / kg','adimensional']})\n",
        "\n",
        "df.head()"
      ],
      "execution_count": 101,
      "outputs": [
        {
          "output_type": "execute_result",
          "data": {
            "text/html": [
              "<div>\n",
              "<style scoped>\n",
              "    .dataframe tbody tr th:only-of-type {\n",
              "        vertical-align: middle;\n",
              "    }\n",
              "\n",
              "    .dataframe tbody tr th {\n",
              "        vertical-align: top;\n",
              "    }\n",
              "\n",
              "    .dataframe thead th {\n",
              "        text-align: right;\n",
              "    }\n",
              "</style>\n",
              "<table border=\"1\" class=\"dataframe\">\n",
              "  <thead>\n",
              "    <tr style=\"text-align: right;\">\n",
              "      <th></th>\n",
              "      <th>Variável</th>\n",
              "      <th>Valor</th>\n",
              "      <th>Unidade</th>\n",
              "    </tr>\n",
              "  </thead>\n",
              "  <tbody>\n",
              "    <tr>\n",
              "      <th>0</th>\n",
              "      <td>fluxo mássico</td>\n",
              "      <td>0.0089</td>\n",
              "      <td>kg / s</td>\n",
              "    </tr>\n",
              "    <tr>\n",
              "      <th>1</th>\n",
              "      <td>efeito útil</td>\n",
              "      <td>1.2600</td>\n",
              "      <td>kJ / kg</td>\n",
              "    </tr>\n",
              "    <tr>\n",
              "      <th>2</th>\n",
              "      <td>COP</td>\n",
              "      <td>4.2100</td>\n",
              "      <td>adimensional</td>\n",
              "    </tr>\n",
              "  </tbody>\n",
              "</table>\n",
              "</div>"
            ],
            "text/plain": [
              "        Variável   Valor       Unidade\n",
              "0  fluxo mássico  0.0089        kg / s\n",
              "1    efeito útil  1.2600       kJ / kg\n",
              "2            COP  4.2100  adimensional"
            ]
          },
          "metadata": {
            "tags": []
          },
          "execution_count": 101
        }
      ]
    },
    {
      "cell_type": "code",
      "metadata": {
        "id": "1Ilc7dzs13qe"
      },
      "source": [
        ""
      ],
      "execution_count": null,
      "outputs": []
    },
    {
      "cell_type": "code",
      "metadata": {
        "id": "5q2DKinb13oi"
      },
      "source": [
        ""
      ],
      "execution_count": null,
      "outputs": []
    },
    {
      "cell_type": "code",
      "metadata": {
        "id": "lpJcNiHc13mH"
      },
      "source": [
        ""
      ],
      "execution_count": null,
      "outputs": []
    }
  ]
}