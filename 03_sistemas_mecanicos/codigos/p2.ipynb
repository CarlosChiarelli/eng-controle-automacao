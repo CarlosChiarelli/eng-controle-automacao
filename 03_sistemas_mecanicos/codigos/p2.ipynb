{
 "cells": [
  {
   "cell_type": "markdown",
   "metadata": {},
   "source": [
    "# P2\n",
    "\n",
    "### Requisitos\n",
    "\n",
    "* $ W < 100 $ mm\n",
    "\n",
    "* fator de serviço $=3$"
   ]
  },
  {
   "cell_type": "code",
   "execution_count": 1,
   "metadata": {},
   "outputs": [],
   "source": [
    "from numpy import pi"
   ]
  },
  {
   "cell_type": "markdown",
   "metadata": {},
   "source": [
    "# 1)"
   ]
  },
  {
   "cell_type": "code",
   "execution_count": 2,
   "metadata": {},
   "outputs": [],
   "source": [
    "\n",
    "# razao velocidades\n",
    "mv1 = 0.5\n",
    "mv2 = 0.4\n",
    "mv = mv1 * mv2\n",
    "\n",
    "# potencia do redutor [HP]\n",
    "P = 3\n",
    "\n",
    "omega_in = 3000 # [RPM]\n",
    "\n",
    "# de 1500 a 2000 RPM\n",
    "omega_eixoInterm = 2000\n",
    "\n",
    "# fator de serviço\n",
    "fat_serv = 3\n"
   ]
  },
  {
   "cell_type": "code",
   "execution_count": 20,
   "metadata": {},
   "outputs": [
    {
     "data": {
      "text/plain": [
       "0.2"
      ]
     },
     "execution_count": 20,
     "metadata": {},
     "output_type": "execute_result"
    }
   ],
   "source": [
    "mv"
   ]
  },
  {
   "cell_type": "code",
   "execution_count": 3,
   "metadata": {},
   "outputs": [
    {
     "data": {
      "text/plain": [
       "2237.1000000000004"
      ]
     },
     "execution_count": 3,
     "metadata": {},
     "output_type": "execute_result"
    }
   ],
   "source": [
    "\n",
    "#P = P * fat_serv\n",
    "\n",
    "P *= 745.7 # HP -> W \n",
    "\n",
    "P\n"
   ]
  },
  {
   "cell_type": "code",
   "execution_count": 4,
   "metadata": {},
   "outputs": [
    {
     "data": {
      "text/plain": [
       "62.83185307179586"
      ]
     },
     "execution_count": 4,
     "metadata": {},
     "output_type": "execute_result"
    }
   ],
   "source": [
    "\n",
    "omega_out = omega_in*mv\n",
    "\n",
    "omega_out = omega_out / 60 * 2*pi # RPM -> rad/s\n",
    "\n",
    "omega_out\n"
   ]
  },
  {
   "cell_type": "code",
   "execution_count": 5,
   "metadata": {},
   "outputs": [
    {
     "data": {
      "text/plain": [
       "35.604552319087915"
      ]
     },
     "execution_count": 5,
     "metadata": {},
     "output_type": "execute_result"
    }
   ],
   "source": [
    "\n",
    "T = P / omega_out\n",
    "\n",
    "T\n"
   ]
  },
  {
   "cell_type": "code",
   "execution_count": 6,
   "metadata": {},
   "outputs": [
    {
     "data": {
      "text/plain": [
       "106.81365695726375"
      ]
     },
     "execution_count": 6,
     "metadata": {},
     "output_type": "execute_result"
    }
   ],
   "source": [
    "\n",
    "T = T * fat_serv\n",
    "\n",
    "T # [N.m]\n",
    "\n",
    "# mesmo torque tanto na parte 1 quanto na 2\n"
   ]
  },
  {
   "cell_type": "markdown",
   "metadata": {},
   "source": [
    "$$$$\n",
    "#### Assumindo o material: metal sintetizado\n",
    "$$$$"
   ]
  },
  {
   "cell_type": "code",
   "execution_count": 11,
   "metadata": {},
   "outputs": [],
   "source": [
    "\n",
    "# mi menor\n",
    "mi = .15\n",
    "\n",
    "# menor pressao\n",
    "p = 1030e3\n"
   ]
  },
  {
   "cell_type": "code",
   "execution_count": 12,
   "metadata": {},
   "outputs": [
    {
     "data": {
      "text/plain": [
       "0.08300079653851009"
      ]
     },
     "execution_count": 12,
     "metadata": {},
     "output_type": "execute_result"
    }
   ],
   "source": [
    "\n",
    "# ri = 0.577 * r0\n",
    "# T = pi * mi * ri * p * (r0^2 - ri^2)\n",
    "# T = pi * mi * ri * p * (r0^2 - 0.577r0^2)\n",
    "# T = pi * mi * ri * p * (r0^2 - 0.577r0^2)\n",
    "# T = pi * mi * 0.577r0 * p * 0.667r0^2\n",
    "\n",
    "r0 = (T / (pi * mi * .577 * p * .667))**(1/3)\n",
    "\n",
    "r0 # [m]\n"
   ]
  },
  {
   "cell_type": "code",
   "execution_count": 14,
   "metadata": {},
   "outputs": [
    {
     "data": {
      "text/plain": [
       "0.047891459602720315"
      ]
     },
     "execution_count": 14,
     "metadata": {},
     "output_type": "execute_result"
    }
   ],
   "source": [
    "\n",
    "ri = 0.577 * r0\n",
    "\n",
    "ri\n"
   ]
  },
  {
   "cell_type": "markdown",
   "metadata": {},
   "source": [
    "$$$$\n",
    "#### avaliando a pressão (chute do material)\n",
    "$$$$"
   ]
  },
  {
   "cell_type": "code",
   "execution_count": 16,
   "metadata": {},
   "outputs": [
    {
     "data": {
      "text/plain": [
       "1029890.3714896911"
      ]
     },
     "execution_count": 16,
     "metadata": {},
     "output_type": "execute_result"
    }
   ],
   "source": [
    "\n",
    "p_max = T / (pi * mi * ri * (r0**2 - ri**2))\n",
    "\n",
    "p_max\n"
   ]
  },
  {
   "cell_type": "markdown",
   "metadata": {},
   "source": [
    "$$$$\n",
    "#### atende! Esse é o material.\n",
    "$$$$"
   ]
  },
  {
   "cell_type": "code",
   "execution_count": 18,
   "metadata": {},
   "outputs": [
    {
     "data": {
      "text/plain": [
       "1030000.0"
      ]
     },
     "execution_count": 18,
     "metadata": {},
     "output_type": "execute_result"
    }
   ],
   "source": [
    "p"
   ]
  },
  {
   "cell_type": "code",
   "execution_count": null,
   "metadata": {},
   "outputs": [],
   "source": []
  },
  {
   "cell_type": "code",
   "execution_count": null,
   "metadata": {},
   "outputs": [],
   "source": []
  }
 ],
 "metadata": {
  "kernelspec": {
   "display_name": "Python 3",
   "language": "python",
   "name": "python3"
  },
  "language_info": {
   "codemirror_mode": {
    "name": "ipython",
    "version": 3
   },
   "file_extension": ".py",
   "mimetype": "text/x-python",
   "name": "python",
   "nbconvert_exporter": "python",
   "pygments_lexer": "ipython3",
   "version": "3.7.6"
  }
 },
 "nbformat": 4,
 "nbformat_minor": 4
}
