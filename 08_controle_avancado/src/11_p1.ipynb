{
 "cells": [
  {
   "cell_type": "code",
   "execution_count": 1,
   "id": "several-muslim",
   "metadata": {},
   "outputs": [],
   "source": [
    "from numpy.linalg import inv, eig\n",
    "from numpy.linalg import matrix_rank as rank\n",
    "from numpy import array, eye, dot, zeros, poly, ones\n",
    "from numpy import roots, arange, asarray, concatenate\n",
    "from functools import reduce\n",
    "import matplotlib.pyplot as plt\n",
    "from control import acker, place, ss, forced_response\n",
    "from control import obsv, ctrb, minreal, tf, ss2tf, tf2ss\n",
    "from IPython.display import Image\n",
    "\n",
    "def mul_mat(*args):\n",
    "    return reduce(dot, args)\n",
    "\n",
    "def plota_resp(T,\n",
    "               yout,\n",
    "               titulo,\n",
    "               xlabel='Tempos (s)',\n",
    "               ylabel='Altura da bolinha (m)\\n'):\n",
    "\n",
    "    plt.plot(T, yout)\n",
    "    plt.title(titulo + '\\n')\n",
    "    plt.xlabel('\\n' + xlabel)\n",
    "    plt.ylabel(ylabel + '\\n')\n",
    "    plt.grid(alpha=.5)\n",
    "    plt.show()\n",
    "    \n",
    "def plota_resp_sist(t, yout):\n",
    "    \n",
    "    plt.rcParams[\"figure.figsize\"] = (11,7)\n",
    "    \n",
    "    fig, axes = plt.subplots(4, 1)\n",
    "    ylabels = [\"x1\", \"x1'\", \"x2\", \"x2'\"]\n",
    "\n",
    "    for num, ax in enumerate(axes.flatten()):\n",
    "        ax.axhline(y=0, color='black')\n",
    "        ax.plot(T, yout[num], color='b')\n",
    "        ax.set_ylabel(ylabels[num])\n",
    "        ax.grid()\n",
    "\n",
    "    fig.tight_layout()\n",
    "    plt.show()    \n",
    "    \n",
    "# plots config    \n",
    "plt.rcParams[\"figure.figsize\"] = (11,7)\n",
    "plt.rcParams.update({'font.size': 15})\n"
   ]
  },
  {
   "cell_type": "code",
   "execution_count": 2,
   "id": "forbidden-consultancy",
   "metadata": {},
   "outputs": [],
   "source": [
    "\n",
    "# numerador e denominador da função transferência\n",
    "n = [2, 3, -4]\n",
    "d = [1, -1, 3, -1]\n",
    "\n",
    "out = tf2ss(n, d)"
   ]
  },
  {
   "cell_type": "code",
   "execution_count": 3,
   "id": "working-constraint",
   "metadata": {},
   "outputs": [
    {
     "data": {
      "text/plain": [
       "matrix([[ 1.,  3., -1.],\n",
       "        [-1., -0.,  0.],\n",
       "        [ 0.,  1.,  0.]])"
      ]
     },
     "execution_count": 3,
     "metadata": {},
     "output_type": "execute_result"
    }
   ],
   "source": [
    "out.A.round()"
   ]
  },
  {
   "cell_type": "code",
   "execution_count": 4,
   "id": "embedded-crawford",
   "metadata": {},
   "outputs": [
    {
     "data": {
      "text/plain": [
       "matrix([[-1.],\n",
       "        [ 0.],\n",
       "        [ 0.]])"
      ]
     },
     "execution_count": 4,
     "metadata": {},
     "output_type": "execute_result"
    }
   ],
   "source": [
    "out.B.round()"
   ]
  },
  {
   "cell_type": "code",
   "execution_count": 5,
   "id": "practical-boards",
   "metadata": {},
   "outputs": [
    {
     "data": {
      "text/plain": [
       "matrix([[-2.,  3., -4.]])"
      ]
     },
     "execution_count": 5,
     "metadata": {},
     "output_type": "execute_result"
    }
   ],
   "source": [
    "out.C.round()"
   ]
  },
  {
   "cell_type": "code",
   "execution_count": 6,
   "id": "documentary-mercury",
   "metadata": {},
   "outputs": [
    {
     "data": {
      "text/plain": [
       "matrix([[0.]])"
      ]
     },
     "execution_count": 6,
     "metadata": {},
     "output_type": "execute_result"
    }
   ],
   "source": [
    "out.D.round()"
   ]
  },
  {
   "cell_type": "markdown",
   "id": "infectious-cruise",
   "metadata": {},
   "source": [
    "$$ $$\n",
    "# P1\n",
    "$$ $$"
   ]
  },
  {
   "cell_type": "markdown",
   "id": "turned-oregon",
   "metadata": {},
   "source": [
    "$$ $$\n",
    "# Controlador \n",
    "$$ $$"
   ]
  },
  {
   "cell_type": "code",
   "execution_count": 7,
   "id": "annual-prototype",
   "metadata": {},
   "outputs": [],
   "source": [
    "# Modelo de planta utilizado\n",
    "A = array([[4,  -2],\n",
    "           [15, -9]])\n",
    "\n",
    "B = array([[1, 1]]).T\n",
    "\n",
    "C = array([1, 0])\n",
    "C2 = array([[1, 0]])\n",
    "\n",
    "D = array([0])\n",
    "\n",
    "out = ss2tf(A,B,C,D)\n",
    "\n",
    "sys = ss (A,B,C,D)"
   ]
  },
  {
   "cell_type": "code",
   "execution_count": 8,
   "id": "looking-happiness",
   "metadata": {},
   "outputs": [
    {
     "data": {
      "text/latex": [
       "$$\\frac{s + 7}{s^2 + 5 s - 6}$$"
      ],
      "text/plain": [
       "TransferFunction(array([1., 7.]), array([ 1.,  5., -6.]))"
      ]
     },
     "execution_count": 8,
     "metadata": {},
     "output_type": "execute_result"
    }
   ],
   "source": [
    "out"
   ]
  },
  {
   "cell_type": "code",
   "execution_count": 9,
   "id": "organizational-simon",
   "metadata": {},
   "outputs": [],
   "source": [
    "# [Ac,Bc,Cc,T] = ctrbf(A,B,C)\n",
    "# [Ao,Bo,Co,T] = obsvf(A,B,C)"
   ]
  },
  {
   "cell_type": "code",
   "execution_count": 10,
   "id": "copyrighted-demographic",
   "metadata": {},
   "outputs": [],
   "source": [
    "P = array([B, dot(A,B)])"
   ]
  },
  {
   "cell_type": "code",
   "execution_count": 11,
   "id": "proper-advantage",
   "metadata": {},
   "outputs": [
    {
     "data": {
      "text/plain": [
       "array([[1, 2],\n",
       "       [1, 6]])"
      ]
     },
     "execution_count": 11,
     "metadata": {},
     "output_type": "execute_result"
    }
   ],
   "source": [
    "P = P.reshape((2,2)).T\n",
    "\n",
    "P"
   ]
  },
  {
   "cell_type": "code",
   "execution_count": 12,
   "id": "finished-reproduction",
   "metadata": {},
   "outputs": [],
   "source": [
    "T = P\n",
    "\n",
    "Abar = mul_mat(inv(T), A, T)\n",
    "Bbar = dot(inv(T), B)\n",
    "Cbar = dot(C, T)"
   ]
  },
  {
   "cell_type": "code",
   "execution_count": 13,
   "id": "transparent-gilbert",
   "metadata": {},
   "outputs": [
    {
     "data": {
      "text/plain": [
       "array([[ 1.5 , -0.5 ],\n",
       "       [-0.25,  0.25]])"
      ]
     },
     "execution_count": 13,
     "metadata": {},
     "output_type": "execute_result"
    }
   ],
   "source": [
    "iP = inv(P)\n",
    "\n",
    "iP"
   ]
  },
  {
   "cell_type": "code",
   "execution_count": 14,
   "id": "classical-easter",
   "metadata": {},
   "outputs": [
    {
     "data": {
      "text/plain": [
       "array([-0.25,  0.25])"
      ]
     },
     "execution_count": 14,
     "metadata": {},
     "output_type": "execute_result"
    }
   ],
   "source": [
    "iP[1,:]"
   ]
  },
  {
   "cell_type": "code",
   "execution_count": 15,
   "id": "becoming-circus",
   "metadata": {},
   "outputs": [],
   "source": [
    "p = iP[1,:]\n",
    "\n",
    "iPP=[p, dot(p,A)]\n",
    "\n",
    "T = inv(iPP)\n",
    "\n",
    "Ac = mul_mat(inv(T), A, T)\n",
    "\n",
    "Bc = dot(inv(T), B)\n",
    "\n",
    "Cc = dot(C, T)"
   ]
  },
  {
   "cell_type": "code",
   "execution_count": 16,
   "id": "ideal-advantage",
   "metadata": {},
   "outputs": [
    {
     "data": {
      "text/plain": [
       "array([[ 0.,  1.],\n",
       "       [ 6., -5.]])"
      ]
     },
     "execution_count": 16,
     "metadata": {},
     "output_type": "execute_result"
    }
   ],
   "source": [
    "Ac"
   ]
  },
  {
   "cell_type": "code",
   "execution_count": 17,
   "id": "aerial-preference",
   "metadata": {},
   "outputs": [
    {
     "data": {
      "text/plain": [
       "array([[0.],\n",
       "       [1.]])"
      ]
     },
     "execution_count": 17,
     "metadata": {},
     "output_type": "execute_result"
    }
   ],
   "source": [
    "Bc"
   ]
  },
  {
   "cell_type": "code",
   "execution_count": 18,
   "id": "framed-lighting",
   "metadata": {},
   "outputs": [
    {
     "data": {
      "text/plain": [
       "array([7., 1.])"
      ]
     },
     "execution_count": 18,
     "metadata": {},
     "output_type": "execute_result"
    }
   ],
   "source": [
    "Cc"
   ]
  },
  {
   "cell_type": "code",
   "execution_count": 19,
   "id": "duplicate-monster",
   "metadata": {},
   "outputs": [
    {
     "data": {
      "text/plain": [
       "array([[-7.5,  5.5]])"
      ]
     },
     "execution_count": 19,
     "metadata": {},
     "output_type": "execute_result"
    }
   ],
   "source": [
    "Kc = array([8, -2])\n",
    "\n",
    "K = dot(Kc,inv(T))\n",
    "\n",
    "K = array([K])\n",
    "\n",
    "K"
   ]
  },
  {
   "cell_type": "code",
   "execution_count": 20,
   "id": "described-virus",
   "metadata": {},
   "outputs": [
    {
     "data": {
      "text/plain": [
       "array([-1., -2.])"
      ]
     },
     "execution_count": 20,
     "metadata": {},
     "output_type": "execute_result"
    }
   ],
   "source": [
    "D, V = eig(A-dot(B,K))\n",
    "D"
   ]
  },
  {
   "cell_type": "code",
   "execution_count": 21,
   "id": "adjusted-banks",
   "metadata": {},
   "outputs": [
    {
     "data": {
      "text/plain": [
       "array([[  0.,   4.],\n",
       "       [-30.,  26.]])"
      ]
     },
     "execution_count": 21,
     "metadata": {},
     "output_type": "execute_result"
    }
   ],
   "source": [
    "# checar pela F. de Ackerman\n",
    "en = array([0, 1])\n",
    "phi_des = dot(A,A) + 3*A + 2*eye(2)\n",
    "\n",
    "phi_des"
   ]
  },
  {
   "cell_type": "code",
   "execution_count": 22,
   "id": "animated-receipt",
   "metadata": {},
   "outputs": [
    {
     "data": {
      "text/plain": [
       "array([-7.5,  5.5])"
      ]
     },
     "execution_count": 22,
     "metadata": {},
     "output_type": "execute_result"
    }
   ],
   "source": [
    "K2 = mul_mat(en, inv(P), phi_des)\n",
    "K2"
   ]
  },
  {
   "cell_type": "code",
   "execution_count": 23,
   "id": "parental-filling",
   "metadata": {},
   "outputs": [
    {
     "data": {
      "text/plain": [
       "array([[ 1.5 , -0.5 ],\n",
       "       [-0.25,  0.25]])"
      ]
     },
     "execution_count": 23,
     "metadata": {},
     "output_type": "execute_result"
    }
   ],
   "source": [
    "inv(P)"
   ]
  },
  {
   "cell_type": "code",
   "execution_count": 24,
   "id": "coordinated-chain",
   "metadata": {},
   "outputs": [
    {
     "data": {
      "text/plain": [
       "array([[ True,  True]])"
      ]
     },
     "execution_count": 24,
     "metadata": {},
     "output_type": "execute_result"
    }
   ],
   "source": [
    "K==K2"
   ]
  },
  {
   "cell_type": "code",
   "execution_count": null,
   "id": "medieval-islam",
   "metadata": {},
   "outputs": [],
   "source": []
  },
  {
   "cell_type": "markdown",
   "id": "terminal-vampire",
   "metadata": {},
   "source": [
    "$$ $$\n",
    "# Observador \n",
    "$$ $$"
   ]
  },
  {
   "cell_type": "code",
   "execution_count": 25,
   "id": "entire-france",
   "metadata": {},
   "outputs": [],
   "source": [
    "Q = array([C, dot(C,A)])\n",
    "\n",
    "T = inv(Q)\n",
    "\n",
    "Abar = mul_mat(inv(T), A, T)\n",
    "Bbar = dot(inv(T), B)\n",
    "Cbar = dot(C, T)"
   ]
  },
  {
   "cell_type": "code",
   "execution_count": 26,
   "id": "marked-examination",
   "metadata": {},
   "outputs": [
    {
     "data": {
      "text/plain": [
       "array([[ 1,  0],\n",
       "       [ 4, -2]])"
      ]
     },
     "execution_count": 26,
     "metadata": {},
     "output_type": "execute_result"
    }
   ],
   "source": [
    "Q"
   ]
  },
  {
   "cell_type": "code",
   "execution_count": 27,
   "id": "french-anderson",
   "metadata": {},
   "outputs": [
    {
     "data": {
      "text/plain": [
       "2"
      ]
     },
     "execution_count": 27,
     "metadata": {},
     "output_type": "execute_result"
    }
   ],
   "source": [
    "rank(Q)"
   ]
  },
  {
   "cell_type": "code",
   "execution_count": 28,
   "id": "legal-homework",
   "metadata": {},
   "outputs": [],
   "source": [
    "iQ = inv(Q)"
   ]
  },
  {
   "cell_type": "code",
   "execution_count": 29,
   "id": "enclosed-nevada",
   "metadata": {},
   "outputs": [
    {
     "data": {
      "text/plain": [
       "array([[ 1. ,  0. ],\n",
       "       [ 2. , -0.5]])"
      ]
     },
     "execution_count": 29,
     "metadata": {},
     "output_type": "execute_result"
    }
   ],
   "source": [
    "iQ"
   ]
  },
  {
   "cell_type": "code",
   "execution_count": 30,
   "id": "forty-brunswick",
   "metadata": {},
   "outputs": [
    {
     "data": {
      "text/plain": [
       "array([ 0. , -0.5])"
      ]
     },
     "execution_count": 30,
     "metadata": {},
     "output_type": "execute_result"
    }
   ],
   "source": [
    "iQ[:,1]"
   ]
  },
  {
   "cell_type": "code",
   "execution_count": 31,
   "id": "tight-stopping",
   "metadata": {},
   "outputs": [],
   "source": [
    "q = iQ[:,1]\n",
    "\n",
    "QQ = array([q, dot(A,q)]).T\n",
    "\n",
    "T = (QQ)\n",
    "\n",
    "Ao = mul_mat(inv(T), A, T)\n",
    "\n",
    "Bo = dot(inv(T), B)\n",
    "\n",
    "Co = dot(C, T)"
   ]
  },
  {
   "cell_type": "code",
   "execution_count": 32,
   "id": "numerical-carbon",
   "metadata": {},
   "outputs": [
    {
     "data": {
      "text/plain": [
       "array([[ 0. ,  1. ],\n",
       "       [-0.5,  4.5]])"
      ]
     },
     "execution_count": 32,
     "metadata": {},
     "output_type": "execute_result"
    }
   ],
   "source": [
    "#T.reshape((2,2))\n",
    "T"
   ]
  },
  {
   "cell_type": "code",
   "execution_count": 33,
   "id": "covered-ensemble",
   "metadata": {},
   "outputs": [
    {
     "data": {
      "text/plain": [
       "array([[ 0.,  6.],\n",
       "       [ 1., -5.]])"
      ]
     },
     "execution_count": 33,
     "metadata": {},
     "output_type": "execute_result"
    }
   ],
   "source": [
    "Ao"
   ]
  },
  {
   "cell_type": "code",
   "execution_count": 34,
   "id": "excited-custom",
   "metadata": {},
   "outputs": [
    {
     "data": {
      "text/plain": [
       "array([[7.],\n",
       "       [1.]])"
      ]
     },
     "execution_count": 34,
     "metadata": {},
     "output_type": "execute_result"
    }
   ],
   "source": [
    "Bo"
   ]
  },
  {
   "cell_type": "code",
   "execution_count": 35,
   "id": "instrumental-trace",
   "metadata": {},
   "outputs": [
    {
     "data": {
      "text/plain": [
       "array([0., 1.])"
      ]
     },
     "execution_count": 35,
     "metadata": {},
     "output_type": "execute_result"
    }
   ],
   "source": [
    "Co"
   ]
  },
  {
   "cell_type": "code",
   "execution_count": 36,
   "id": "fundamental-marriage",
   "metadata": {},
   "outputs": [
    {
     "data": {
      "text/plain": [
       "array([[ 9. ],\n",
       "       [13.5]])"
      ]
     },
     "execution_count": 36,
     "metadata": {},
     "output_type": "execute_result"
    }
   ],
   "source": [
    "Lo = array([[54, 9]]).T\n",
    "\n",
    "L = dot(T,Lo)\n",
    "\n",
    "L"
   ]
  },
  {
   "cell_type": "code",
   "execution_count": 37,
   "id": "appointed-helping",
   "metadata": {},
   "outputs": [
    {
     "data": {
      "text/plain": [
       "array([-6., -8.])"
      ]
     },
     "execution_count": 37,
     "metadata": {},
     "output_type": "execute_result"
    }
   ],
   "source": [
    "D, V = eig(A-dot(L,C2))\n",
    "D"
   ]
  },
  {
   "cell_type": "code",
   "execution_count": null,
   "id": "unexpected-jungle",
   "metadata": {},
   "outputs": [],
   "source": []
  },
  {
   "cell_type": "code",
   "execution_count": 38,
   "id": "signal-yahoo",
   "metadata": {},
   "outputs": [
    {
     "data": {
      "text/plain": [
       "array([[ 1,  4],\n",
       "       [ 0, -2]])"
      ]
     },
     "execution_count": 38,
     "metadata": {},
     "output_type": "execute_result"
    }
   ],
   "source": [
    "# checar pela F. de Ackerman\n",
    "Pbar = array([C.T, dot(A.T,C.T)]).T\n",
    "\n",
    "Pbar"
   ]
  },
  {
   "cell_type": "code",
   "execution_count": 39,
   "id": "divided-complex",
   "metadata": {},
   "outputs": [
    {
     "data": {
      "text/plain": [
       "array([[ 90., 135.],\n",
       "       [-18., -27.]])"
      ]
     },
     "execution_count": 39,
     "metadata": {},
     "output_type": "execute_result"
    }
   ],
   "source": [
    "\n",
    "en = array([0, 1])\n",
    "phi_des = dot(A.T,A.T) + 14*A.T + 48*eye(2)\n",
    "\n",
    "phi_des"
   ]
  },
  {
   "cell_type": "code",
   "execution_count": 40,
   "id": "developing-apparel",
   "metadata": {},
   "outputs": [
    {
     "data": {
      "text/plain": [
       "array([ 9. , 13.5])"
      ]
     },
     "execution_count": 40,
     "metadata": {},
     "output_type": "execute_result"
    }
   ],
   "source": [
    "L = mul_mat(en, inv(Pbar), phi_des)\n",
    "\n",
    "L"
   ]
  },
  {
   "cell_type": "code",
   "execution_count": null,
   "id": "northern-florist",
   "metadata": {},
   "outputs": [],
   "source": []
  },
  {
   "cell_type": "code",
   "execution_count": null,
   "id": "becoming-honor",
   "metadata": {},
   "outputs": [],
   "source": []
  },
  {
   "cell_type": "code",
   "execution_count": 41,
   "id": "judicial-excerpt",
   "metadata": {},
   "outputs": [],
   "source": [
    "D2 = array([[0]])\n",
    "\n",
    "a1_ = concatenate((A, B), axis=1)\n",
    "a2_ = concatenate((C2, D2), axis=1)\n",
    "\n",
    "AA = concatenate((a1_, a2_), axis=0)\n"
   ]
  },
  {
   "cell_type": "code",
   "execution_count": 42,
   "id": "later-prerequisite",
   "metadata": {},
   "outputs": [
    {
     "data": {
      "text/plain": [
       "array([[ 4, -2],\n",
       "       [15, -9]])"
      ]
     },
     "execution_count": 42,
     "metadata": {},
     "output_type": "execute_result"
    }
   ],
   "source": [
    "A"
   ]
  },
  {
   "cell_type": "code",
   "execution_count": 43,
   "id": "recognized-frost",
   "metadata": {},
   "outputs": [
    {
     "data": {
      "text/plain": [
       "array([[1],\n",
       "       [1]])"
      ]
     },
     "execution_count": 43,
     "metadata": {},
     "output_type": "execute_result"
    }
   ],
   "source": [
    "B"
   ]
  },
  {
   "cell_type": "code",
   "execution_count": 44,
   "id": "established-classroom",
   "metadata": {},
   "outputs": [
    {
     "data": {
      "text/plain": [
       "array([[1, 0]])"
      ]
     },
     "execution_count": 44,
     "metadata": {},
     "output_type": "execute_result"
    }
   ],
   "source": [
    "C2"
   ]
  },
  {
   "cell_type": "code",
   "execution_count": 45,
   "id": "reflected-tourism",
   "metadata": {},
   "outputs": [
    {
     "data": {
      "text/plain": [
       "array([[0]])"
      ]
     },
     "execution_count": 45,
     "metadata": {},
     "output_type": "execute_result"
    }
   ],
   "source": [
    "D2"
   ]
  },
  {
   "cell_type": "code",
   "execution_count": 46,
   "id": "first-coral",
   "metadata": {},
   "outputs": [
    {
     "data": {
      "text/plain": [
       "array([[ 4, -2,  1],\n",
       "       [15, -9,  1],\n",
       "       [ 1,  0,  0]])"
      ]
     },
     "execution_count": 46,
     "metadata": {},
     "output_type": "execute_result"
    }
   ],
   "source": [
    "AA"
   ]
  },
  {
   "cell_type": "code",
   "execution_count": 47,
   "id": "eleven-mozambique",
   "metadata": {},
   "outputs": [
    {
     "data": {
      "text/plain": [
       "array([[0],\n",
       "       [0],\n",
       "       [2]])"
      ]
     },
     "execution_count": 47,
     "metadata": {},
     "output_type": "execute_result"
    }
   ],
   "source": [
    "# set point é 2\n",
    "rss = 2\n",
    "t = array([[0, 0, rss]]).T\n",
    "\n",
    "t"
   ]
  },
  {
   "cell_type": "code",
   "execution_count": 48,
   "id": "smoking-loading",
   "metadata": {},
   "outputs": [],
   "source": [
    "# xss -> 2x1\n",
    "# uss -> 1x1\n",
    "# t = [[xss], [uss]]\n",
    "aux = dot(inv(AA),t)\n",
    "\n",
    "\n",
    "xss = aux[0:2,:]\n",
    "\n",
    "# valor de controle\n",
    "uss = aux[2,:]"
   ]
  },
  {
   "cell_type": "code",
   "execution_count": 56,
   "id": "perceived-heart",
   "metadata": {},
   "outputs": [
    {
     "data": {
      "text/plain": [
       "array([[ 2.        ],\n",
       "       [ 3.14285714],\n",
       "       [-1.71428571]])"
      ]
     },
     "execution_count": 56,
     "metadata": {},
     "output_type": "execute_result"
    }
   ],
   "source": [
    "aux"
   ]
  },
  {
   "cell_type": "code",
   "execution_count": 49,
   "id": "handmade-launch",
   "metadata": {},
   "outputs": [
    {
     "data": {
      "text/plain": [
       "array([[2.        ],\n",
       "       [3.14285714]])"
      ]
     },
     "execution_count": 49,
     "metadata": {},
     "output_type": "execute_result"
    }
   ],
   "source": [
    "# x1 tem que ficar em 2 e x2 ficar em 3.14\n",
    "xss"
   ]
  },
  {
   "cell_type": "code",
   "execution_count": 55,
   "id": "sapphire-brand",
   "metadata": {},
   "outputs": [
    {
     "data": {
      "text/plain": [
       "array([-1.71428571])"
      ]
     },
     "execution_count": 55,
     "metadata": {},
     "output_type": "execute_result"
    }
   ],
   "source": [
    "uss"
   ]
  },
  {
   "cell_type": "code",
   "execution_count": 50,
   "id": "magnetic-metallic",
   "metadata": {},
   "outputs": [
    {
     "data": {
      "text/plain": [
       "array([[-7.5,  5.5]])"
      ]
     },
     "execution_count": 50,
     "metadata": {},
     "output_type": "execute_result"
    }
   ],
   "source": [
    "K"
   ]
  },
  {
   "cell_type": "code",
   "execution_count": 51,
   "id": "induced-cologne",
   "metadata": {},
   "outputs": [],
   "source": [
    "Nx = xss/rss\n",
    "Nu = uss/rss\n",
    "Nbar = Nu + dot(K,Nx)"
   ]
  },
  {
   "cell_type": "code",
   "execution_count": 52,
   "id": "received-reservoir",
   "metadata": {},
   "outputs": [],
   "source": [
    "Nbar = float(Nbar)"
   ]
  },
  {
   "cell_type": "code",
   "execution_count": 53,
   "id": "instrumental-episode",
   "metadata": {},
   "outputs": [
    {
     "data": {
      "text/plain": [
       "0.2857142857142855"
      ]
     },
     "execution_count": 53,
     "metadata": {},
     "output_type": "execute_result"
    }
   ],
   "source": [
    "Nbar"
   ]
  },
  {
   "cell_type": "code",
   "execution_count": null,
   "id": "wound-christian",
   "metadata": {},
   "outputs": [],
   "source": []
  },
  {
   "cell_type": "code",
   "execution_count": 54,
   "id": "occupational-services",
   "metadata": {},
   "outputs": [
    {
     "ename": "ValueError",
     "evalue": "shapes (2,) and (1,2) not aligned: 2 (dim 0) != 1 (dim 0)",
     "output_type": "error",
     "traceback": [
      "\u001b[0;31m---------------------------------------------------------------------------\u001b[0m",
      "\u001b[0;31mValueError\u001b[0m                                Traceback (most recent call last)",
      "\u001b[0;32m<ipython-input-54-a0a7ef4e1971>\u001b[0m in \u001b[0;36m<module>\u001b[0;34m\u001b[0m\n\u001b[1;32m      3\u001b[0m \u001b[0ma12\u001b[0m \u001b[0;34m=\u001b[0m \u001b[0mdot\u001b[0m\u001b[0;34m(\u001b[0m\u001b[0mB\u001b[0m\u001b[0;34m,\u001b[0m\u001b[0mK\u001b[0m\u001b[0;34m)\u001b[0m\u001b[0;34m\u001b[0m\u001b[0;34m\u001b[0m\u001b[0m\n\u001b[1;32m      4\u001b[0m \u001b[0ma21\u001b[0m \u001b[0;34m=\u001b[0m \u001b[0mzeros\u001b[0m\u001b[0;34m(\u001b[0m\u001b[0mA\u001b[0m\u001b[0;34m.\u001b[0m\u001b[0mshape\u001b[0m\u001b[0;34m)\u001b[0m\u001b[0;34m\u001b[0m\u001b[0;34m\u001b[0m\u001b[0m\n\u001b[0;32m----> 5\u001b[0;31m \u001b[0ma22\u001b[0m \u001b[0;34m=\u001b[0m \u001b[0mA\u001b[0m \u001b[0;34m-\u001b[0m \u001b[0mdot\u001b[0m\u001b[0;34m(\u001b[0m\u001b[0mL\u001b[0m\u001b[0;34m,\u001b[0m\u001b[0mC2\u001b[0m\u001b[0;34m)\u001b[0m\u001b[0;34m\u001b[0m\u001b[0;34m\u001b[0m\u001b[0m\n\u001b[0m\u001b[1;32m      6\u001b[0m \u001b[0;34m\u001b[0m\u001b[0m\n\u001b[1;32m      7\u001b[0m \u001b[0ma1_\u001b[0m \u001b[0;34m=\u001b[0m \u001b[0mconcatenate\u001b[0m\u001b[0;34m(\u001b[0m\u001b[0;34m(\u001b[0m\u001b[0ma11\u001b[0m\u001b[0;34m,\u001b[0m \u001b[0ma12\u001b[0m\u001b[0;34m)\u001b[0m\u001b[0;34m,\u001b[0m \u001b[0maxis\u001b[0m\u001b[0;34m=\u001b[0m\u001b[0;36m1\u001b[0m\u001b[0;34m)\u001b[0m\u001b[0;34m\u001b[0m\u001b[0;34m\u001b[0m\u001b[0m\n",
      "\u001b[0;32m<__array_function__ internals>\u001b[0m in \u001b[0;36mdot\u001b[0;34m(*args, **kwargs)\u001b[0m\n",
      "\u001b[0;31mValueError\u001b[0m: shapes (2,) and (1,2) not aligned: 2 (dim 0) != 1 (dim 0)"
     ]
    }
   ],
   "source": [
    "\n",
    "# construindo At\n",
    "a11 = A - dot(B,K)\n",
    "a12 = dot(B,K)\n",
    "a21 = zeros(A.shape)\n",
    "a22 = A - dot(L,C2)\n",
    "\n",
    "a1_ = concatenate((a11, a12), axis=1)\n",
    "a2_ = concatenate((a21, a22), axis=1)\n",
    "\n",
    "Ace = concatenate((a1_, a2_), axis=0)\n",
    "\n",
    "# construindo Bt\n",
    "b11 = B*Nbar\n",
    "b21 = zeros(B.shape)\n",
    "\n",
    "Bce = concatenate((b11, b21), axis=0)\n",
    "\n",
    "# construindo Ct\n",
    "c11 = C2\n",
    "c12 = zeros(C2.shape)\n",
    "\n",
    "Cce = concatenate((c11, c12), axis=1)\n"
   ]
  },
  {
   "cell_type": "code",
   "execution_count": null,
   "id": "ambient-algeria",
   "metadata": {},
   "outputs": [],
   "source": [
    "Ace"
   ]
  },
  {
   "cell_type": "code",
   "execution_count": null,
   "id": "worst-macedonia",
   "metadata": {},
   "outputs": [],
   "source": [
    "Bce"
   ]
  },
  {
   "cell_type": "code",
   "execution_count": null,
   "id": "aware-identification",
   "metadata": {},
   "outputs": [],
   "source": [
    "Cce"
   ]
  },
  {
   "cell_type": "code",
   "execution_count": null,
   "id": "common-least",
   "metadata": {},
   "outputs": [],
   "source": []
  }
 ],
 "metadata": {
  "kernelspec": {
   "display_name": "Python 3",
   "language": "python",
   "name": "python3"
  },
  "language_info": {
   "codemirror_mode": {
    "name": "ipython",
    "version": 3
   },
   "file_extension": ".py",
   "mimetype": "text/x-python",
   "name": "python",
   "nbconvert_exporter": "python",
   "pygments_lexer": "ipython3",
   "version": "3.7.9"
  }
 },
 "nbformat": 4,
 "nbformat_minor": 5
}
