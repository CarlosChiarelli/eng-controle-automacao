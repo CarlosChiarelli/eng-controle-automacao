{
 "cells": [
  {
   "cell_type": "markdown",
   "id": "english-fusion",
   "metadata": {},
   "source": [
    "# Aula 1\n",
    "$$ $$"
   ]
  },
  {
   "cell_type": "code",
   "execution_count": 1,
   "id": "dominican-pierce",
   "metadata": {},
   "outputs": [],
   "source": [
    "import numpy as np"
   ]
  },
  {
   "cell_type": "code",
   "execution_count": 14,
   "id": "drawn-reason",
   "metadata": {},
   "outputs": [
    {
     "name": "stdout",
     "output_type": "stream",
     "text": [
      "B: \n",
      "[[ 0.   0.5]\n",
      " [-1.   0.5]] \n",
      "\n",
      "x: \n",
      "[2 2]\n"
     ]
    }
   ],
   "source": [
    "B = np.array([[0, .5], [-1, .5]])\n",
    "\n",
    "x = np.array([2, 2])\n",
    "              \n",
    "print(f'B: \\n{B} \\n\\nx: \\n{x}')"
   ]
  },
  {
   "cell_type": "code",
   "execution_count": 18,
   "id": "endless-tsunami",
   "metadata": {},
   "outputs": [
    {
     "data": {
      "text/plain": [
       "array([ 1., -1.])"
      ]
     },
     "execution_count": 18,
     "metadata": {},
     "output_type": "execute_result"
    }
   ],
   "source": [
    "x_ = np.dot(B, x)\n",
    "\n",
    "x_"
   ]
  },
  {
   "cell_type": "code",
   "execution_count": 19,
   "id": "polar-quick",
   "metadata": {},
   "outputs": [
    {
     "data": {
      "text/plain": [
       "(2,)"
      ]
     },
     "execution_count": 19,
     "metadata": {},
     "output_type": "execute_result"
    }
   ],
   "source": [
    "x_.shape"
   ]
  },
  {
   "cell_type": "code",
   "execution_count": 28,
   "id": "dutch-freedom",
   "metadata": {},
   "outputs": [
    {
     "data": {
      "text/plain": [
       "True"
      ]
     },
     "execution_count": 28,
     "metadata": {},
     "output_type": "execute_result"
    }
   ],
   "source": [
    "B_1 = np.linalg.inv(B)\n",
    "\n",
    "(np.dot(B_1, x_) == x).all()"
   ]
  },
  {
   "cell_type": "markdown",
   "id": "painted-consideration",
   "metadata": {},
   "source": [
    "$$ $$\n",
    "## Exercício 1: ex1_base\n",
    "$$ $$"
   ]
  },
  {
   "cell_type": "code",
   "execution_count": 81,
   "id": "express-substance",
   "metadata": {},
   "outputs": [
    {
     "name": "stdout",
     "output_type": "stream",
     "text": [
      "Base 1: \n",
      "[[1 0]\n",
      " [0 1]] \n",
      "\n",
      "Base 2: \n",
      "[[ 0.33333333 -0.33333333]\n",
      " [ 0.33333333  0.16666667]]\n"
     ]
    }
   ],
   "source": [
    "# base R2 \n",
    "e1 = np.array([1, 0])\n",
    "e2 = np.array([0, 1])\n",
    "base1 = np.array([e1, e2])\n",
    "\n",
    "e1_ = np.array([1/3, -1/3])\n",
    "e2_ = np.array([1/3, 1/6])\n",
    "base2 = np.array([e1_, e2_])\n",
    "\n",
    "x = np.array([2 ,2])\n",
    "\n",
    "print(f'Base 1: \\n{base1} \\n\\nBase 2: \\n{base2}')"
   ]
  },
  {
   "cell_type": "code",
   "execution_count": 82,
   "id": "stunning-framework",
   "metadata": {},
   "outputs": [
    {
     "data": {
      "text/plain": [
       "array([[ 1., -2.],\n",
       "       [ 2.,  2.]])"
      ]
     },
     "execution_count": 82,
     "metadata": {},
     "output_type": "execute_result"
    }
   ],
   "source": [
    "B_col1 = np.dot(np.linalg.inv(base2), e1)\n",
    "B_col2 = np.dot(np.linalg.inv(base2), e2)\n",
    "\n",
    "B = np.array([B_col1, B_col2])\n",
    "\n",
    "B"
   ]
  },
  {
   "cell_type": "code",
   "execution_count": 83,
   "id": "threatened-soldier",
   "metadata": {},
   "outputs": [
    {
     "data": {
      "text/plain": [
       "array([2, 2])"
      ]
     },
     "execution_count": 83,
     "metadata": {},
     "output_type": "execute_result"
    }
   ],
   "source": [
    "x"
   ]
  },
  {
   "cell_type": "code",
   "execution_count": 84,
   "id": "featured-organizer",
   "metadata": {},
   "outputs": [
    {
     "data": {
      "text/plain": [
       "array([-2.,  8.])"
      ]
     },
     "execution_count": 84,
     "metadata": {},
     "output_type": "execute_result"
    }
   ],
   "source": [
    "# gabarito x_ = [-2, 8]^T (transposto)\n",
    "x_ = np.dot(B, x)\n",
    "x_"
   ]
  },
  {
   "cell_type": "code",
   "execution_count": 85,
   "id": "bronze-retirement",
   "metadata": {},
   "outputs": [
    {
     "data": {
      "text/plain": [
       "True"
      ]
     },
     "execution_count": 85,
     "metadata": {},
     "output_type": "execute_result"
    }
   ],
   "source": [
    "(np.dot(x_, base2) == x).all()"
   ]
  }
 ],
 "metadata": {
  "kernelspec": {
   "display_name": "Python 3",
   "language": "python",
   "name": "python3"
  },
  "language_info": {
   "codemirror_mode": {
    "name": "ipython",
    "version": 3
   },
   "file_extension": ".py",
   "mimetype": "text/x-python",
   "name": "python",
   "nbconvert_exporter": "python",
   "pygments_lexer": "ipython3",
   "version": "3.7.9"
  }
 },
 "nbformat": 4,
 "nbformat_minor": 5
}
