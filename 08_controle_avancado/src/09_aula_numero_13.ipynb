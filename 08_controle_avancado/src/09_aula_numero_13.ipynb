{
 "cells": [
  {
   "cell_type": "code",
   "execution_count": 1,
   "id": "featured-cambridge",
   "metadata": {},
   "outputs": [],
   "source": [
    "from numpy.linalg import inv, eig\n",
    "from numpy.linalg import matrix_rank as rank\n",
    "from numpy import array, eye, dot, zeros, poly, ones\n",
    "from numpy import roots, arange, asarray, concatenate\n",
    "from functools import reduce\n",
    "import matplotlib.pyplot as plt\n",
    "from control import acker, place, ss, forced_response\n",
    "from control import obsv, ctrb, minreal, tf\n",
    "from IPython.display import Image\n",
    "\n",
    "def mul_mat(*args):\n",
    "    return reduce(dot, args)\n",
    "\n",
    "def plota_resp(T,\n",
    "               yout,\n",
    "               titulo,\n",
    "               xlabel='Tempos (s)',\n",
    "               ylabel='Altura da bolinha (m)\\n'):\n",
    "\n",
    "    plt.plot(T, yout)\n",
    "    plt.title(titulo + '\\n')\n",
    "    plt.xlabel('\\n' + xlabel)\n",
    "    plt.ylabel(ylabel + '\\n')\n",
    "    plt.grid(alpha=.5)\n",
    "    plt.show()\n",
    "    \n",
    "def plota_resp_sist(t, yout):\n",
    "    \n",
    "    plt.rcParams[\"figure.figsize\"] = (11,7)\n",
    "    \n",
    "    fig, axes = plt.subplots(4, 1)\n",
    "    ylabels = [\"x1\", \"x1'\", \"x2\", \"x2'\"]\n",
    "\n",
    "    for num, ax in enumerate(axes.flatten()):\n",
    "        ax.axhline(y=0, color='black')\n",
    "        ax.plot(T, yout[num], color='b')\n",
    "        ax.set_ylabel(ylabels[num])\n",
    "        ax.grid()\n",
    "\n",
    "    fig.tight_layout()\n",
    "    plt.show()    \n",
    "    \n",
    "# plots config    \n",
    "plt.rcParams[\"figure.figsize\"] = (11,7)\n",
    "plt.rcParams.update({'font.size': 15})\n"
   ]
  },
  {
   "cell_type": "markdown",
   "id": "industrial-possession",
   "metadata": {},
   "source": [
    "$$ $$\n",
    "# Aula 13\n",
    "$$ $$\n",
    "## Exercício 01\n",
    "$$ $$"
   ]
  },
  {
   "cell_type": "code",
   "execution_count": 23,
   "id": "million-chosen",
   "metadata": {},
   "outputs": [],
   "source": [
    "A = array([[0,   1],\n",
    "           [-2, -2]])\n",
    "\n",
    "B = array([[1, 3]]).T\n",
    "\n",
    "C = array([1, 0])\n",
    "\n",
    "D = 0"
   ]
  },
  {
   "cell_type": "code",
   "execution_count": 67,
   "id": "answering-singapore",
   "metadata": {},
   "outputs": [],
   "source": [
    "A = array([[-2, 1],\n",
    "           [-2, 0]])\n",
    "\n",
    "B = array([[1, 3]]).T\n",
    "\n",
    "C = array([1, 0])\n",
    "\n",
    "D = 0"
   ]
  },
  {
   "cell_type": "code",
   "execution_count": 68,
   "id": "cathedral-belly",
   "metadata": {},
   "outputs": [
    {
     "data": {
      "text/plain": [
       "array([[ 1,  1],\n",
       "       [ 3, -2]])"
      ]
     },
     "execution_count": 68,
     "metadata": {},
     "output_type": "execute_result"
    }
   ],
   "source": [
    "\n",
    "# forma controlável\n",
    "P = array([B, dot(A,B)]).T\n",
    "\n",
    "P = P.reshape((2,2))\n",
    "\n",
    "P"
   ]
  },
  {
   "cell_type": "code",
   "execution_count": 69,
   "id": "varying-linux",
   "metadata": {},
   "outputs": [
    {
     "data": {
      "text/plain": [
       "2"
      ]
     },
     "execution_count": 69,
     "metadata": {},
     "output_type": "execute_result"
    }
   ],
   "source": [
    "rank(P)"
   ]
  },
  {
   "cell_type": "markdown",
   "id": "binary-cleaners",
   "metadata": {},
   "source": [
    "Se o rank não é cheio preciso completar com as colunas para obter uma matriz LI.\n",
    "$$ $$"
   ]
  },
  {
   "cell_type": "code",
   "execution_count": 70,
   "id": "wanted-watershed",
   "metadata": {},
   "outputs": [],
   "source": [
    "T = P\n",
    "\n",
    "A_bar = mul_mat(inv(T),A,T)\n",
    "B_bar = mul_mat(inv(T),B)\n",
    "C_bar = mul_mat(C,T)"
   ]
  },
  {
   "cell_type": "code",
   "execution_count": 72,
   "id": "inappropriate-detection",
   "metadata": {},
   "outputs": [
    {
     "data": {
      "text/plain": [
       "array([[ 0., -2.],\n",
       "       [ 1., -2.]])"
      ]
     },
     "execution_count": 72,
     "metadata": {},
     "output_type": "execute_result"
    }
   ],
   "source": [
    "A_bar.round()"
   ]
  },
  {
   "cell_type": "code",
   "execution_count": 73,
   "id": "aerial-robertson",
   "metadata": {},
   "outputs": [
    {
     "data": {
      "text/plain": [
       "array([[1.],\n",
       "       [0.]])"
      ]
     },
     "execution_count": 73,
     "metadata": {},
     "output_type": "execute_result"
    }
   ],
   "source": [
    "B_bar"
   ]
  },
  {
   "cell_type": "code",
   "execution_count": 74,
   "id": "alive-giant",
   "metadata": {},
   "outputs": [
    {
     "data": {
      "text/plain": [
       "array([1, 0])"
      ]
     },
     "execution_count": 74,
     "metadata": {},
     "output_type": "execute_result"
    }
   ],
   "source": [
    "C"
   ]
  },
  {
   "cell_type": "code",
   "execution_count": 75,
   "id": "looking-ceiling",
   "metadata": {},
   "outputs": [
    {
     "data": {
      "text/plain": [
       "array([ 0.6, -0.2])"
      ]
     },
     "execution_count": 75,
     "metadata": {},
     "output_type": "execute_result"
    }
   ],
   "source": [
    "\n",
    "# forma controlador\n",
    "iP = inv(P)\n",
    "p = iP[1,:] # última linha\n",
    " \n",
    "p"
   ]
  },
  {
   "cell_type": "code",
   "execution_count": 76,
   "id": "lovely-postcard",
   "metadata": {},
   "outputs": [],
   "source": [
    "aux = array([p, dot(p,A)])\n",
    "T = inv(aux)\n",
    "\n",
    "Ac = mul_mat(inv(T),A,T)\n",
    "Bc = mul_mat(inv(T),B)\n",
    "Cc = mul_mat(C,T)"
   ]
  },
  {
   "cell_type": "code",
   "execution_count": 77,
   "id": "intense-workstation",
   "metadata": {},
   "outputs": [
    {
     "data": {
      "text/plain": [
       "array([[ 0.,  1.],\n",
       "       [-2., -2.]])"
      ]
     },
     "execution_count": 77,
     "metadata": {},
     "output_type": "execute_result"
    }
   ],
   "source": [
    "Ac"
   ]
  },
  {
   "cell_type": "code",
   "execution_count": 79,
   "id": "verified-keyboard",
   "metadata": {},
   "outputs": [
    {
     "data": {
      "text/plain": [
       "array([[-0.],\n",
       "       [ 1.]])"
      ]
     },
     "execution_count": 79,
     "metadata": {},
     "output_type": "execute_result"
    }
   ],
   "source": [
    "Bc.round()"
   ]
  },
  {
   "cell_type": "code",
   "execution_count": 80,
   "id": "demographic-interval",
   "metadata": {},
   "outputs": [
    {
     "data": {
      "text/plain": [
       "array([3., 1.])"
      ]
     },
     "execution_count": 80,
     "metadata": {},
     "output_type": "execute_result"
    }
   ],
   "source": [
    "Cc.round()"
   ]
  },
  {
   "cell_type": "markdown",
   "id": "loved-chance",
   "metadata": {},
   "source": [
    "$$ $$\n",
    "## Exercício 02\n",
    "$$ $$"
   ]
  },
  {
   "cell_type": "code",
   "execution_count": 81,
   "id": "guilty-arrival",
   "metadata": {},
   "outputs": [],
   "source": [
    "A = array([[-2, 1],\n",
    "           [-2, 0]])\n",
    "\n",
    "B = array([[1, 0]]).T\n",
    "\n",
    "C = array([1, 3])\n",
    "\n",
    "D = 0"
   ]
  },
  {
   "cell_type": "code",
   "execution_count": 82,
   "id": "cultural-subscriber",
   "metadata": {},
   "outputs": [],
   "source": [
    "\n",
    "# forma observável\n",
    "Q = array([C, dot(C,A)])\n",
    "\n",
    "T = inv(Q)\n",
    "\n",
    "A_bar = mul_mat(inv(T),A,T)\n",
    "B_bar = mul_mat(inv(T),B)\n",
    "C_bar = mul_mat(C,T)"
   ]
  },
  {
   "cell_type": "code",
   "execution_count": 83,
   "id": "equivalent-monday",
   "metadata": {},
   "outputs": [
    {
     "data": {
      "text/plain": [
       "array([[ 1,  3],\n",
       "       [-8,  1]])"
      ]
     },
     "execution_count": 83,
     "metadata": {},
     "output_type": "execute_result"
    }
   ],
   "source": [
    "Q"
   ]
  },
  {
   "cell_type": "code",
   "execution_count": 85,
   "id": "regular-victorian",
   "metadata": {},
   "outputs": [
    {
     "data": {
      "text/plain": [
       "array([[ 0.,  1.],\n",
       "       [-2., -2.]])"
      ]
     },
     "execution_count": 85,
     "metadata": {},
     "output_type": "execute_result"
    }
   ],
   "source": [
    "A_bar"
   ]
  },
  {
   "cell_type": "code",
   "execution_count": 86,
   "id": "valuable-parts",
   "metadata": {},
   "outputs": [
    {
     "data": {
      "text/plain": [
       "array([[ 1.],\n",
       "       [-8.]])"
      ]
     },
     "execution_count": 86,
     "metadata": {},
     "output_type": "execute_result"
    }
   ],
   "source": [
    "B_bar"
   ]
  },
  {
   "cell_type": "code",
   "execution_count": 87,
   "id": "mature-smoke",
   "metadata": {},
   "outputs": [
    {
     "data": {
      "text/plain": [
       "array([1., 0.])"
      ]
     },
     "execution_count": 87,
     "metadata": {},
     "output_type": "execute_result"
    }
   ],
   "source": [
    "C_bar"
   ]
  },
  {
   "cell_type": "code",
   "execution_count": 36,
   "id": "restricted-edgar",
   "metadata": {},
   "outputs": [],
   "source": [
    "\n",
    "# forma controlador\n",
    "iQ = inv(Q)\n",
    "q = iP[:,1] # última coluna\n",
    " \n",
    "aux = array([q, dot(A,q)])\n",
    "QQ = inv(aux)\n",
    "\n",
    "T = QQ\n",
    "\n",
    "Ao = mul_mat(inv(T),A,T)\n",
    "Bo = mul_mat(inv(T),B)\n",
    "Co = mul_mat(C,T)"
   ]
  },
  {
   "cell_type": "code",
   "execution_count": 38,
   "id": "computational-ozone",
   "metadata": {},
   "outputs": [
    {
     "data": {
      "text/plain": [
       "array([[ -1.,   0.],\n",
       "       [307.,  -4.]])"
      ]
     },
     "execution_count": 38,
     "metadata": {},
     "output_type": "execute_result"
    }
   ],
   "source": [
    "Ao.round()"
   ]
  },
  {
   "cell_type": "code",
   "execution_count": 39,
   "id": "nutritional-jason",
   "metadata": {},
   "outputs": [
    {
     "data": {
      "text/plain": [
       "array([[0.11764706],\n",
       "       [4.        ]])"
      ]
     },
     "execution_count": 39,
     "metadata": {},
     "output_type": "execute_result"
    }
   ],
   "source": [
    "Bo"
   ]
  }
 ],
 "metadata": {
  "kernelspec": {
   "display_name": "Python 3",
   "language": "python",
   "name": "python3"
  },
  "language_info": {
   "codemirror_mode": {
    "name": "ipython",
    "version": 3
   },
   "file_extension": ".py",
   "mimetype": "text/x-python",
   "name": "python",
   "nbconvert_exporter": "python",
   "pygments_lexer": "ipython3",
   "version": "3.7.9"
  }
 },
 "nbformat": 4,
 "nbformat_minor": 5
}
