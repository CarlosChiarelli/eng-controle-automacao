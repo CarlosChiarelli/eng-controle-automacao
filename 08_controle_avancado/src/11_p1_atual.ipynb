{
 "cells": [
  {
   "cell_type": "code",
   "execution_count": 1,
   "id": "psychological-reputation",
   "metadata": {},
   "outputs": [],
   "source": [
    "from numpy.linalg import inv, eig\n",
    "from numpy.linalg import matrix_rank as rank\n",
    "from numpy import array, eye, dot, zeros, poly, ones\n",
    "from numpy import roots, arange, asarray, concatenate\n",
    "from functools import reduce\n",
    "import matplotlib.pyplot as plt\n",
    "from control import acker, place, ss, forced_response\n",
    "from control import obsv, ctrb, minreal, tf, ss2tf, tf2ss\n",
    "from IPython.display import Image\n",
    "\n",
    "def mul_mat(*args):\n",
    "    return reduce(dot, args)\n",
    "\n",
    "def plota_resp(T,\n",
    "               yout,\n",
    "               titulo,\n",
    "               xlabel='Tempos (s)',\n",
    "               ylabel='Altura da bolinha (m)\\n'):\n",
    "\n",
    "    plt.plot(T, yout)\n",
    "    plt.title(titulo + '\\n')\n",
    "    plt.xlabel('\\n' + xlabel)\n",
    "    plt.ylabel(ylabel + '\\n')\n",
    "    plt.grid(alpha=.5)\n",
    "    plt.show()\n",
    "    \n",
    "def plota_resp_sist(t, yout):\n",
    "    \n",
    "    plt.rcParams[\"figure.figsize\"] = (11,7)\n",
    "    \n",
    "    fig, axes = plt.subplots(4, 1)\n",
    "    ylabels = [\"x1\", \"x1'\", \"x2\", \"x2'\"]\n",
    "\n",
    "    for num, ax in enumerate(axes.flatten()):\n",
    "        ax.axhline(y=0, color='black')\n",
    "        ax.plot(T, yout[num], color='b')\n",
    "        ax.set_ylabel(ylabels[num])\n",
    "        ax.grid()\n",
    "\n",
    "    fig.tight_layout()\n",
    "    plt.show()    \n",
    "    \n",
    "# plots config    \n",
    "plt.rcParams[\"figure.figsize\"] = (11,7)\n",
    "plt.rcParams.update({'font.size': 15})\n"
   ]
  },
  {
   "cell_type": "code",
   "execution_count": 2,
   "id": "least-thousand",
   "metadata": {},
   "outputs": [],
   "source": [
    "\n",
    "# numerador e denominador da função transferência\n",
    "n = [2, 3, -4]\n",
    "d = [1, -1, 3, -1]\n",
    "\n",
    "out = tf2ss(n, d)"
   ]
  },
  {
   "cell_type": "code",
   "execution_count": 3,
   "id": "designing-receptor",
   "metadata": {},
   "outputs": [
    {
     "data": {
      "text/plain": [
       "matrix([[ 1.,  3., -1.],\n",
       "        [-1., -0.,  0.],\n",
       "        [ 0.,  1.,  0.]])"
      ]
     },
     "execution_count": 3,
     "metadata": {},
     "output_type": "execute_result"
    }
   ],
   "source": [
    "out.A.round()"
   ]
  },
  {
   "cell_type": "code",
   "execution_count": 4,
   "id": "rotary-freeware",
   "metadata": {},
   "outputs": [
    {
     "data": {
      "text/plain": [
       "matrix([[-1.],\n",
       "        [ 0.],\n",
       "        [ 0.]])"
      ]
     },
     "execution_count": 4,
     "metadata": {},
     "output_type": "execute_result"
    }
   ],
   "source": [
    "out.B.round()"
   ]
  },
  {
   "cell_type": "code",
   "execution_count": 5,
   "id": "accompanied-backing",
   "metadata": {},
   "outputs": [
    {
     "data": {
      "text/plain": [
       "matrix([[-2.,  3., -4.]])"
      ]
     },
     "execution_count": 5,
     "metadata": {},
     "output_type": "execute_result"
    }
   ],
   "source": [
    "out.C.round()"
   ]
  },
  {
   "cell_type": "code",
   "execution_count": 6,
   "id": "rapid-george",
   "metadata": {},
   "outputs": [
    {
     "data": {
      "text/plain": [
       "matrix([[0.]])"
      ]
     },
     "execution_count": 6,
     "metadata": {},
     "output_type": "execute_result"
    }
   ],
   "source": [
    "out.D.round()"
   ]
  },
  {
   "cell_type": "markdown",
   "id": "executed-fairy",
   "metadata": {},
   "source": [
    "$$ $$\n",
    "# P1\n",
    "$$ $$"
   ]
  },
  {
   "cell_type": "markdown",
   "id": "laughing-transcript",
   "metadata": {},
   "source": [
    "$$ $$\n",
    "# Controlador \n",
    "$$ $$"
   ]
  },
  {
   "cell_type": "code",
   "execution_count": 7,
   "id": "essential-vacuum",
   "metadata": {},
   "outputs": [],
   "source": [
    "# Modelo de planta utilizado\n",
    "A = array([[5,  10],\n",
    "           [8,  5]])\n",
    "\n",
    "B = array([[1, 1]]).T\n",
    "\n",
    "C = array([1, 0])\n",
    "C2 = array([[1, 0]])\n",
    "\n",
    "D = array([0])\n",
    "\n",
    "out = ss2tf(A,B,C,D)\n",
    "\n",
    "sys = ss (A,B,C,D)"
   ]
  },
  {
   "cell_type": "code",
   "execution_count": 8,
   "id": "elder-michael",
   "metadata": {},
   "outputs": [
    {
     "data": {
      "text/latex": [
       "$$\\frac{s + 5}{s^2 - 10 s - 55}$$"
      ],
      "text/plain": [
       "TransferFunction(array([1., 5.]), array([  1., -10., -55.]))"
      ]
     },
     "execution_count": 8,
     "metadata": {},
     "output_type": "execute_result"
    }
   ],
   "source": [
    "out"
   ]
  },
  {
   "cell_type": "code",
   "execution_count": 9,
   "id": "settled-sunday",
   "metadata": {},
   "outputs": [],
   "source": [
    "# [Ac,Bc,Cc,T] = ctrbf(A,B,C)\n",
    "# [Ao,Bo,Co,T] = obsvf(A,B,C)"
   ]
  },
  {
   "cell_type": "code",
   "execution_count": 10,
   "id": "attached-matter",
   "metadata": {},
   "outputs": [],
   "source": [
    "P = array([B, dot(A,B)])"
   ]
  },
  {
   "cell_type": "code",
   "execution_count": 11,
   "id": "several-distribution",
   "metadata": {},
   "outputs": [
    {
     "data": {
      "text/plain": [
       "array([[ 1, 15],\n",
       "       [ 1, 13]])"
      ]
     },
     "execution_count": 11,
     "metadata": {},
     "output_type": "execute_result"
    }
   ],
   "source": [
    "P = P.reshape((2,2)).T\n",
    "\n",
    "P"
   ]
  },
  {
   "cell_type": "code",
   "execution_count": 12,
   "id": "joint-converter",
   "metadata": {},
   "outputs": [
    {
     "data": {
      "text/plain": [
       "2"
      ]
     },
     "execution_count": 12,
     "metadata": {},
     "output_type": "execute_result"
    }
   ],
   "source": [
    "rank(P)"
   ]
  },
  {
   "cell_type": "code",
   "execution_count": 13,
   "id": "numerous-scholar",
   "metadata": {},
   "outputs": [],
   "source": [
    "T = P\n",
    "\n",
    "Abar = mul_mat(inv(T), A, T)\n",
    "Bbar = dot(inv(T), B)\n",
    "Cbar = dot(C, T)"
   ]
  },
  {
   "cell_type": "code",
   "execution_count": 14,
   "id": "elect-consumption",
   "metadata": {},
   "outputs": [
    {
     "data": {
      "text/plain": [
       "array([[-6.5,  7.5],\n",
       "       [ 0.5, -0.5]])"
      ]
     },
     "execution_count": 14,
     "metadata": {},
     "output_type": "execute_result"
    }
   ],
   "source": [
    "iP = inv(P)\n",
    "\n",
    "iP"
   ]
  },
  {
   "cell_type": "code",
   "execution_count": 15,
   "id": "clear-plaza",
   "metadata": {},
   "outputs": [
    {
     "data": {
      "text/plain": [
       "array([ 0.5, -0.5])"
      ]
     },
     "execution_count": 15,
     "metadata": {},
     "output_type": "execute_result"
    }
   ],
   "source": [
    "iP[1,:]"
   ]
  },
  {
   "cell_type": "code",
   "execution_count": 16,
   "id": "turned-marker",
   "metadata": {},
   "outputs": [],
   "source": [
    "p = iP[1,:]\n",
    "\n",
    "iPP=[p, dot(p,A)]\n",
    "\n",
    "T = inv(iPP)\n",
    "\n",
    "Ac = mul_mat(inv(T), A, T)\n",
    "\n",
    "Bc = dot(inv(T), B)\n",
    "\n",
    "Cc = dot(C, T)"
   ]
  },
  {
   "cell_type": "code",
   "execution_count": 17,
   "id": "round-priest",
   "metadata": {},
   "outputs": [
    {
     "data": {
      "text/plain": [
       "array([-1.5,  2.5])"
      ]
     },
     "execution_count": 17,
     "metadata": {},
     "output_type": "execute_result"
    }
   ],
   "source": [
    "dot(p,A)"
   ]
  },
  {
   "cell_type": "code",
   "execution_count": 18,
   "id": "dramatic-momentum",
   "metadata": {},
   "outputs": [
    {
     "data": {
      "text/plain": [
       "[array([ 0.5, -0.5]), array([-1.5,  2.5])]"
      ]
     },
     "execution_count": 18,
     "metadata": {},
     "output_type": "execute_result"
    }
   ],
   "source": [
    "iPP"
   ]
  },
  {
   "cell_type": "code",
   "execution_count": 19,
   "id": "amino-importance",
   "metadata": {},
   "outputs": [
    {
     "data": {
      "text/plain": [
       "array([[ 0.5, -0.5],\n",
       "       [-1.5,  2.5]])"
      ]
     },
     "execution_count": 19,
     "metadata": {},
     "output_type": "execute_result"
    }
   ],
   "source": [
    "inv(T)"
   ]
  },
  {
   "cell_type": "code",
   "execution_count": 20,
   "id": "smart-sperm",
   "metadata": {},
   "outputs": [
    {
     "data": {
      "text/plain": [
       "array([[5., 1.],\n",
       "       [3., 1.]])"
      ]
     },
     "execution_count": 20,
     "metadata": {},
     "output_type": "execute_result"
    }
   ],
   "source": [
    "T"
   ]
  },
  {
   "cell_type": "code",
   "execution_count": 21,
   "id": "organized-formula",
   "metadata": {},
   "outputs": [
    {
     "data": {
      "text/plain": [
       "array([[ 0.,  1.],\n",
       "       [55., 10.]])"
      ]
     },
     "execution_count": 21,
     "metadata": {},
     "output_type": "execute_result"
    }
   ],
   "source": [
    "Ac.round()"
   ]
  },
  {
   "cell_type": "code",
   "execution_count": 22,
   "id": "instructional-forestry",
   "metadata": {},
   "outputs": [
    {
     "data": {
      "text/plain": [
       "array([[0.],\n",
       "       [1.]])"
      ]
     },
     "execution_count": 22,
     "metadata": {},
     "output_type": "execute_result"
    }
   ],
   "source": [
    "Bc.round()"
   ]
  },
  {
   "cell_type": "code",
   "execution_count": 23,
   "id": "capable-quilt",
   "metadata": {},
   "outputs": [
    {
     "data": {
      "text/plain": [
       "array([5., 1.])"
      ]
     },
     "execution_count": 23,
     "metadata": {},
     "output_type": "execute_result"
    }
   ],
   "source": [
    "Cc"
   ]
  },
  {
   "cell_type": "code",
   "execution_count": 24,
   "id": "matched-developer",
   "metadata": {},
   "outputs": [
    {
     "data": {
      "text/plain": [
       "array([[11., 10.]])"
      ]
     },
     "execution_count": 24,
     "metadata": {},
     "output_type": "execute_result"
    }
   ],
   "source": [
    "Kc = array([85, 21])\n",
    "\n",
    "K = dot(Kc,inv(T))\n",
    "\n",
    "K = array([K])\n",
    "\n",
    "K"
   ]
  },
  {
   "cell_type": "code",
   "execution_count": 25,
   "id": "offshore-average",
   "metadata": {},
   "outputs": [
    {
     "data": {
      "text/plain": [
       "array([-5., -6.])"
      ]
     },
     "execution_count": 25,
     "metadata": {},
     "output_type": "execute_result"
    }
   ],
   "source": [
    "D, V = eig(A-dot(B,K))\n",
    "D"
   ]
  },
  {
   "cell_type": "code",
   "execution_count": 26,
   "id": "aware-catering",
   "metadata": {},
   "outputs": [
    {
     "data": {
      "text/plain": [
       "array([[-6.,  0.],\n",
       "       [-3., -5.]])"
      ]
     },
     "execution_count": 26,
     "metadata": {},
     "output_type": "execute_result"
    }
   ],
   "source": [
    "A-dot(B,K)"
   ]
  },
  {
   "cell_type": "code",
   "execution_count": 27,
   "id": "prescription-beach",
   "metadata": {},
   "outputs": [
    {
     "data": {
      "text/plain": [
       "array([[190., 210.],\n",
       "       [168., 190.]])"
      ]
     },
     "execution_count": 27,
     "metadata": {},
     "output_type": "execute_result"
    }
   ],
   "source": [
    "# checar pela F. de Ackerman\n",
    "en = array([0, 1])\n",
    "phi_des = dot(A,A) + 11*A + 30*eye(2)\n",
    "\n",
    "phi_des"
   ]
  },
  {
   "cell_type": "code",
   "execution_count": 28,
   "id": "alive-vegetarian",
   "metadata": {},
   "outputs": [
    {
     "data": {
      "text/plain": [
       "array([11., 10.])"
      ]
     },
     "execution_count": 28,
     "metadata": {},
     "output_type": "execute_result"
    }
   ],
   "source": [
    "K2 = mul_mat(en, inv(P), phi_des)\n",
    "K2"
   ]
  },
  {
   "cell_type": "code",
   "execution_count": 29,
   "id": "awful-xerox",
   "metadata": {},
   "outputs": [
    {
     "data": {
      "text/plain": [
       "array([[-6.5,  7.5],\n",
       "       [ 0.5, -0.5]])"
      ]
     },
     "execution_count": 29,
     "metadata": {},
     "output_type": "execute_result"
    }
   ],
   "source": [
    "inv(P)"
   ]
  },
  {
   "cell_type": "code",
   "execution_count": 30,
   "id": "small-anchor",
   "metadata": {},
   "outputs": [
    {
     "data": {
      "text/plain": [
       "array([[False,  True]])"
      ]
     },
     "execution_count": 30,
     "metadata": {},
     "output_type": "execute_result"
    }
   ],
   "source": [
    "K==K2"
   ]
  },
  {
   "cell_type": "code",
   "execution_count": 31,
   "id": "opening-offering",
   "metadata": {},
   "outputs": [
    {
     "data": {
      "text/plain": [
       "array([11., 10.])"
      ]
     },
     "execution_count": 31,
     "metadata": {},
     "output_type": "execute_result"
    }
   ],
   "source": [
    "K2"
   ]
  },
  {
   "cell_type": "code",
   "execution_count": 32,
   "id": "bound-female",
   "metadata": {},
   "outputs": [
    {
     "data": {
      "text/plain": [
       "array([[11., 10.]])"
      ]
     },
     "execution_count": 32,
     "metadata": {},
     "output_type": "execute_result"
    }
   ],
   "source": [
    "K"
   ]
  },
  {
   "cell_type": "code",
   "execution_count": null,
   "id": "expired-input",
   "metadata": {},
   "outputs": [],
   "source": []
  },
  {
   "cell_type": "code",
   "execution_count": null,
   "id": "guilty-ending",
   "metadata": {},
   "outputs": [],
   "source": []
  },
  {
   "cell_type": "markdown",
   "id": "comparative-geography",
   "metadata": {},
   "source": [
    "$$ $$\n",
    "# Observador \n",
    "$$ $$"
   ]
  },
  {
   "cell_type": "code",
   "execution_count": 33,
   "id": "noticed-resource",
   "metadata": {},
   "outputs": [],
   "source": [
    "Q = array([C, dot(C,A)])\n",
    "\n",
    "T = inv(Q)\n",
    "\n",
    "Abar = mul_mat(inv(T), A, T)\n",
    "Bbar = dot(inv(T), B)\n",
    "Cbar = dot(C, T)"
   ]
  },
  {
   "cell_type": "code",
   "execution_count": 34,
   "id": "binary-montreal",
   "metadata": {},
   "outputs": [
    {
     "data": {
      "text/plain": [
       "array([[ 1,  0],\n",
       "       [ 5, 10]])"
      ]
     },
     "execution_count": 34,
     "metadata": {},
     "output_type": "execute_result"
    }
   ],
   "source": [
    "Q"
   ]
  },
  {
   "cell_type": "code",
   "execution_count": 35,
   "id": "amazing-angola",
   "metadata": {},
   "outputs": [
    {
     "data": {
      "text/plain": [
       "2"
      ]
     },
     "execution_count": 35,
     "metadata": {},
     "output_type": "execute_result"
    }
   ],
   "source": [
    "rank(Q)"
   ]
  },
  {
   "cell_type": "code",
   "execution_count": 36,
   "id": "nervous-roberts",
   "metadata": {},
   "outputs": [],
   "source": [
    "iQ = inv(Q)"
   ]
  },
  {
   "cell_type": "code",
   "execution_count": 37,
   "id": "current-burning",
   "metadata": {},
   "outputs": [
    {
     "data": {
      "text/plain": [
       "array([[ 1. ,  0. ],\n",
       "       [-0.5,  0.1]])"
      ]
     },
     "execution_count": 37,
     "metadata": {},
     "output_type": "execute_result"
    }
   ],
   "source": [
    "iQ"
   ]
  },
  {
   "cell_type": "code",
   "execution_count": 38,
   "id": "regulation-thesaurus",
   "metadata": {},
   "outputs": [
    {
     "data": {
      "text/plain": [
       "array([0. , 0.1])"
      ]
     },
     "execution_count": 38,
     "metadata": {},
     "output_type": "execute_result"
    }
   ],
   "source": [
    "iQ[:,1]"
   ]
  },
  {
   "cell_type": "code",
   "execution_count": 39,
   "id": "fatal-moore",
   "metadata": {},
   "outputs": [],
   "source": [
    "q = iQ[:,1]\n",
    "\n",
    "QQ = array([q, dot(A,q)]).T\n",
    "#QQ = array([q, dot(A,q)])\n",
    "\n",
    "T = (QQ)\n",
    "\n",
    "Ao = mul_mat(inv(T), A, T)\n",
    "\n",
    "Bo = dot(inv(T), B)\n",
    "\n",
    "Co = dot(C, T)"
   ]
  },
  {
   "cell_type": "code",
   "execution_count": 40,
   "id": "asian-analysis",
   "metadata": {},
   "outputs": [
    {
     "data": {
      "text/plain": [
       "array([[0. , 1. ],\n",
       "       [0.1, 0.5]])"
      ]
     },
     "execution_count": 40,
     "metadata": {},
     "output_type": "execute_result"
    }
   ],
   "source": [
    "#T.reshape((2,2))\n",
    "T"
   ]
  },
  {
   "cell_type": "code",
   "execution_count": 41,
   "id": "educated-sucking",
   "metadata": {},
   "outputs": [
    {
     "data": {
      "text/plain": [
       "array([[ 0., 55.],\n",
       "       [ 1., 10.]])"
      ]
     },
     "execution_count": 41,
     "metadata": {},
     "output_type": "execute_result"
    }
   ],
   "source": [
    "Ao"
   ]
  },
  {
   "cell_type": "code",
   "execution_count": 42,
   "id": "august-interference",
   "metadata": {},
   "outputs": [
    {
     "data": {
      "text/plain": [
       "array([[5.],\n",
       "       [1.]])"
      ]
     },
     "execution_count": 42,
     "metadata": {},
     "output_type": "execute_result"
    }
   ],
   "source": [
    "Bo"
   ]
  },
  {
   "cell_type": "code",
   "execution_count": 43,
   "id": "fifteen-hopkins",
   "metadata": {},
   "outputs": [
    {
     "data": {
      "text/plain": [
       "array([0., 1.])"
      ]
     },
     "execution_count": 43,
     "metadata": {},
     "output_type": "execute_result"
    }
   ],
   "source": [
    "Co"
   ]
  },
  {
   "cell_type": "code",
   "execution_count": 44,
   "id": "cleared-wesley",
   "metadata": {},
   "outputs": [
    {
     "data": {
      "text/plain": [
       "480"
      ]
     },
     "execution_count": 44,
     "metadata": {},
     "output_type": "execute_result"
    }
   ],
   "source": [
    "20*24"
   ]
  },
  {
   "cell_type": "code",
   "execution_count": 45,
   "id": "plain-martial",
   "metadata": {},
   "outputs": [
    {
     "data": {
      "text/plain": [
       "33"
      ]
     },
     "execution_count": 45,
     "metadata": {},
     "output_type": "execute_result"
    }
   ],
   "source": [
    "18+15"
   ]
  },
  {
   "cell_type": "code",
   "execution_count": 46,
   "id": "greek-rogers",
   "metadata": {},
   "outputs": [
    {
     "data": {
      "text/plain": [
       "245.8"
      ]
     },
     "execution_count": 46,
     "metadata": {},
     "output_type": "execute_result"
    }
   ],
   "source": [
    "33+55\n",
    "270-24.2"
   ]
  },
  {
   "cell_type": "code",
   "execution_count": 47,
   "id": "liberal-reproduction",
   "metadata": {},
   "outputs": [
    {
     "data": {
      "text/plain": [
       "270"
      ]
     },
     "execution_count": 47,
     "metadata": {},
     "output_type": "execute_result"
    }
   ],
   "source": [
    "15*18"
   ]
  },
  {
   "cell_type": "code",
   "execution_count": 48,
   "id": "dynamic-adventure",
   "metadata": {},
   "outputs": [
    {
     "data": {
      "text/plain": [
       "325"
      ]
     },
     "execution_count": 48,
     "metadata": {},
     "output_type": "execute_result"
    }
   ],
   "source": [
    "270+55"
   ]
  },
  {
   "cell_type": "code",
   "execution_count": 49,
   "id": "instrumental-sphere",
   "metadata": {},
   "outputs": [
    {
     "data": {
      "text/plain": [
       "535"
      ]
     },
     "execution_count": 49,
     "metadata": {},
     "output_type": "execute_result"
    }
   ],
   "source": [
    "480+55"
   ]
  },
  {
   "cell_type": "code",
   "execution_count": 50,
   "id": "bronze-mathematics",
   "metadata": {},
   "outputs": [
    {
     "data": {
      "text/plain": [
       "array([[0. , 1. ],\n",
       "       [0.1, 0.5]])"
      ]
     },
     "execution_count": 50,
     "metadata": {},
     "output_type": "execute_result"
    }
   ],
   "source": [
    "T"
   ]
  },
  {
   "cell_type": "code",
   "execution_count": 51,
   "id": "welsh-overview",
   "metadata": {},
   "outputs": [
    {
     "data": {
      "text/plain": [
       "array([[325],\n",
       "       [ 44]])"
      ]
     },
     "execution_count": 51,
     "metadata": {},
     "output_type": "execute_result"
    }
   ],
   "source": [
    "Lo = array([[325, 44]]).T\n",
    "\n",
    "# inversa\n",
    "#Lo = array([[245.8, 88]]).T\n",
    "\n",
    "# ganho 4x\n",
    "#Lo = array([[535, 55]]).T\n",
    "\n",
    "Lo"
   ]
  },
  {
   "cell_type": "code",
   "execution_count": 52,
   "id": "pressed-mexico",
   "metadata": {},
   "outputs": [
    {
     "data": {
      "text/plain": [
       "array([[44. ],\n",
       "       [54.5]])"
      ]
     },
     "execution_count": 52,
     "metadata": {},
     "output_type": "execute_result"
    }
   ],
   "source": [
    "L = dot(T,Lo)\n",
    "\n",
    "L"
   ]
  },
  {
   "cell_type": "code",
   "execution_count": 53,
   "id": "criminal-curve",
   "metadata": {},
   "outputs": [
    {
     "data": {
      "text/plain": [
       "array([[44. ],\n",
       "       [54.5]])"
      ]
     },
     "execution_count": 53,
     "metadata": {},
     "output_type": "execute_result"
    }
   ],
   "source": [
    "L"
   ]
  },
  {
   "cell_type": "code",
   "execution_count": 54,
   "id": "soviet-accommodation",
   "metadata": {},
   "outputs": [
    {
     "data": {
      "text/plain": [
       "array([[-39. ,  10. ],\n",
       "       [-46.5,   5. ]])"
      ]
     },
     "execution_count": 54,
     "metadata": {},
     "output_type": "execute_result"
    }
   ],
   "source": [
    "A-dot(L,C2)"
   ]
  },
  {
   "cell_type": "code",
   "execution_count": 55,
   "id": "elder-parliament",
   "metadata": {},
   "outputs": [
    {
     "data": {
      "text/plain": [
       "array([[1, 0]])"
      ]
     },
     "execution_count": 55,
     "metadata": {},
     "output_type": "execute_result"
    }
   ],
   "source": [
    "C2"
   ]
  },
  {
   "cell_type": "code",
   "execution_count": 56,
   "id": "intellectual-castle",
   "metadata": {},
   "outputs": [
    {
     "data": {
      "text/plain": [
       "array([-21., -13.])"
      ]
     },
     "execution_count": 56,
     "metadata": {},
     "output_type": "execute_result"
    }
   ],
   "source": [
    "D, V = eig((A-dot(L,C2)))\n",
    "D.round()"
   ]
  },
  {
   "cell_type": "code",
   "execution_count": null,
   "id": "placed-census",
   "metadata": {},
   "outputs": [],
   "source": []
  },
  {
   "cell_type": "code",
   "execution_count": null,
   "id": "electric-stretch",
   "metadata": {},
   "outputs": [],
   "source": []
  },
  {
   "cell_type": "code",
   "execution_count": 57,
   "id": "danish-resolution",
   "metadata": {},
   "outputs": [
    {
     "data": {
      "text/plain": [
       "array([[ 1,  5],\n",
       "       [ 0, 10]])"
      ]
     },
     "execution_count": 57,
     "metadata": {},
     "output_type": "execute_result"
    }
   ],
   "source": [
    "# checar pela F. de Ackerman\n",
    "Pbar = array([C.T, dot(A.T,C.T)]).T\n",
    "\n",
    "Pbar"
   ]
  },
  {
   "cell_type": "code",
   "execution_count": 58,
   "id": "fatty-equity",
   "metadata": {},
   "outputs": [
    {
     "data": {
      "text/plain": [
       "array([[540., 344.],\n",
       "       [430., 540.]])"
      ]
     },
     "execution_count": 58,
     "metadata": {},
     "output_type": "execute_result"
    }
   ],
   "source": [
    "\n",
    "en = array([0, 1])\n",
    "phi_des = dot(A.T,A.T) + 33*A.T + 270*eye(2)\n",
    "\n",
    "phi_des"
   ]
  },
  {
   "cell_type": "code",
   "execution_count": 59,
   "id": "aerial-railway",
   "metadata": {},
   "outputs": [
    {
     "data": {
      "text/plain": [
       "array([43., 54.])"
      ]
     },
     "execution_count": 59,
     "metadata": {},
     "output_type": "execute_result"
    }
   ],
   "source": [
    "L = mul_mat(en, inv(Pbar), phi_des)\n",
    "\n",
    "L"
   ]
  },
  {
   "cell_type": "code",
   "execution_count": null,
   "id": "twelve-equipment",
   "metadata": {},
   "outputs": [],
   "source": []
  },
  {
   "cell_type": "code",
   "execution_count": null,
   "id": "pharmaceutical-satisfaction",
   "metadata": {},
   "outputs": [],
   "source": []
  },
  {
   "cell_type": "code",
   "execution_count": null,
   "id": "together-punch",
   "metadata": {},
   "outputs": [],
   "source": []
  },
  {
   "cell_type": "code",
   "execution_count": 60,
   "id": "raising-disco",
   "metadata": {},
   "outputs": [],
   "source": [
    "D2 = array([[0]])\n",
    "\n",
    "a1_ = concatenate((A, B), axis=1)\n",
    "a2_ = concatenate((C2, D2), axis=1)\n",
    "\n",
    "AA = concatenate((a1_, a2_), axis=0)\n"
   ]
  },
  {
   "cell_type": "code",
   "execution_count": 61,
   "id": "binding-measurement",
   "metadata": {},
   "outputs": [
    {
     "data": {
      "text/plain": [
       "array([[ 5, 10,  1],\n",
       "       [ 8,  5,  1],\n",
       "       [ 1,  0,  0]])"
      ]
     },
     "execution_count": 61,
     "metadata": {},
     "output_type": "execute_result"
    }
   ],
   "source": [
    "AA"
   ]
  },
  {
   "cell_type": "code",
   "execution_count": 62,
   "id": "assumed-exclusive",
   "metadata": {},
   "outputs": [
    {
     "data": {
      "text/plain": [
       "array([[0],\n",
       "       [0],\n",
       "       [3]])"
      ]
     },
     "execution_count": 62,
     "metadata": {},
     "output_type": "execute_result"
    }
   ],
   "source": [
    "# set point é 2\n",
    "rss = 3\n",
    "t = array([[0, 0, rss]]).T\n",
    "\n",
    "t"
   ]
  },
  {
   "cell_type": "code",
   "execution_count": 63,
   "id": "imperial-relief",
   "metadata": {},
   "outputs": [],
   "source": [
    "# xss -> 2x1\n",
    "# uss -> 1x1\n",
    "# t = [[xss], [uss]]\n",
    "aux = dot(inv(AA),t)\n",
    "\n",
    "\n",
    "xss = aux[0:2,:]\n",
    "\n",
    "# valor de controle\n",
    "uss = aux[2,:]"
   ]
  },
  {
   "cell_type": "code",
   "execution_count": 64,
   "id": "sophisticated-vienna",
   "metadata": {},
   "outputs": [
    {
     "data": {
      "text/plain": [
       "array([[  0.,  -0.,   1.],\n",
       "       [  0.,  -0.,   1.],\n",
       "       [ -1.,   2., -11.]])"
      ]
     },
     "execution_count": 64,
     "metadata": {},
     "output_type": "execute_result"
    }
   ],
   "source": [
    "inv(AA).round()"
   ]
  },
  {
   "cell_type": "code",
   "execution_count": 65,
   "id": "paperback-google",
   "metadata": {},
   "outputs": [
    {
     "data": {
      "text/plain": [
       "array([[3. ],\n",
       "       [1.8]])"
      ]
     },
     "execution_count": 65,
     "metadata": {},
     "output_type": "execute_result"
    }
   ],
   "source": [
    "# x1 tem que ficar em 2 e x2 ficar em 3.14\n",
    "xss"
   ]
  },
  {
   "cell_type": "code",
   "execution_count": 66,
   "id": "otherwise-tooth",
   "metadata": {},
   "outputs": [
    {
     "data": {
      "text/plain": [
       "array([-33.])"
      ]
     },
     "execution_count": 66,
     "metadata": {},
     "output_type": "execute_result"
    }
   ],
   "source": [
    "uss"
   ]
  },
  {
   "cell_type": "code",
   "execution_count": 67,
   "id": "valued-programming",
   "metadata": {},
   "outputs": [
    {
     "data": {
      "text/plain": [
       "array([[11., 10.]])"
      ]
     },
     "execution_count": 67,
     "metadata": {},
     "output_type": "execute_result"
    }
   ],
   "source": [
    "K"
   ]
  },
  {
   "cell_type": "code",
   "execution_count": 68,
   "id": "regular-advancement",
   "metadata": {},
   "outputs": [],
   "source": [
    "Nx = xss/rss\n",
    "Nu = uss/rss\n",
    "Nbar = Nu + dot(K,Nx)"
   ]
  },
  {
   "cell_type": "code",
   "execution_count": 69,
   "id": "yellow-arena",
   "metadata": {},
   "outputs": [
    {
     "data": {
      "text/plain": [
       "array([-11.])"
      ]
     },
     "execution_count": 69,
     "metadata": {},
     "output_type": "execute_result"
    }
   ],
   "source": [
    "Nu"
   ]
  },
  {
   "cell_type": "code",
   "execution_count": 70,
   "id": "collect-birmingham",
   "metadata": {},
   "outputs": [
    {
     "data": {
      "text/plain": [
       "array([[1. ],\n",
       "       [0.6]])"
      ]
     },
     "execution_count": 70,
     "metadata": {},
     "output_type": "execute_result"
    }
   ],
   "source": [
    "Nx"
   ]
  },
  {
   "cell_type": "code",
   "execution_count": 71,
   "id": "monetary-bikini",
   "metadata": {},
   "outputs": [],
   "source": [
    "Nbar = float(Nbar)"
   ]
  },
  {
   "cell_type": "code",
   "execution_count": 72,
   "id": "korean-preference",
   "metadata": {},
   "outputs": [
    {
     "data": {
      "text/plain": [
       "6.0000000000000036"
      ]
     },
     "execution_count": 72,
     "metadata": {},
     "output_type": "execute_result"
    }
   ],
   "source": [
    "Nbar"
   ]
  },
  {
   "cell_type": "code",
   "execution_count": null,
   "id": "coordinated-parallel",
   "metadata": {},
   "outputs": [],
   "source": []
  },
  {
   "cell_type": "code",
   "execution_count": 73,
   "id": "historic-harvest",
   "metadata": {},
   "outputs": [],
   "source": [
    "L2 = array([L]).T"
   ]
  },
  {
   "cell_type": "code",
   "execution_count": 74,
   "id": "growing-archives",
   "metadata": {},
   "outputs": [],
   "source": [
    "\n",
    "\n",
    "\n",
    "# construindo At\n",
    "a11 = A - dot(B,K)\n",
    "a12 = dot(B,K)\n",
    "a21 = zeros(A.shape)\n",
    "a22 = A - dot(L2,C2)\n",
    "\n",
    "a1_ = concatenate((a11, a12), axis=1)\n",
    "a2_ = concatenate((a21, a22), axis=1)\n",
    "\n",
    "Ace = concatenate((a1_, a2_), axis=0)\n",
    "\n",
    "# construindo Bt\n",
    "b11 = B*Nbar\n",
    "b21 = zeros(B.shape)\n",
    "\n",
    "Bce = concatenate((b11, b21), axis=0)\n",
    "\n",
    "# construindo Ct\n",
    "c11 = C2\n",
    "c12 = zeros(C2.shape)\n",
    "\n",
    "Cce = concatenate((c11, c12), axis=1)\n"
   ]
  },
  {
   "cell_type": "code",
   "execution_count": 75,
   "id": "daily-notice",
   "metadata": {},
   "outputs": [
    {
     "data": {
      "text/plain": [
       "array([[ -6.,   0.,  11.,  10.],\n",
       "       [ -3.,  -5.,  11.,  10.],\n",
       "       [  0.,   0., -38.,  10.],\n",
       "       [  0.,   0., -46.,   5.]])"
      ]
     },
     "execution_count": 75,
     "metadata": {},
     "output_type": "execute_result"
    }
   ],
   "source": [
    "Ace"
   ]
  },
  {
   "cell_type": "code",
   "execution_count": 76,
   "id": "greatest-console",
   "metadata": {},
   "outputs": [
    {
     "data": {
      "text/plain": [
       "array([[6.],\n",
       "       [6.],\n",
       "       [0.],\n",
       "       [0.]])"
      ]
     },
     "execution_count": 76,
     "metadata": {},
     "output_type": "execute_result"
    }
   ],
   "source": [
    "Bce"
   ]
  },
  {
   "cell_type": "code",
   "execution_count": 77,
   "id": "involved-mixer",
   "metadata": {},
   "outputs": [
    {
     "data": {
      "text/plain": [
       "array([[1., 0., 0., 0.]])"
      ]
     },
     "execution_count": 77,
     "metadata": {},
     "output_type": "execute_result"
    }
   ],
   "source": [
    "Cce"
   ]
  }
 ],
 "metadata": {
  "kernelspec": {
   "display_name": "Python 3",
   "language": "python",
   "name": "python3"
  },
  "language_info": {
   "codemirror_mode": {
    "name": "ipython",
    "version": 3
   },
   "file_extension": ".py",
   "mimetype": "text/x-python",
   "name": "python",
   "nbconvert_exporter": "python",
   "pygments_lexer": "ipython3",
   "version": "3.7.9"
  }
 },
 "nbformat": 4,
 "nbformat_minor": 5
}
