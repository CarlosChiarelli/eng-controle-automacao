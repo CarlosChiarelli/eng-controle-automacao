{
 "cells": [
  {
   "cell_type": "markdown",
   "id": "accessory-evidence",
   "metadata": {},
   "source": [
    "# Aula 04\n",
    "$$ $$"
   ]
  },
  {
   "cell_type": "code",
   "execution_count": 8,
   "id": "distinct-firewall",
   "metadata": {},
   "outputs": [],
   "source": [
    "import numpy as np\n",
    "from numpy import dot "
   ]
  },
  {
   "cell_type": "code",
   "execution_count": 2,
   "id": "formal-knight",
   "metadata": {},
   "outputs": [],
   "source": [
    "A = np.array([[1, 3], [0, 2]])"
   ]
  },
  {
   "cell_type": "code",
   "execution_count": 3,
   "id": "detailed-intention",
   "metadata": {},
   "outputs": [
    {
     "data": {
      "text/plain": [
       "array([1., 2.])"
      ]
     },
     "execution_count": 3,
     "metadata": {},
     "output_type": "execute_result"
    }
   ],
   "source": [
    "V, D = np.linalg.eig(A)\n",
    "V"
   ]
  },
  {
   "cell_type": "code",
   "execution_count": 4,
   "id": "organic-button",
   "metadata": {},
   "outputs": [
    {
     "data": {
      "text/plain": [
       "array([[1. , 1.5],\n",
       "       [1.5, 2. ]])"
      ]
     },
     "execution_count": 4,
     "metadata": {},
     "output_type": "execute_result"
    }
   ],
   "source": [
    "# matriz análoga à A porém simétrica\n",
    "A_ = (A+A.T)/2\n",
    "A_"
   ]
  },
  {
   "cell_type": "code",
   "execution_count": 5,
   "id": "surprised-swedish",
   "metadata": {},
   "outputs": [
    {
     "data": {
      "text/plain": [
       "array([-0.08113883,  3.08113883])"
      ]
     },
     "execution_count": 5,
     "metadata": {},
     "output_type": "execute_result"
    }
   ],
   "source": [
    "V_, D_ = np.linalg.eig(A_)\n",
    "V_"
   ]
  },
  {
   "cell_type": "code",
   "execution_count": 14,
   "id": "radio-density",
   "metadata": {},
   "outputs": [
    {
     "data": {
      "text/plain": [
       "array([[-0.81124219, -0.58471028],\n",
       "       [ 0.58471028, -0.81124219]])"
      ]
     },
     "execution_count": 14,
     "metadata": {},
     "output_type": "execute_result"
    }
   ],
   "source": [
    "D_"
   ]
  },
  {
   "cell_type": "code",
   "execution_count": 7,
   "id": "another-right",
   "metadata": {},
   "outputs": [
    {
     "data": {
      "text/plain": [
       "array([ 0, 10])"
      ]
     },
     "execution_count": 7,
     "metadata": {},
     "output_type": "execute_result"
    }
   ],
   "source": [
    "x = np.array([0, 10])\n",
    "x"
   ]
  },
  {
   "cell_type": "code",
   "execution_count": 10,
   "id": "irish-boost",
   "metadata": {},
   "outputs": [
    {
     "data": {
      "text/plain": [
       "(200, 200.0)"
      ]
     },
     "execution_count": 10,
     "metadata": {},
     "output_type": "execute_result"
    }
   ],
   "source": [
    "dot(dot(x.T, A), x), dot(dot(x.T, A_), x)"
   ]
  },
  {
   "cell_type": "code",
   "execution_count": 32,
   "id": "planned-programming",
   "metadata": {},
   "outputs": [
    {
     "data": {
      "text/plain": [
       "array([[-0.081,  0.   ],\n",
       "       [-0.   ,  3.081]])"
      ]
     },
     "execution_count": 32,
     "metadata": {},
     "output_type": "execute_result"
    }
   ],
   "source": [
    "# obtendo matriz diagonalizada\n",
    "dot(dot(np.linalg.inv(D_), A_), D_).round(3)"
   ]
  }
 ],
 "metadata": {
  "kernelspec": {
   "display_name": "Python 3",
   "language": "python",
   "name": "python3"
  },
  "language_info": {
   "codemirror_mode": {
    "name": "ipython",
    "version": 3
   },
   "file_extension": ".py",
   "mimetype": "text/x-python",
   "name": "python",
   "nbconvert_exporter": "python",
   "pygments_lexer": "ipython3",
   "version": "3.7.9"
  }
 },
 "nbformat": 4,
 "nbformat_minor": 5
}
