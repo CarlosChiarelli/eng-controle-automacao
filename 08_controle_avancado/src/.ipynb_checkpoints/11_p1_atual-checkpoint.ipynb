{
 "cells": [
  {
   "cell_type": "code",
   "execution_count": 1,
   "id": "ruled-natural",
   "metadata": {},
   "outputs": [],
   "source": [
    "from numpy.linalg import inv, eig\n",
    "from numpy.linalg import matrix_rank as rank\n",
    "from numpy import array, eye, dot, zeros, poly, ones\n",
    "from numpy import roots, arange, asarray, concatenate\n",
    "from functools import reduce\n",
    "import matplotlib.pyplot as plt\n",
    "from control import acker, place, ss, forced_response\n",
    "from control import obsv, ctrb, minreal, tf, ss2tf, tf2ss\n",
    "from IPython.display import Image\n",
    "\n",
    "def mul_mat(*args):\n",
    "    return reduce(dot, args)\n",
    "\n",
    "def plota_resp(T,\n",
    "               yout,\n",
    "               titulo,\n",
    "               xlabel='Tempos (s)',\n",
    "               ylabel='Altura da bolinha (m)\\n'):\n",
    "\n",
    "    plt.plot(T, yout)\n",
    "    plt.title(titulo + '\\n')\n",
    "    plt.xlabel('\\n' + xlabel)\n",
    "    plt.ylabel(ylabel + '\\n')\n",
    "    plt.grid(alpha=.5)\n",
    "    plt.show()\n",
    "    \n",
    "def plota_resp_sist(t, yout):\n",
    "    \n",
    "    plt.rcParams[\"figure.figsize\"] = (11,7)\n",
    "    \n",
    "    fig, axes = plt.subplots(4, 1)\n",
    "    ylabels = [\"x1\", \"x1'\", \"x2\", \"x2'\"]\n",
    "\n",
    "    for num, ax in enumerate(axes.flatten()):\n",
    "        ax.axhline(y=0, color='black')\n",
    "        ax.plot(T, yout[num], color='b')\n",
    "        ax.set_ylabel(ylabels[num])\n",
    "        ax.grid()\n",
    "\n",
    "    fig.tight_layout()\n",
    "    plt.show()    \n",
    "    \n",
    "# plots config    \n",
    "plt.rcParams[\"figure.figsize\"] = (11,7)\n",
    "plt.rcParams.update({'font.size': 15})\n"
   ]
  },
  {
   "cell_type": "code",
   "execution_count": 2,
   "id": "indian-buffer",
   "metadata": {},
   "outputs": [],
   "source": [
    "\n",
    "# numerador e denominador da função transferência\n",
    "n = [2, 3, -4]\n",
    "d = [1, -1, 3, -1]\n",
    "\n",
    "out = tf2ss(n, d)"
   ]
  },
  {
   "cell_type": "code",
   "execution_count": 3,
   "id": "major-decade",
   "metadata": {},
   "outputs": [
    {
     "data": {
      "text/plain": [
       "matrix([[ 1.,  3., -1.],\n",
       "        [-1., -0.,  0.],\n",
       "        [ 0.,  1.,  0.]])"
      ]
     },
     "execution_count": 3,
     "metadata": {},
     "output_type": "execute_result"
    }
   ],
   "source": [
    "out.A.round()"
   ]
  },
  {
   "cell_type": "code",
   "execution_count": 4,
   "id": "spectacular-three",
   "metadata": {},
   "outputs": [
    {
     "data": {
      "text/plain": [
       "matrix([[-1.],\n",
       "        [ 0.],\n",
       "        [ 0.]])"
      ]
     },
     "execution_count": 4,
     "metadata": {},
     "output_type": "execute_result"
    }
   ],
   "source": [
    "out.B.round()"
   ]
  },
  {
   "cell_type": "code",
   "execution_count": 5,
   "id": "suited-while",
   "metadata": {},
   "outputs": [
    {
     "data": {
      "text/plain": [
       "matrix([[-2.,  3., -4.]])"
      ]
     },
     "execution_count": 5,
     "metadata": {},
     "output_type": "execute_result"
    }
   ],
   "source": [
    "out.C.round()"
   ]
  },
  {
   "cell_type": "code",
   "execution_count": 6,
   "id": "particular-geometry",
   "metadata": {},
   "outputs": [
    {
     "data": {
      "text/plain": [
       "matrix([[0.]])"
      ]
     },
     "execution_count": 6,
     "metadata": {},
     "output_type": "execute_result"
    }
   ],
   "source": [
    "out.D.round()"
   ]
  },
  {
   "cell_type": "markdown",
   "id": "dedicated-schedule",
   "metadata": {},
   "source": [
    "$$ $$\n",
    "# P1\n",
    "$$ $$"
   ]
  },
  {
   "cell_type": "markdown",
   "id": "sacred-likelihood",
   "metadata": {},
   "source": [
    "$$ $$\n",
    "# Controlador \n",
    "$$ $$"
   ]
  },
  {
   "cell_type": "code",
   "execution_count": 7,
   "id": "proud-patent",
   "metadata": {},
   "outputs": [],
   "source": [
    "# Modelo de planta utilizado\n",
    "A = array([[4,  -2],\n",
    "           [15, -9]])\n",
    "\n",
    "B = array([[1, 1]]).T\n",
    "\n",
    "C = array([1, 0])\n",
    "C2 = array([[1, 0]])\n",
    "\n",
    "D = array([0])\n",
    "\n",
    "out = ss2tf(A,B,C,D)\n",
    "\n",
    "sys = ss (A,B,C,D)"
   ]
  },
  {
   "cell_type": "code",
   "execution_count": 8,
   "id": "celtic-concern",
   "metadata": {},
   "outputs": [
    {
     "data": {
      "text/latex": [
       "$$\\frac{s + 7}{s^2 + 5 s - 6}$$"
      ],
      "text/plain": [
       "TransferFunction(array([1., 7.]), array([ 1.,  5., -6.]))"
      ]
     },
     "execution_count": 8,
     "metadata": {},
     "output_type": "execute_result"
    }
   ],
   "source": [
    "out"
   ]
  },
  {
   "cell_type": "code",
   "execution_count": 9,
   "id": "worth-vintage",
   "metadata": {},
   "outputs": [],
   "source": [
    "# [Ac,Bc,Cc,T] = ctrbf(A,B,C)\n",
    "# [Ao,Bo,Co,T] = obsvf(A,B,C)"
   ]
  },
  {
   "cell_type": "code",
   "execution_count": 10,
   "id": "confidential-plasma",
   "metadata": {},
   "outputs": [],
   "source": [
    "P = array([B, dot(A,B)])"
   ]
  },
  {
   "cell_type": "code",
   "execution_count": 11,
   "id": "living-atlantic",
   "metadata": {},
   "outputs": [
    {
     "data": {
      "text/plain": [
       "array([[1, 2],\n",
       "       [1, 6]])"
      ]
     },
     "execution_count": 11,
     "metadata": {},
     "output_type": "execute_result"
    }
   ],
   "source": [
    "P = P.reshape((2,2)).T\n",
    "\n",
    "P"
   ]
  },
  {
   "cell_type": "code",
   "execution_count": 12,
   "id": "pacific-richardson",
   "metadata": {},
   "outputs": [],
   "source": [
    "T = P\n",
    "\n",
    "Abar = mul_mat(inv(T), A, T)\n",
    "Bbar = dot(inv(T), B)\n",
    "Cbar = dot(C, T)"
   ]
  },
  {
   "cell_type": "code",
   "execution_count": 13,
   "id": "educational-engine",
   "metadata": {},
   "outputs": [
    {
     "data": {
      "text/plain": [
       "array([[ 1.5 , -0.5 ],\n",
       "       [-0.25,  0.25]])"
      ]
     },
     "execution_count": 13,
     "metadata": {},
     "output_type": "execute_result"
    }
   ],
   "source": [
    "iP = inv(P)\n",
    "\n",
    "iP"
   ]
  },
  {
   "cell_type": "code",
   "execution_count": 14,
   "id": "collected-robin",
   "metadata": {},
   "outputs": [
    {
     "data": {
      "text/plain": [
       "array([-0.25,  0.25])"
      ]
     },
     "execution_count": 14,
     "metadata": {},
     "output_type": "execute_result"
    }
   ],
   "source": [
    "iP[1,:]"
   ]
  },
  {
   "cell_type": "code",
   "execution_count": 15,
   "id": "welcome-spare",
   "metadata": {},
   "outputs": [],
   "source": [
    "p = iP[1,:]\n",
    "\n",
    "iPP=[p, dot(p,A)]\n",
    "\n",
    "T = inv(iPP)\n",
    "\n",
    "Ac = mul_mat(inv(T), A, T)\n",
    "\n",
    "Bc = dot(inv(T), B)\n",
    "\n",
    "Cc = dot(C, T)"
   ]
  },
  {
   "cell_type": "code",
   "execution_count": 16,
   "id": "coated-shakespeare",
   "metadata": {},
   "outputs": [
    {
     "data": {
      "text/plain": [
       "array([[ 0.,  1.],\n",
       "       [ 6., -5.]])"
      ]
     },
     "execution_count": 16,
     "metadata": {},
     "output_type": "execute_result"
    }
   ],
   "source": [
    "Ac"
   ]
  },
  {
   "cell_type": "code",
   "execution_count": 17,
   "id": "terminal-consensus",
   "metadata": {},
   "outputs": [
    {
     "data": {
      "text/plain": [
       "array([[0.],\n",
       "       [1.]])"
      ]
     },
     "execution_count": 17,
     "metadata": {},
     "output_type": "execute_result"
    }
   ],
   "source": [
    "Bc"
   ]
  },
  {
   "cell_type": "code",
   "execution_count": 18,
   "id": "honest-kingston",
   "metadata": {},
   "outputs": [
    {
     "data": {
      "text/plain": [
       "array([7., 1.])"
      ]
     },
     "execution_count": 18,
     "metadata": {},
     "output_type": "execute_result"
    }
   ],
   "source": [
    "Cc"
   ]
  },
  {
   "cell_type": "code",
   "execution_count": 19,
   "id": "suspected-assault",
   "metadata": {},
   "outputs": [
    {
     "data": {
      "text/plain": [
       "array([[-7.5,  5.5]])"
      ]
     },
     "execution_count": 19,
     "metadata": {},
     "output_type": "execute_result"
    }
   ],
   "source": [
    "Kc = array([8, -2])\n",
    "\n",
    "K = dot(Kc,inv(T))\n",
    "\n",
    "K = array([K])\n",
    "\n",
    "K"
   ]
  },
  {
   "cell_type": "code",
   "execution_count": 20,
   "id": "unnecessary-tragedy",
   "metadata": {},
   "outputs": [
    {
     "data": {
      "text/plain": [
       "array([-1., -2.])"
      ]
     },
     "execution_count": 20,
     "metadata": {},
     "output_type": "execute_result"
    }
   ],
   "source": [
    "D, V = eig(A-dot(B,K))\n",
    "D"
   ]
  },
  {
   "cell_type": "code",
   "execution_count": 21,
   "id": "artistic-commission",
   "metadata": {},
   "outputs": [
    {
     "data": {
      "text/plain": [
       "array([[  0.,   4.],\n",
       "       [-30.,  26.]])"
      ]
     },
     "execution_count": 21,
     "metadata": {},
     "output_type": "execute_result"
    }
   ],
   "source": [
    "# checar pela F. de Ackerman\n",
    "en = array([0, 1])\n",
    "phi_des = dot(A,A) + 3*A + 2*eye(2)\n",
    "\n",
    "phi_des"
   ]
  },
  {
   "cell_type": "code",
   "execution_count": 22,
   "id": "recent-thought",
   "metadata": {},
   "outputs": [
    {
     "data": {
      "text/plain": [
       "array([-7.5,  5.5])"
      ]
     },
     "execution_count": 22,
     "metadata": {},
     "output_type": "execute_result"
    }
   ],
   "source": [
    "K2 = mul_mat(en, inv(P), phi_des)\n",
    "K2"
   ]
  },
  {
   "cell_type": "code",
   "execution_count": 23,
   "id": "increased-southwest",
   "metadata": {},
   "outputs": [
    {
     "data": {
      "text/plain": [
       "array([[ 1.5 , -0.5 ],\n",
       "       [-0.25,  0.25]])"
      ]
     },
     "execution_count": 23,
     "metadata": {},
     "output_type": "execute_result"
    }
   ],
   "source": [
    "inv(P)"
   ]
  },
  {
   "cell_type": "code",
   "execution_count": 24,
   "id": "better-matthew",
   "metadata": {},
   "outputs": [
    {
     "data": {
      "text/plain": [
       "array([[ True,  True]])"
      ]
     },
     "execution_count": 24,
     "metadata": {},
     "output_type": "execute_result"
    }
   ],
   "source": [
    "K==K2"
   ]
  },
  {
   "cell_type": "code",
   "execution_count": null,
   "id": "hydraulic-tragedy",
   "metadata": {},
   "outputs": [],
   "source": []
  },
  {
   "cell_type": "markdown",
   "id": "appointed-marketplace",
   "metadata": {},
   "source": [
    "$$ $$\n",
    "# Observador \n",
    "$$ $$"
   ]
  },
  {
   "cell_type": "code",
   "execution_count": 25,
   "id": "egyptian-aside",
   "metadata": {},
   "outputs": [],
   "source": [
    "Q = array([C, dot(C,A)])\n",
    "\n",
    "T = inv(Q)\n",
    "\n",
    "Abar = mul_mat(inv(T), A, T)\n",
    "Bbar = dot(inv(T), B)\n",
    "Cbar = dot(C, T)"
   ]
  },
  {
   "cell_type": "code",
   "execution_count": 26,
   "id": "three-championship",
   "metadata": {},
   "outputs": [
    {
     "data": {
      "text/plain": [
       "array([[ 1,  0],\n",
       "       [ 4, -2]])"
      ]
     },
     "execution_count": 26,
     "metadata": {},
     "output_type": "execute_result"
    }
   ],
   "source": [
    "Q"
   ]
  },
  {
   "cell_type": "code",
   "execution_count": 27,
   "id": "considered-deputy",
   "metadata": {},
   "outputs": [
    {
     "data": {
      "text/plain": [
       "2"
      ]
     },
     "execution_count": 27,
     "metadata": {},
     "output_type": "execute_result"
    }
   ],
   "source": [
    "rank(Q)"
   ]
  },
  {
   "cell_type": "code",
   "execution_count": 28,
   "id": "signal-blake",
   "metadata": {},
   "outputs": [],
   "source": [
    "iQ = inv(Q)"
   ]
  },
  {
   "cell_type": "code",
   "execution_count": 29,
   "id": "retired-launch",
   "metadata": {},
   "outputs": [
    {
     "data": {
      "text/plain": [
       "array([[ 1. ,  0. ],\n",
       "       [ 2. , -0.5]])"
      ]
     },
     "execution_count": 29,
     "metadata": {},
     "output_type": "execute_result"
    }
   ],
   "source": [
    "iQ"
   ]
  },
  {
   "cell_type": "code",
   "execution_count": 30,
   "id": "sunrise-loading",
   "metadata": {},
   "outputs": [
    {
     "data": {
      "text/plain": [
       "array([ 0. , -0.5])"
      ]
     },
     "execution_count": 30,
     "metadata": {},
     "output_type": "execute_result"
    }
   ],
   "source": [
    "iQ[:,1]"
   ]
  },
  {
   "cell_type": "code",
   "execution_count": 31,
   "id": "general-circumstances",
   "metadata": {},
   "outputs": [],
   "source": [
    "q = iQ[:,1]\n",
    "\n",
    "QQ = array([q, dot(A,q)]).T\n",
    "\n",
    "T = (QQ)\n",
    "\n",
    "Ao = mul_mat(inv(T), A, T)\n",
    "\n",
    "Bo = dot(inv(T), B)\n",
    "\n",
    "Co = dot(C, T)"
   ]
  },
  {
   "cell_type": "code",
   "execution_count": 32,
   "id": "ecological-appointment",
   "metadata": {},
   "outputs": [
    {
     "data": {
      "text/plain": [
       "array([[ 0. ,  1. ],\n",
       "       [-0.5,  4.5]])"
      ]
     },
     "execution_count": 32,
     "metadata": {},
     "output_type": "execute_result"
    }
   ],
   "source": [
    "#T.reshape((2,2))\n",
    "T"
   ]
  },
  {
   "cell_type": "code",
   "execution_count": 33,
   "id": "historic-unemployment",
   "metadata": {},
   "outputs": [
    {
     "data": {
      "text/plain": [
       "array([[ 0.,  6.],\n",
       "       [ 1., -5.]])"
      ]
     },
     "execution_count": 33,
     "metadata": {},
     "output_type": "execute_result"
    }
   ],
   "source": [
    "Ao"
   ]
  },
  {
   "cell_type": "code",
   "execution_count": 34,
   "id": "growing-burns",
   "metadata": {},
   "outputs": [
    {
     "data": {
      "text/plain": [
       "array([[7.],\n",
       "       [1.]])"
      ]
     },
     "execution_count": 34,
     "metadata": {},
     "output_type": "execute_result"
    }
   ],
   "source": [
    "Bo"
   ]
  },
  {
   "cell_type": "code",
   "execution_count": 35,
   "id": "standard-verification",
   "metadata": {},
   "outputs": [
    {
     "data": {
      "text/plain": [
       "array([0., 1.])"
      ]
     },
     "execution_count": 35,
     "metadata": {},
     "output_type": "execute_result"
    }
   ],
   "source": [
    "Co"
   ]
  },
  {
   "cell_type": "code",
   "execution_count": 36,
   "id": "intensive-guyana",
   "metadata": {},
   "outputs": [
    {
     "data": {
      "text/plain": [
       "array([[ 9. ],\n",
       "       [13.5]])"
      ]
     },
     "execution_count": 36,
     "metadata": {},
     "output_type": "execute_result"
    }
   ],
   "source": [
    "Lo = array([[54, 9]]).T\n",
    "\n",
    "L = dot(T,Lo)\n",
    "\n",
    "L"
   ]
  },
  {
   "cell_type": "code",
   "execution_count": 37,
   "id": "collect-testing",
   "metadata": {},
   "outputs": [
    {
     "data": {
      "text/plain": [
       "array([-6., -8.])"
      ]
     },
     "execution_count": 37,
     "metadata": {},
     "output_type": "execute_result"
    }
   ],
   "source": [
    "D, V = eig(A-dot(L,C2))\n",
    "D"
   ]
  },
  {
   "cell_type": "code",
   "execution_count": null,
   "id": "serial-roots",
   "metadata": {},
   "outputs": [],
   "source": []
  },
  {
   "cell_type": "code",
   "execution_count": 38,
   "id": "baking-tension",
   "metadata": {},
   "outputs": [
    {
     "data": {
      "text/plain": [
       "array([[ 1,  4],\n",
       "       [ 0, -2]])"
      ]
     },
     "execution_count": 38,
     "metadata": {},
     "output_type": "execute_result"
    }
   ],
   "source": [
    "# checar pela F. de Ackerman\n",
    "Pbar = array([C.T, dot(A.T,C.T)]).T\n",
    "\n",
    "Pbar"
   ]
  },
  {
   "cell_type": "code",
   "execution_count": 39,
   "id": "protected-mechanism",
   "metadata": {},
   "outputs": [
    {
     "data": {
      "text/plain": [
       "array([[ 90., 135.],\n",
       "       [-18., -27.]])"
      ]
     },
     "execution_count": 39,
     "metadata": {},
     "output_type": "execute_result"
    }
   ],
   "source": [
    "\n",
    "en = array([0, 1])\n",
    "phi_des = dot(A.T,A.T) + 14*A.T + 48*eye(2)\n",
    "\n",
    "phi_des"
   ]
  },
  {
   "cell_type": "code",
   "execution_count": 40,
   "id": "neural-increase",
   "metadata": {},
   "outputs": [
    {
     "data": {
      "text/plain": [
       "array([ 9. , 13.5])"
      ]
     },
     "execution_count": 40,
     "metadata": {},
     "output_type": "execute_result"
    }
   ],
   "source": [
    "L = mul_mat(en, inv(Pbar), phi_des)\n",
    "\n",
    "L"
   ]
  },
  {
   "cell_type": "code",
   "execution_count": null,
   "id": "marked-guess",
   "metadata": {},
   "outputs": [],
   "source": []
  },
  {
   "cell_type": "code",
   "execution_count": null,
   "id": "imported-lease",
   "metadata": {},
   "outputs": [],
   "source": []
  },
  {
   "cell_type": "code",
   "execution_count": 41,
   "id": "dried-uruguay",
   "metadata": {},
   "outputs": [],
   "source": [
    "D2 = array([[0]])\n",
    "\n",
    "a1_ = concatenate((A, B), axis=1)\n",
    "a2_ = concatenate((C2, D2), axis=1)\n",
    "\n",
    "AA = concatenate((a1_, a2_), axis=0)\n"
   ]
  },
  {
   "cell_type": "code",
   "execution_count": 42,
   "id": "consecutive-liverpool",
   "metadata": {},
   "outputs": [
    {
     "data": {
      "text/plain": [
       "array([[ 4, -2,  1],\n",
       "       [15, -9,  1],\n",
       "       [ 1,  0,  0]])"
      ]
     },
     "execution_count": 42,
     "metadata": {},
     "output_type": "execute_result"
    }
   ],
   "source": [
    "AA"
   ]
  },
  {
   "cell_type": "code",
   "execution_count": 43,
   "id": "concerned-variance",
   "metadata": {},
   "outputs": [
    {
     "data": {
      "text/plain": [
       "array([[0],\n",
       "       [0],\n",
       "       [2]])"
      ]
     },
     "execution_count": 43,
     "metadata": {},
     "output_type": "execute_result"
    }
   ],
   "source": [
    "# set point é 2\n",
    "rss = 2\n",
    "t = array([[0, 0, rss]]).T\n",
    "\n",
    "t"
   ]
  },
  {
   "cell_type": "code",
   "execution_count": 44,
   "id": "paperback-ceiling",
   "metadata": {},
   "outputs": [],
   "source": [
    "# xss -> 2x1\n",
    "# uss -> 1x1\n",
    "# t = [[xss], [uss]]\n",
    "aux = dot(inv(AA),t)\n",
    "\n",
    "\n",
    "xss = aux[0:2,:]\n",
    "\n",
    "# valor de controle\n",
    "uss = aux[2,:]"
   ]
  },
  {
   "cell_type": "code",
   "execution_count": 45,
   "id": "careful-captain",
   "metadata": {},
   "outputs": [
    {
     "data": {
      "text/plain": [
       "array([[2.        ],\n",
       "       [3.14285714]])"
      ]
     },
     "execution_count": 45,
     "metadata": {},
     "output_type": "execute_result"
    }
   ],
   "source": [
    "# x1 tem que ficar em 2 e x2 ficar em 3.14\n",
    "xss"
   ]
  },
  {
   "cell_type": "code",
   "execution_count": 46,
   "id": "nominated-bacteria",
   "metadata": {},
   "outputs": [
    {
     "data": {
      "text/plain": [
       "array([[-7.5,  5.5]])"
      ]
     },
     "execution_count": 46,
     "metadata": {},
     "output_type": "execute_result"
    }
   ],
   "source": [
    "K"
   ]
  },
  {
   "cell_type": "code",
   "execution_count": 47,
   "id": "historic-medline",
   "metadata": {},
   "outputs": [],
   "source": [
    "Nx = xss/rss\n",
    "Nu = uss/rss\n",
    "Nbar = Nu + dot(K,Nx)"
   ]
  },
  {
   "cell_type": "code",
   "execution_count": 48,
   "id": "prospective-abortion",
   "metadata": {},
   "outputs": [],
   "source": [
    "Nbar = float(Nbar)"
   ]
  },
  {
   "cell_type": "code",
   "execution_count": 49,
   "id": "satellite-blink",
   "metadata": {},
   "outputs": [
    {
     "data": {
      "text/plain": [
       "0.2857142857142855"
      ]
     },
     "execution_count": 49,
     "metadata": {},
     "output_type": "execute_result"
    }
   ],
   "source": [
    "Nbar"
   ]
  },
  {
   "cell_type": "code",
   "execution_count": null,
   "id": "respective-booth",
   "metadata": {},
   "outputs": [],
   "source": []
  },
  {
   "cell_type": "code",
   "execution_count": 50,
   "id": "experienced-county",
   "metadata": {},
   "outputs": [],
   "source": [
    "L2 = array([L]).T"
   ]
  },
  {
   "cell_type": "code",
   "execution_count": 51,
   "id": "linear-beverage",
   "metadata": {},
   "outputs": [],
   "source": [
    "\n",
    "\n",
    "\n",
    "# construindo At\n",
    "a11 = A - dot(B,K)\n",
    "a12 = dot(B,K)\n",
    "a21 = zeros(A.shape)\n",
    "a22 = A - dot(L2,C2)\n",
    "\n",
    "a1_ = concatenate((a11, a12), axis=1)\n",
    "a2_ = concatenate((a21, a22), axis=1)\n",
    "\n",
    "Ace = concatenate((a1_, a2_), axis=0)\n",
    "\n",
    "# construindo Bt\n",
    "b11 = B*Nbar\n",
    "b21 = zeros(B.shape)\n",
    "\n",
    "Bce = concatenate((b11, b21), axis=0)\n",
    "\n",
    "# construindo Ct\n",
    "c11 = C2\n",
    "c12 = zeros(C2.shape)\n",
    "\n",
    "Cce = concatenate((c11, c12), axis=1)\n"
   ]
  },
  {
   "cell_type": "code",
   "execution_count": 52,
   "id": "dynamic-soundtrack",
   "metadata": {},
   "outputs": [
    {
     "data": {
      "text/plain": [
       "array([[ 11.5,  -7.5,  -7.5,   5.5],\n",
       "       [ 22.5, -14.5,  -7.5,   5.5],\n",
       "       [  0. ,   0. ,  -5. ,  -2. ],\n",
       "       [  0. ,   0. ,   1.5,  -9. ]])"
      ]
     },
     "execution_count": 52,
     "metadata": {},
     "output_type": "execute_result"
    }
   ],
   "source": [
    "Ace"
   ]
  },
  {
   "cell_type": "code",
   "execution_count": 53,
   "id": "ethical-tobago",
   "metadata": {},
   "outputs": [
    {
     "data": {
      "text/plain": [
       "array([[0.28571429],\n",
       "       [0.28571429],\n",
       "       [0.        ],\n",
       "       [0.        ]])"
      ]
     },
     "execution_count": 53,
     "metadata": {},
     "output_type": "execute_result"
    }
   ],
   "source": [
    "Bce"
   ]
  },
  {
   "cell_type": "code",
   "execution_count": 54,
   "id": "industrial-victoria",
   "metadata": {},
   "outputs": [
    {
     "data": {
      "text/plain": [
       "array([[1., 0., 0., 0.]])"
      ]
     },
     "execution_count": 54,
     "metadata": {},
     "output_type": "execute_result"
    }
   ],
   "source": [
    "Cce"
   ]
  },
  {
   "cell_type": "code",
   "execution_count": null,
   "id": "dutch-building",
   "metadata": {},
   "outputs": [],
   "source": []
  }
 ],
 "metadata": {
  "kernelspec": {
   "display_name": "Python 3",
   "language": "python",
   "name": "python3"
  },
  "language_info": {
   "codemirror_mode": {
    "name": "ipython",
    "version": 3
   },
   "file_extension": ".py",
   "mimetype": "text/x-python",
   "name": "python",
   "nbconvert_exporter": "python",
   "pygments_lexer": "ipython3",
   "version": "3.7.9"
  }
 },
 "nbformat": 4,
 "nbformat_minor": 5
}
