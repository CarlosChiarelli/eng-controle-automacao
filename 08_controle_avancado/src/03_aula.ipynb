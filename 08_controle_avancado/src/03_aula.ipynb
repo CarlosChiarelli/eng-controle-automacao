{
 "cells": [
  {
   "cell_type": "markdown",
   "id": "cooperative-corpus",
   "metadata": {},
   "source": [
    "# Aula 3\n",
    "$$ $$"
   ]
  },
  {
   "cell_type": "code",
   "execution_count": 2,
   "id": "minus-negotiation",
   "metadata": {},
   "outputs": [],
   "source": [
    "import numpy as np\n",
    "import numpy.linalg as la"
   ]
  },
  {
   "cell_type": "markdown",
   "id": "prime-absence",
   "metadata": {},
   "source": [
    "$$ $$"
   ]
  },
  {
   "cell_type": "code",
   "execution_count": 3,
   "id": "approved-nature",
   "metadata": {},
   "outputs": [
    {
     "data": {
      "text/plain": [
       "array([[-1,  1],\n",
       "       [-1, -3]])"
      ]
     },
     "execution_count": 3,
     "metadata": {},
     "output_type": "execute_result"
    }
   ],
   "source": [
    "# método bottom up\n",
    "A = np.array([[-1, 1], [-1, -3]])\n",
    "A"
   ]
  },
  {
   "cell_type": "code",
   "execution_count": 45,
   "id": "acknowledged-navigation",
   "metadata": {},
   "outputs": [
    {
     "name": "stdout",
     "output_type": "stream",
     "text": [
      "[[-1  1]\n",
      " [-1 -3]]\n"
     ]
    }
   ],
   "source": [
    "print(A)"
   ]
  },
  {
   "cell_type": "code",
   "execution_count": 47,
   "id": "stopped-canada",
   "metadata": {},
   "outputs": [
    {
     "data": {
      "text/plain": [
       "array([-2., -2.])"
      ]
     },
     "execution_count": 47,
     "metadata": {},
     "output_type": "execute_result"
    }
   ],
   "source": [
    "e_vals = la.eig(A)[0]\n",
    "np.round(e_vals, 2)"
   ]
  },
  {
   "cell_type": "code",
   "execution_count": 52,
   "id": "unexpected-ethics",
   "metadata": {},
   "outputs": [
    {
     "data": {
      "text/plain": [
       "array([[ 1.,  1.],\n",
       "       [-1., -1.]])"
      ]
     },
     "execution_count": 52,
     "metadata": {},
     "output_type": "execute_result"
    }
   ],
   "source": [
    "(A - e_vals[0]*np.eye(2)).round()"
   ]
  },
  {
   "cell_type": "code",
   "execution_count": 51,
   "id": "upper-reliance",
   "metadata": {},
   "outputs": [
    {
     "data": {
      "text/plain": [
       "1"
      ]
     },
     "execution_count": 51,
     "metadata": {},
     "output_type": "execute_result"
    }
   ],
   "source": [
    "la.matrix_rank(A - e_vals[0]*np.eye(2))"
   ]
  },
  {
   "cell_type": "code",
   "execution_count": 55,
   "id": "oriented-injury",
   "metadata": {},
   "outputs": [
    {
     "data": {
      "text/plain": [
       "array([-0.,  0.])"
      ]
     },
     "execution_count": 55,
     "metadata": {},
     "output_type": "execute_result"
    }
   ],
   "source": [
    "# primeiro autovetor regular\n",
    "x_1 = np.array([1, -1])\n",
    "np.dot((A - e_vals[0]*np.eye(2)), x_1).round()"
   ]
  },
  {
   "cell_type": "code",
   "execution_count": 57,
   "id": "armed-liberia",
   "metadata": {},
   "outputs": [
    {
     "data": {
      "text/plain": [
       "array([ 1., -1.])"
      ]
     },
     "execution_count": 57,
     "metadata": {},
     "output_type": "execute_result"
    }
   ],
   "source": [
    "# agora preciso gerar o segundo autovetor (generalizado)\n",
    "x_2 = np.array([1, 0])\n",
    "\n",
    "# (A - e_vals[0]*eye(2)) * x_2 = x_1\n",
    "np.dot(A - e_vals[0]*np.eye(2), x_2).round()\n"
   ]
  },
  {
   "cell_type": "markdown",
   "id": "cooked-raleigh",
   "metadata": {},
   "source": [
    "$$ $$\n",
    "Após obter os autovetores é possível fazer a matriz de transformação de base.\n",
    "$$ $$"
   ]
  },
  {
   "cell_type": "code",
   "execution_count": 60,
   "id": "administrative-dynamics",
   "metadata": {},
   "outputs": [
    {
     "data": {
      "text/plain": [
       "array([[ 1,  1],\n",
       "       [-1,  0]])"
      ]
     },
     "execution_count": 60,
     "metadata": {},
     "output_type": "execute_result"
    }
   ],
   "source": [
    "B = np.array([x_1, x_2]).T\n",
    "B"
   ]
  },
  {
   "cell_type": "code",
   "execution_count": 61,
   "id": "derived-pressure",
   "metadata": {},
   "outputs": [
    {
     "data": {
      "text/plain": [
       "array([[-2.,  1.],\n",
       "       [ 0., -2.]])"
      ]
     },
     "execution_count": 61,
     "metadata": {},
     "output_type": "execute_result"
    }
   ],
   "source": [
    "# Jordan (diagonalizada)\n",
    "np.dot(np.dot(la.inv(B), A), B)"
   ]
  },
  {
   "cell_type": "code",
   "execution_count": null,
   "id": "worthy-invitation",
   "metadata": {},
   "outputs": [],
   "source": []
  },
  {
   "cell_type": "code",
   "execution_count": 5,
   "id": "respiratory-marsh",
   "metadata": {},
   "outputs": [
    {
     "data": {
      "text/plain": [
       "array([[ 1., -1.],\n",
       "       [-1.,  1.]])"
      ]
     },
     "execution_count": 5,
     "metadata": {},
     "output_type": "execute_result"
    }
   ],
   "source": [
    "la.eig(A)[1].round()"
   ]
  },
  {
   "cell_type": "code",
   "execution_count": 7,
   "id": "stainless-throat",
   "metadata": {},
   "outputs": [
    {
     "data": {
      "text/plain": [
       "array([[33554432., 33554431.],\n",
       "       [33554431., 33554432.]])"
      ]
     },
     "execution_count": 7,
     "metadata": {},
     "output_type": "execute_result"
    }
   ],
   "source": [
    "la.inv(la.eig(A)[1]).round()"
   ]
  },
  {
   "cell_type": "code",
   "execution_count": null,
   "id": "bright-honey",
   "metadata": {},
   "outputs": [],
   "source": []
  },
  {
   "cell_type": "code",
   "execution_count": null,
   "id": "duplicate-wrestling",
   "metadata": {},
   "outputs": [],
   "source": []
  },
  {
   "cell_type": "code",
   "execution_count": 8,
   "id": "stupid-silence",
   "metadata": {},
   "outputs": [
    {
     "data": {
      "text/plain": [
       "array([[-1.99999998,  0.        ],\n",
       "       [ 0.        , -2.00000002]])"
      ]
     },
     "execution_count": 8,
     "metadata": {},
     "output_type": "execute_result"
    }
   ],
   "source": [
    "np.diag(la.eig(A)[0])"
   ]
  }
 ],
 "metadata": {
  "kernelspec": {
   "display_name": "Python 3",
   "language": "python",
   "name": "python3"
  },
  "language_info": {
   "codemirror_mode": {
    "name": "ipython",
    "version": 3
   },
   "file_extension": ".py",
   "mimetype": "text/x-python",
   "name": "python",
   "nbconvert_exporter": "python",
   "pygments_lexer": "ipython3",
   "version": "3.7.9"
  }
 },
 "nbformat": 4,
 "nbformat_minor": 5
}
