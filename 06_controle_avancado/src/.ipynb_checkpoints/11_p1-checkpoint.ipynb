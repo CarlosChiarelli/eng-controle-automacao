{
 "cells": [
  {
   "cell_type": "code",
   "execution_count": 64,
   "id": "nominated-lambda",
   "metadata": {},
   "outputs": [],
   "source": [
    "from numpy.linalg import inv, eig\n",
    "from numpy.linalg import matrix_rank as rank\n",
    "from numpy import array, eye, dot, zeros, poly, ones\n",
    "from numpy import roots, arange, asarray, concatenate\n",
    "from functools import reduce\n",
    "import matplotlib.pyplot as plt\n",
    "from control import acker, place, ss, forced_response\n",
    "from control import obsv, ctrb, minreal, tf, ss2tf, tf2ss\n",
    "from IPython.display import Image\n",
    "\n",
    "def mul_mat(*args):\n",
    "    return reduce(dot, args)\n",
    "\n",
    "def plota_resp(T,\n",
    "               yout,\n",
    "               titulo,\n",
    "               xlabel='Tempos (s)',\n",
    "               ylabel='Altura da bolinha (m)\\n'):\n",
    "\n",
    "    plt.plot(T, yout)\n",
    "    plt.title(titulo + '\\n')\n",
    "    plt.xlabel('\\n' + xlabel)\n",
    "    plt.ylabel(ylabel + '\\n')\n",
    "    plt.grid(alpha=.5)\n",
    "    plt.show()\n",
    "    \n",
    "def plota_resp_sist(t, yout):\n",
    "    \n",
    "    plt.rcParams[\"figure.figsize\"] = (11,7)\n",
    "    \n",
    "    fig, axes = plt.subplots(4, 1)\n",
    "    ylabels = [\"x1\", \"x1'\", \"x2\", \"x2'\"]\n",
    "\n",
    "    for num, ax in enumerate(axes.flatten()):\n",
    "        ax.axhline(y=0, color='black')\n",
    "        ax.plot(T, yout[num], color='b')\n",
    "        ax.set_ylabel(ylabels[num])\n",
    "        ax.grid()\n",
    "\n",
    "    fig.tight_layout()\n",
    "    plt.show()    \n",
    "    \n",
    "# plots config    \n",
    "plt.rcParams[\"figure.figsize\"] = (11,7)\n",
    "plt.rcParams.update({'font.size': 15})\n"
   ]
  },
  {
   "cell_type": "code",
   "execution_count": 65,
   "id": "systematic-virginia",
   "metadata": {},
   "outputs": [],
   "source": [
    "\n",
    "# numerador e denominador da função transferência\n",
    "n = [2, 3, -4]\n",
    "d = [1, -1, 3, -1]\n",
    "\n",
    "out = tf2ss(n, d)"
   ]
  },
  {
   "cell_type": "code",
   "execution_count": 66,
   "id": "concrete-poultry",
   "metadata": {},
   "outputs": [
    {
     "data": {
      "text/plain": [
       "matrix([[ 1.,  3., -1.],\n",
       "        [-1., -0.,  0.],\n",
       "        [ 0.,  1.,  0.]])"
      ]
     },
     "execution_count": 66,
     "metadata": {},
     "output_type": "execute_result"
    }
   ],
   "source": [
    "out.A.round()"
   ]
  },
  {
   "cell_type": "code",
   "execution_count": 67,
   "id": "collect-volume",
   "metadata": {},
   "outputs": [
    {
     "data": {
      "text/plain": [
       "matrix([[-1.],\n",
       "        [ 0.],\n",
       "        [ 0.]])"
      ]
     },
     "execution_count": 67,
     "metadata": {},
     "output_type": "execute_result"
    }
   ],
   "source": [
    "out.B.round()"
   ]
  },
  {
   "cell_type": "code",
   "execution_count": 68,
   "id": "precise-serbia",
   "metadata": {},
   "outputs": [
    {
     "data": {
      "text/plain": [
       "matrix([[-2.,  3., -4.]])"
      ]
     },
     "execution_count": 68,
     "metadata": {},
     "output_type": "execute_result"
    }
   ],
   "source": [
    "out.C.round()"
   ]
  },
  {
   "cell_type": "code",
   "execution_count": 69,
   "id": "interpreted-transaction",
   "metadata": {},
   "outputs": [
    {
     "data": {
      "text/plain": [
       "matrix([[0.]])"
      ]
     },
     "execution_count": 69,
     "metadata": {},
     "output_type": "execute_result"
    }
   ],
   "source": [
    "out.D.round()"
   ]
  },
  {
   "cell_type": "markdown",
   "id": "northern-allen",
   "metadata": {},
   "source": [
    "$$ $$\n",
    "# P1\n",
    "$$ $$"
   ]
  },
  {
   "cell_type": "markdown",
   "id": "color-tension",
   "metadata": {},
   "source": [
    "$$ $$\n",
    "# Controlador \n",
    "$$ $$"
   ]
  },
  {
   "cell_type": "code",
   "execution_count": 70,
   "id": "multiple-verification",
   "metadata": {},
   "outputs": [],
   "source": [
    "# Modelo de planta utilizado\n",
    "A = array([[4,  -2],\n",
    "           [15, -9]])\n",
    "\n",
    "B = array([[1, 1]]).T\n",
    "\n",
    "C = array([1, 0])\n",
    "C2 = array([[1, 0]])\n",
    "\n",
    "D = array([0])\n",
    "\n",
    "out = ss2tf(A,B,C,D)\n",
    "\n",
    "sys = ss (A,B,C,D)"
   ]
  },
  {
   "cell_type": "code",
   "execution_count": 71,
   "id": "blond-algorithm",
   "metadata": {},
   "outputs": [
    {
     "data": {
      "text/latex": [
       "$$\\frac{s + 7}{s^2 + 5 s - 6}$$"
      ],
      "text/plain": [
       "TransferFunction(array([1., 7.]), array([ 1.,  5., -6.]))"
      ]
     },
     "execution_count": 71,
     "metadata": {},
     "output_type": "execute_result"
    }
   ],
   "source": [
    "out"
   ]
  },
  {
   "cell_type": "code",
   "execution_count": 72,
   "id": "brutal-civilian",
   "metadata": {},
   "outputs": [],
   "source": [
    "# [Ac,Bc,Cc,T] = ctrbf(A,B,C)\n",
    "# [Ao,Bo,Co,T] = obsvf(A,B,C)"
   ]
  },
  {
   "cell_type": "code",
   "execution_count": 73,
   "id": "offshore-setting",
   "metadata": {},
   "outputs": [],
   "source": [
    "P = array([B, dot(A,B)])"
   ]
  },
  {
   "cell_type": "code",
   "execution_count": 74,
   "id": "false-operation",
   "metadata": {},
   "outputs": [
    {
     "data": {
      "text/plain": [
       "array([[1, 2],\n",
       "       [1, 6]])"
      ]
     },
     "execution_count": 74,
     "metadata": {},
     "output_type": "execute_result"
    }
   ],
   "source": [
    "P = P.reshape((2,2)).T\n",
    "\n",
    "P"
   ]
  },
  {
   "cell_type": "code",
   "execution_count": 75,
   "id": "complex-blanket",
   "metadata": {},
   "outputs": [],
   "source": [
    "T = P\n",
    "\n",
    "Abar = mul_mat(inv(T), A, T)\n",
    "Bbar = dot(inv(T), B)\n",
    "Cbar = dot(C, T)"
   ]
  },
  {
   "cell_type": "code",
   "execution_count": 76,
   "id": "separate-squad",
   "metadata": {},
   "outputs": [
    {
     "data": {
      "text/plain": [
       "array([[ 1.5 , -0.5 ],\n",
       "       [-0.25,  0.25]])"
      ]
     },
     "execution_count": 76,
     "metadata": {},
     "output_type": "execute_result"
    }
   ],
   "source": [
    "iP = inv(P)\n",
    "\n",
    "iP"
   ]
  },
  {
   "cell_type": "code",
   "execution_count": 77,
   "id": "specific-issue",
   "metadata": {},
   "outputs": [
    {
     "data": {
      "text/plain": [
       "array([-0.25,  0.25])"
      ]
     },
     "execution_count": 77,
     "metadata": {},
     "output_type": "execute_result"
    }
   ],
   "source": [
    "iP[1,:]"
   ]
  },
  {
   "cell_type": "code",
   "execution_count": 78,
   "id": "needed-congo",
   "metadata": {},
   "outputs": [],
   "source": [
    "p = iP[1,:]\n",
    "\n",
    "iPP=[p, dot(p,A)]\n",
    "\n",
    "T = inv(iPP)\n",
    "\n",
    "Ac = mul_mat(inv(T), A, T)\n",
    "\n",
    "Bc = dot(inv(T), B)\n",
    "\n",
    "Cc = dot(C, T)"
   ]
  },
  {
   "cell_type": "code",
   "execution_count": 79,
   "id": "distant-peeing",
   "metadata": {},
   "outputs": [
    {
     "data": {
      "text/plain": [
       "array([[ 0.,  1.],\n",
       "       [ 6., -5.]])"
      ]
     },
     "execution_count": 79,
     "metadata": {},
     "output_type": "execute_result"
    }
   ],
   "source": [
    "Ac"
   ]
  },
  {
   "cell_type": "code",
   "execution_count": 80,
   "id": "reverse-specialist",
   "metadata": {},
   "outputs": [
    {
     "data": {
      "text/plain": [
       "array([[0.],\n",
       "       [1.]])"
      ]
     },
     "execution_count": 80,
     "metadata": {},
     "output_type": "execute_result"
    }
   ],
   "source": [
    "Bc"
   ]
  },
  {
   "cell_type": "code",
   "execution_count": 81,
   "id": "refined-edgar",
   "metadata": {},
   "outputs": [
    {
     "data": {
      "text/plain": [
       "array([7., 1.])"
      ]
     },
     "execution_count": 81,
     "metadata": {},
     "output_type": "execute_result"
    }
   ],
   "source": [
    "Cc"
   ]
  },
  {
   "cell_type": "code",
   "execution_count": 82,
   "id": "engaged-works",
   "metadata": {},
   "outputs": [
    {
     "data": {
      "text/plain": [
       "array([[-7.5,  5.5]])"
      ]
     },
     "execution_count": 82,
     "metadata": {},
     "output_type": "execute_result"
    }
   ],
   "source": [
    "Kc = array([8, -2])\n",
    "\n",
    "K = dot(Kc,inv(T))\n",
    "\n",
    "K = array([K])\n",
    "\n",
    "K"
   ]
  },
  {
   "cell_type": "code",
   "execution_count": 83,
   "id": "internal-auckland",
   "metadata": {},
   "outputs": [
    {
     "data": {
      "text/plain": [
       "array([-1., -2.])"
      ]
     },
     "execution_count": 83,
     "metadata": {},
     "output_type": "execute_result"
    }
   ],
   "source": [
    "D, V = eig(A-dot(B,K))\n",
    "D"
   ]
  },
  {
   "cell_type": "code",
   "execution_count": 84,
   "id": "operational-hollywood",
   "metadata": {},
   "outputs": [
    {
     "data": {
      "text/plain": [
       "array([[  0.,   4.],\n",
       "       [-30.,  26.]])"
      ]
     },
     "execution_count": 84,
     "metadata": {},
     "output_type": "execute_result"
    }
   ],
   "source": [
    "# checar pela F. de Ackerman\n",
    "en = array([0, 1])\n",
    "phi_des = dot(A,A) + 3*A + 2*eye(2)\n",
    "\n",
    "phi_des"
   ]
  },
  {
   "cell_type": "code",
   "execution_count": 85,
   "id": "casual-conservative",
   "metadata": {},
   "outputs": [
    {
     "data": {
      "text/plain": [
       "array([-7.5,  5.5])"
      ]
     },
     "execution_count": 85,
     "metadata": {},
     "output_type": "execute_result"
    }
   ],
   "source": [
    "K2 = mul_mat(en, inv(P), phi_des)\n",
    "K2"
   ]
  },
  {
   "cell_type": "code",
   "execution_count": 86,
   "id": "gross-delight",
   "metadata": {},
   "outputs": [
    {
     "data": {
      "text/plain": [
       "array([[ 1.5 , -0.5 ],\n",
       "       [-0.25,  0.25]])"
      ]
     },
     "execution_count": 86,
     "metadata": {},
     "output_type": "execute_result"
    }
   ],
   "source": [
    "inv(P)"
   ]
  },
  {
   "cell_type": "code",
   "execution_count": 87,
   "id": "systematic-mission",
   "metadata": {},
   "outputs": [
    {
     "data": {
      "text/plain": [
       "array([[ True,  True]])"
      ]
     },
     "execution_count": 87,
     "metadata": {},
     "output_type": "execute_result"
    }
   ],
   "source": [
    "K==K2"
   ]
  },
  {
   "cell_type": "code",
   "execution_count": null,
   "id": "becoming-cheese",
   "metadata": {},
   "outputs": [],
   "source": []
  },
  {
   "cell_type": "markdown",
   "id": "loved-liberal",
   "metadata": {},
   "source": [
    "$$ $$\n",
    "# Observador \n",
    "$$ $$"
   ]
  },
  {
   "cell_type": "code",
   "execution_count": 88,
   "id": "medium-teens",
   "metadata": {},
   "outputs": [],
   "source": [
    "Q = array([C, dot(C,A)])\n",
    "\n",
    "T = inv(Q)\n",
    "\n",
    "Abar = mul_mat(inv(T), A, T)\n",
    "Bbar = dot(inv(T), B)\n",
    "Cbar = dot(C, T)"
   ]
  },
  {
   "cell_type": "code",
   "execution_count": 89,
   "id": "close-render",
   "metadata": {},
   "outputs": [
    {
     "data": {
      "text/plain": [
       "array([[ 1,  0],\n",
       "       [ 4, -2]])"
      ]
     },
     "execution_count": 89,
     "metadata": {},
     "output_type": "execute_result"
    }
   ],
   "source": [
    "Q"
   ]
  },
  {
   "cell_type": "code",
   "execution_count": 90,
   "id": "colonial-causing",
   "metadata": {},
   "outputs": [
    {
     "data": {
      "text/plain": [
       "2"
      ]
     },
     "execution_count": 90,
     "metadata": {},
     "output_type": "execute_result"
    }
   ],
   "source": [
    "rank(Q)"
   ]
  },
  {
   "cell_type": "code",
   "execution_count": 91,
   "id": "sophisticated-bridge",
   "metadata": {},
   "outputs": [],
   "source": [
    "iQ = inv(Q)"
   ]
  },
  {
   "cell_type": "code",
   "execution_count": 92,
   "id": "distant-saskatchewan",
   "metadata": {},
   "outputs": [
    {
     "data": {
      "text/plain": [
       "array([[ 1. ,  0. ],\n",
       "       [ 2. , -0.5]])"
      ]
     },
     "execution_count": 92,
     "metadata": {},
     "output_type": "execute_result"
    }
   ],
   "source": [
    "iQ"
   ]
  },
  {
   "cell_type": "code",
   "execution_count": 93,
   "id": "capable-church",
   "metadata": {},
   "outputs": [
    {
     "data": {
      "text/plain": [
       "array([ 0. , -0.5])"
      ]
     },
     "execution_count": 93,
     "metadata": {},
     "output_type": "execute_result"
    }
   ],
   "source": [
    "iQ[:,1]"
   ]
  },
  {
   "cell_type": "code",
   "execution_count": 100,
   "id": "successful-integer",
   "metadata": {},
   "outputs": [],
   "source": [
    "q = iQ[:,1]\n",
    "\n",
    "QQ = array([q, dot(A,q)]).T\n",
    "\n",
    "T = (QQ)\n",
    "\n",
    "Ao = mul_mat(inv(T), A, T)\n",
    "\n",
    "Bo = dot(inv(T), B)\n",
    "\n",
    "Co = dot(C, T)"
   ]
  },
  {
   "cell_type": "code",
   "execution_count": 101,
   "id": "exceptional-enclosure",
   "metadata": {},
   "outputs": [
    {
     "data": {
      "text/plain": [
       "array([[ 0. ,  1. ],\n",
       "       [-0.5,  4.5]])"
      ]
     },
     "execution_count": 101,
     "metadata": {},
     "output_type": "execute_result"
    }
   ],
   "source": [
    "#T.reshape((2,2))\n",
    "T"
   ]
  },
  {
   "cell_type": "code",
   "execution_count": 102,
   "id": "prospective-anniversary",
   "metadata": {},
   "outputs": [
    {
     "data": {
      "text/plain": [
       "array([[ 0.,  6.],\n",
       "       [ 1., -5.]])"
      ]
     },
     "execution_count": 102,
     "metadata": {},
     "output_type": "execute_result"
    }
   ],
   "source": [
    "Ao"
   ]
  },
  {
   "cell_type": "code",
   "execution_count": 105,
   "id": "frozen-seven",
   "metadata": {},
   "outputs": [
    {
     "data": {
      "text/plain": [
       "array([[7.],\n",
       "       [1.]])"
      ]
     },
     "execution_count": 105,
     "metadata": {},
     "output_type": "execute_result"
    }
   ],
   "source": [
    "Bo"
   ]
  },
  {
   "cell_type": "code",
   "execution_count": 106,
   "id": "narrow-working",
   "metadata": {},
   "outputs": [
    {
     "data": {
      "text/plain": [
       "array([0., 1.])"
      ]
     },
     "execution_count": 106,
     "metadata": {},
     "output_type": "execute_result"
    }
   ],
   "source": [
    "Co"
   ]
  },
  {
   "cell_type": "code",
   "execution_count": 107,
   "id": "posted-topic",
   "metadata": {},
   "outputs": [
    {
     "data": {
      "text/plain": [
       "array([[ 9. ],\n",
       "       [13.5]])"
      ]
     },
     "execution_count": 107,
     "metadata": {},
     "output_type": "execute_result"
    }
   ],
   "source": [
    "Lo = array([[54, 9]]).T\n",
    "\n",
    "L = dot(T,Lo)\n",
    "\n",
    "L"
   ]
  },
  {
   "cell_type": "code",
   "execution_count": 109,
   "id": "bridal-aruba",
   "metadata": {},
   "outputs": [
    {
     "data": {
      "text/plain": [
       "array([-6., -8.])"
      ]
     },
     "execution_count": 109,
     "metadata": {},
     "output_type": "execute_result"
    }
   ],
   "source": [
    "D, V = eig(A-dot(L,C2))\n",
    "D"
   ]
  },
  {
   "cell_type": "code",
   "execution_count": null,
   "id": "hydraulic-purse",
   "metadata": {},
   "outputs": [],
   "source": []
  },
  {
   "cell_type": "code",
   "execution_count": 111,
   "id": "marked-certification",
   "metadata": {},
   "outputs": [
    {
     "data": {
      "text/plain": [
       "array([[ 1,  4],\n",
       "       [ 0, -2]])"
      ]
     },
     "execution_count": 111,
     "metadata": {},
     "output_type": "execute_result"
    }
   ],
   "source": [
    "# checar pela F. de Ackerman\n",
    "Pbar = array([C.T, dot(A.T,C.T)]).T\n",
    "\n",
    "Pbar"
   ]
  },
  {
   "cell_type": "code",
   "execution_count": 113,
   "id": "wicked-engagement",
   "metadata": {},
   "outputs": [
    {
     "data": {
      "text/plain": [
       "array([[ 90., 135.],\n",
       "       [-18., -27.]])"
      ]
     },
     "execution_count": 113,
     "metadata": {},
     "output_type": "execute_result"
    }
   ],
   "source": [
    "\n",
    "en = array([0, 1])\n",
    "phi_des = dot(A.T,A.T) + 14*A.T + 48*eye(2)\n",
    "\n",
    "phi_des"
   ]
  },
  {
   "cell_type": "code",
   "execution_count": 132,
   "id": "paperback-auckland",
   "metadata": {},
   "outputs": [
    {
     "data": {
      "text/plain": [
       "array([ 9. , 13.5])"
      ]
     },
     "execution_count": 132,
     "metadata": {},
     "output_type": "execute_result"
    }
   ],
   "source": [
    "L = mul_mat(en, inv(Pbar), phi_des)\n",
    "\n",
    "L"
   ]
  },
  {
   "cell_type": "code",
   "execution_count": null,
   "id": "dense-curve",
   "metadata": {},
   "outputs": [],
   "source": []
  },
  {
   "cell_type": "code",
   "execution_count": null,
   "id": "leading-marketplace",
   "metadata": {},
   "outputs": [],
   "source": []
  },
  {
   "cell_type": "code",
   "execution_count": 117,
   "id": "raising-timeline",
   "metadata": {},
   "outputs": [],
   "source": [
    "D2 = array([[0]])\n",
    "\n",
    "a1_ = concatenate((A, B), axis=1)\n",
    "a2_ = concatenate((C2, D2), axis=1)\n",
    "\n",
    "AA = concatenate((a1_, a2_), axis=0)\n"
   ]
  },
  {
   "cell_type": "code",
   "execution_count": 118,
   "id": "introductory-chicago",
   "metadata": {},
   "outputs": [
    {
     "data": {
      "text/plain": [
       "array([[ 4, -2,  1],\n",
       "       [15, -9,  1],\n",
       "       [ 1,  0,  0]])"
      ]
     },
     "execution_count": 118,
     "metadata": {},
     "output_type": "execute_result"
    }
   ],
   "source": [
    "AA"
   ]
  },
  {
   "cell_type": "code",
   "execution_count": 119,
   "id": "cross-basis",
   "metadata": {},
   "outputs": [
    {
     "data": {
      "text/plain": [
       "array([[0],\n",
       "       [0],\n",
       "       [2]])"
      ]
     },
     "execution_count": 119,
     "metadata": {},
     "output_type": "execute_result"
    }
   ],
   "source": [
    "# set point é 2\n",
    "rss = 2\n",
    "t = array([[0, 0, rss]]).T\n",
    "\n",
    "t"
   ]
  },
  {
   "cell_type": "code",
   "execution_count": 120,
   "id": "bibliographic-prompt",
   "metadata": {},
   "outputs": [],
   "source": [
    "# xss -> 2x1\n",
    "# uss -> 1x1\n",
    "# t = [[xss], [uss]]\n",
    "aux = dot(inv(AA),t)\n",
    "\n",
    "\n",
    "xss = aux[0:2,:]\n",
    "\n",
    "# valor de controle\n",
    "uss = aux[2,:]"
   ]
  },
  {
   "cell_type": "code",
   "execution_count": 121,
   "id": "connected-halloween",
   "metadata": {},
   "outputs": [
    {
     "data": {
      "text/plain": [
       "array([[2.        ],\n",
       "       [3.14285714]])"
      ]
     },
     "execution_count": 121,
     "metadata": {},
     "output_type": "execute_result"
    }
   ],
   "source": [
    "# x1 tem que ficar em 2 e x2 ficar em 3.14\n",
    "xss"
   ]
  },
  {
   "cell_type": "code",
   "execution_count": 122,
   "id": "fluid-rabbit",
   "metadata": {},
   "outputs": [
    {
     "data": {
      "text/plain": [
       "array([[-7.5,  5.5]])"
      ]
     },
     "execution_count": 122,
     "metadata": {},
     "output_type": "execute_result"
    }
   ],
   "source": [
    "K"
   ]
  },
  {
   "cell_type": "code",
   "execution_count": 123,
   "id": "retired-result",
   "metadata": {},
   "outputs": [],
   "source": [
    "Nx = xss/rss\n",
    "Nu = uss/rss\n",
    "Nbar = Nu + dot(K,Nx)"
   ]
  },
  {
   "cell_type": "code",
   "execution_count": 124,
   "id": "excess-tract",
   "metadata": {},
   "outputs": [],
   "source": [
    "Nbar = float(Nbar)"
   ]
  },
  {
   "cell_type": "code",
   "execution_count": 125,
   "id": "mediterranean-archives",
   "metadata": {},
   "outputs": [
    {
     "data": {
      "text/plain": [
       "0.2857142857142855"
      ]
     },
     "execution_count": 125,
     "metadata": {},
     "output_type": "execute_result"
    }
   ],
   "source": [
    "Nbar"
   ]
  },
  {
   "cell_type": "code",
   "execution_count": null,
   "id": "political-animal",
   "metadata": {},
   "outputs": [],
   "source": []
  },
  {
   "cell_type": "code",
   "execution_count": 126,
   "id": "intense-reality",
   "metadata": {},
   "outputs": [],
   "source": [
    "\n",
    "# construindo At\n",
    "a11 = A - dot(B,K)\n",
    "a12 = dot(B,K)\n",
    "a21 = zeros(A.shape)\n",
    "a22 = A - dot(L,C2)\n",
    "\n",
    "a1_ = concatenate((a11, a12), axis=1)\n",
    "a2_ = concatenate((a21, a22), axis=1)\n",
    "\n",
    "Ace = concatenate((a1_, a2_), axis=0)\n",
    "\n",
    "# construindo Bt\n",
    "b11 = B*Nbar\n",
    "b21 = zeros(B.shape)\n",
    "\n",
    "Bce = concatenate((b11, b21), axis=0)\n",
    "\n",
    "# construindo Ct\n",
    "c11 = C2\n",
    "c12 = zeros(C2.shape)\n",
    "\n",
    "Cce = concatenate((c11, c12), axis=1)\n"
   ]
  },
  {
   "cell_type": "code",
   "execution_count": 127,
   "id": "indian-maker",
   "metadata": {},
   "outputs": [
    {
     "data": {
      "text/plain": [
       "array([[ 11.5,  -7.5,  -7.5,   5.5],\n",
       "       [ 22.5, -14.5,  -7.5,   5.5],\n",
       "       [  0. ,   0. ,  -5. ,  -2. ],\n",
       "       [  0. ,   0. ,   1.5,  -9. ]])"
      ]
     },
     "execution_count": 127,
     "metadata": {},
     "output_type": "execute_result"
    }
   ],
   "source": [
    "Ace"
   ]
  },
  {
   "cell_type": "code",
   "execution_count": 128,
   "id": "provincial-baptist",
   "metadata": {},
   "outputs": [
    {
     "data": {
      "text/plain": [
       "array([[0.28571429],\n",
       "       [0.28571429],\n",
       "       [0.        ],\n",
       "       [0.        ]])"
      ]
     },
     "execution_count": 128,
     "metadata": {},
     "output_type": "execute_result"
    }
   ],
   "source": [
    "Bce"
   ]
  },
  {
   "cell_type": "code",
   "execution_count": 130,
   "id": "radio-beauty",
   "metadata": {},
   "outputs": [
    {
     "data": {
      "text/plain": [
       "array([[1., 0., 0., 0.]])"
      ]
     },
     "execution_count": 130,
     "metadata": {},
     "output_type": "execute_result"
    }
   ],
   "source": [
    "Cce"
   ]
  },
  {
   "cell_type": "code",
   "execution_count": null,
   "id": "invisible-posting",
   "metadata": {},
   "outputs": [],
   "source": []
  }
 ],
 "metadata": {
  "kernelspec": {
   "display_name": "Python 3",
   "language": "python",
   "name": "python3"
  },
  "language_info": {
   "codemirror_mode": {
    "name": "ipython",
    "version": 3
   },
   "file_extension": ".py",
   "mimetype": "text/x-python",
   "name": "python",
   "nbconvert_exporter": "python",
   "pygments_lexer": "ipython3",
   "version": "3.7.9"
  }
 },
 "nbformat": 4,
 "nbformat_minor": 5
}
