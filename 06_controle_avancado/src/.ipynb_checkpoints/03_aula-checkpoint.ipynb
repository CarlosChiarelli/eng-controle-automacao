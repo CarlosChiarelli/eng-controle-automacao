{
 "cells": [
  {
   "cell_type": "markdown",
   "id": "leading-geneva",
   "metadata": {},
   "source": [
    "# Aula 3\n",
    "$$ $$"
   ]
  },
  {
   "cell_type": "code",
   "execution_count": 20,
   "id": "compound-garbage",
   "metadata": {},
   "outputs": [],
   "source": [
    "import numpy as np\n",
    "import numpy.linalg as la"
   ]
  },
  {
   "cell_type": "markdown",
   "id": "economic-happiness",
   "metadata": {},
   "source": [
    "$$ $$"
   ]
  },
  {
   "cell_type": "code",
   "execution_count": 44,
   "id": "developing-alpha",
   "metadata": {},
   "outputs": [
    {
     "data": {
      "text/plain": [
       "array([[-1,  1],\n",
       "       [-1, -3]])"
      ]
     },
     "execution_count": 44,
     "metadata": {},
     "output_type": "execute_result"
    }
   ],
   "source": [
    "# método bottom up\n",
    "A = np.array([[-1, 1], [-1, -3]])\n",
    "A"
   ]
  },
  {
   "cell_type": "code",
   "execution_count": 45,
   "id": "vocational-testing",
   "metadata": {},
   "outputs": [
    {
     "name": "stdout",
     "output_type": "stream",
     "text": [
      "[[-1  1]\n",
      " [-1 -3]]\n"
     ]
    }
   ],
   "source": [
    "print(A)"
   ]
  },
  {
   "cell_type": "code",
   "execution_count": 47,
   "id": "aging-trail",
   "metadata": {},
   "outputs": [
    {
     "data": {
      "text/plain": [
       "array([-2., -2.])"
      ]
     },
     "execution_count": 47,
     "metadata": {},
     "output_type": "execute_result"
    }
   ],
   "source": [
    "e_vals = la.eig(A)[0]\n",
    "np.round(e_vals, 2)"
   ]
  },
  {
   "cell_type": "code",
   "execution_count": 52,
   "id": "numeric-prospect",
   "metadata": {},
   "outputs": [
    {
     "data": {
      "text/plain": [
       "array([[ 1.,  1.],\n",
       "       [-1., -1.]])"
      ]
     },
     "execution_count": 52,
     "metadata": {},
     "output_type": "execute_result"
    }
   ],
   "source": [
    "(A - e_vals[0]*np.eye(2)).round()"
   ]
  },
  {
   "cell_type": "code",
   "execution_count": 51,
   "id": "brutal-runner",
   "metadata": {},
   "outputs": [
    {
     "data": {
      "text/plain": [
       "1"
      ]
     },
     "execution_count": 51,
     "metadata": {},
     "output_type": "execute_result"
    }
   ],
   "source": [
    "la.matrix_rank(A - e_vals[0]*np.eye(2))"
   ]
  },
  {
   "cell_type": "code",
   "execution_count": 55,
   "id": "basic-spelling",
   "metadata": {},
   "outputs": [
    {
     "data": {
      "text/plain": [
       "array([-0.,  0.])"
      ]
     },
     "execution_count": 55,
     "metadata": {},
     "output_type": "execute_result"
    }
   ],
   "source": [
    "# primeiro autovetor regular\n",
    "x_1 = np.array([1, -1])\n",
    "np.dot((A - e_vals[0]*np.eye(2)), x_1).round()"
   ]
  },
  {
   "cell_type": "code",
   "execution_count": 57,
   "id": "neural-devices",
   "metadata": {},
   "outputs": [
    {
     "data": {
      "text/plain": [
       "array([ 1., -1.])"
      ]
     },
     "execution_count": 57,
     "metadata": {},
     "output_type": "execute_result"
    }
   ],
   "source": [
    "# agora preciso gerar o segundo autovetor (generalizado)\n",
    "x_2 = np.array([1, 0])\n",
    "\n",
    "# (A - e_vals[0]*eye(2)) * x_2 = x_1\n",
    "np.dot(A - e_vals[0]*np.eye(2), x_2).round()\n"
   ]
  },
  {
   "cell_type": "markdown",
   "id": "worldwide-delay",
   "metadata": {},
   "source": [
    "$$ $$\n",
    "Após obter os autovetores é possível fazer a matriz de transformação de base.\n",
    "$$ $$"
   ]
  },
  {
   "cell_type": "code",
   "execution_count": 60,
   "id": "certified-honduras",
   "metadata": {},
   "outputs": [
    {
     "data": {
      "text/plain": [
       "array([[ 1,  1],\n",
       "       [-1,  0]])"
      ]
     },
     "execution_count": 60,
     "metadata": {},
     "output_type": "execute_result"
    }
   ],
   "source": [
    "B = np.array([x_1, x_2]).T\n",
    "B"
   ]
  },
  {
   "cell_type": "code",
   "execution_count": 61,
   "id": "still-documentary",
   "metadata": {},
   "outputs": [
    {
     "data": {
      "text/plain": [
       "array([[-2.,  1.],\n",
       "       [ 0., -2.]])"
      ]
     },
     "execution_count": 61,
     "metadata": {},
     "output_type": "execute_result"
    }
   ],
   "source": [
    "# Jordan (diagonalizada)\n",
    "np.dot(np.dot(la.inv(B), A), B)"
   ]
  },
  {
   "cell_type": "code",
   "execution_count": null,
   "id": "significant-faculty",
   "metadata": {},
   "outputs": [],
   "source": []
  }
 ],
 "metadata": {
  "kernelspec": {
   "display_name": "Python 3",
   "language": "python",
   "name": "python3"
  },
  "language_info": {
   "codemirror_mode": {
    "name": "ipython",
    "version": 3
   },
   "file_extension": ".py",
   "mimetype": "text/x-python",
   "name": "python",
   "nbconvert_exporter": "python",
   "pygments_lexer": "ipython3",
   "version": "3.7.9"
  }
 },
 "nbformat": 4,
 "nbformat_minor": 5
}
