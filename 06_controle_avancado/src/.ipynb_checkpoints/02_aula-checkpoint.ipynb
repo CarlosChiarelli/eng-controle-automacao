{
 "cells": [
  {
   "cell_type": "markdown",
   "id": "effective-david",
   "metadata": {},
   "source": [
    "# Exercício 2: ex_transf_simil\n",
    "$$ $$\n",
    "Será usada a seguinda relação para converter um operador linear de uma base para o mesmo operador em outra base. $P$ é a matriz que relaciona ambas as bases.\n",
    "$$ $$\n",
    "$$ M_{T} = P^{-1} M_{s} P $$\n",
    "$$ $$"
   ]
  },
  {
   "cell_type": "code",
   "execution_count": 2,
   "id": "fabulous-bhutan",
   "metadata": {},
   "outputs": [],
   "source": [
    "import numpy as np"
   ]
  },
  {
   "cell_type": "code",
   "execution_count": 28,
   "id": "educational-bankruptcy",
   "metadata": {},
   "outputs": [
    {
     "name": "stdout",
     "output_type": "stream",
     "text": [
      "Base 1: \n",
      "[[1 0]\n",
      " [0 1]] \n",
      "\n",
      "Base 2: \n",
      "[[ 2 -1]\n",
      " [ 1  1]]\n",
      "\n",
      "P: \n",
      "[[ 2.  1.]\n",
      " [-1.  1.]]\n"
     ]
    }
   ],
   "source": [
    "\n",
    "# base R2 \n",
    "e1 = np.array([1, 0])\n",
    "e2 = np.array([0, 1])\n",
    "base1 = np.array([e1, e2])\n",
    "\n",
    "e1_ = np.array([2, -1])\n",
    "e2_ = np.array([1, 1])\n",
    "base2 = np.array([e1_, e2_])\n",
    "\n",
    "print(f'Base 1: \\n{base1} \\n\\nBase 2: \\n{base2}')\n",
    "\n",
    "P_col1 = np.dot(e1_, np.linalg.inv(base1))\n",
    "P_col2 = np.dot(e2_, np.linalg.inv(base1))\n",
    "\n",
    "P = np.array([P_col1, P_col2]).T\n",
    "\n",
    "print(f'\\nP: \\n{P}')\n"
   ]
  },
  {
   "cell_type": "code",
   "execution_count": 21,
   "id": "charitable-beaver",
   "metadata": {},
   "outputs": [
    {
     "data": {
      "text/plain": [
       "array([[ 0.33333333, -0.33333333],\n",
       "       [ 0.33333333,  0.66666667]])"
      ]
     },
     "execution_count": 21,
     "metadata": {},
     "output_type": "execute_result"
    }
   ],
   "source": [
    "\n",
    "P_1 = np.linalg.inv(P)\n",
    "\n",
    "P_1"
   ]
  },
  {
   "cell_type": "code",
   "execution_count": 24,
   "id": "thrown-muslim",
   "metadata": {},
   "outputs": [
    {
     "data": {
      "text/plain": [
       "array([[1, 6],\n",
       "       [3, 4]])"
      ]
     },
     "execution_count": 24,
     "metadata": {},
     "output_type": "execute_result"
    }
   ],
   "source": [
    "\n",
    "Ms = np.array([[1, 6], [3, 4]])\n",
    "\n",
    "Ms"
   ]
  },
  {
   "cell_type": "code",
   "execution_count": 29,
   "id": "vital-combination",
   "metadata": {},
   "outputs": [
    {
     "data": {
      "text/plain": [
       "array([[-2.,  0.],\n",
       "       [ 0.,  7.]])"
      ]
     },
     "execution_count": 29,
     "metadata": {},
     "output_type": "execute_result"
    }
   ],
   "source": [
    "\n",
    "np.round(\n",
    "    (np.dot(np.dot(P_1, Ms), P)),\n",
    "    2\n",
    ")"
   ]
  },
  {
   "cell_type": "code",
   "execution_count": null,
   "id": "crazy-snowboard",
   "metadata": {},
   "outputs": [],
   "source": []
  }
 ],
 "metadata": {
  "kernelspec": {
   "display_name": "Python 3",
   "language": "python",
   "name": "python3"
  },
  "language_info": {
   "codemirror_mode": {
    "name": "ipython",
    "version": 3
   },
   "file_extension": ".py",
   "mimetype": "text/x-python",
   "name": "python",
   "nbconvert_exporter": "python",
   "pygments_lexer": "ipython3",
   "version": "3.7.9"
  }
 },
 "nbformat": 4,
 "nbformat_minor": 5
}
