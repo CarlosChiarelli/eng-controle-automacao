{
 "cells": [
  {
   "cell_type": "markdown",
   "id": "competent-postcard",
   "metadata": {},
   "source": [
    "# Lista 01\n",
    "$$ $$"
   ]
  },
  {
   "cell_type": "code",
   "execution_count": 13,
   "id": "billion-mason",
   "metadata": {},
   "outputs": [],
   "source": [
    "from numpy.linalg import inv, eig\n",
    "from numpy import array, eye, dot, zeros\n",
    "from functools import reduce\n",
    "import matplotlib.pyplot as plt\n",
    "import control as ctl\n",
    "\n",
    "def mul_mat(*args):\n",
    "    return reduce(dot, args)\n",
    "\n",
    "def plota_resp_sist(t, yout):\n",
    "    \n",
    "    plt.rcParams[\"figure.figsize\"] = (11,7)\n",
    "    \n",
    "    fig, axes = plt.subplots(4, 1)\n",
    "    ylabels = [\"x1\", \"x1'\", \"x2\", \"x2'\"]\n",
    "\n",
    "    for num, ax in enumerate(axes.flatten()):\n",
    "        ax.axhline(y=0, color='black')\n",
    "        ax.plot(T, yout[num], color='b')\n",
    "        ax.set_ylabel(ylabels[num])\n",
    "        ax.grid()\n",
    "\n",
    "    fig.tight_layout()\n",
    "    plt.show()    "
   ]
  },
  {
   "cell_type": "markdown",
   "id": "funky-rocket",
   "metadata": {},
   "source": [
    "$$ $$\n",
    "# Exercícios resolvidos\n",
    "$$ $$"
   ]
  },
  {
   "cell_type": "markdown",
   "id": "congressional-conservation",
   "metadata": {},
   "source": [
    "## 01)\n",
    "$$ $$"
   ]
  },
  {
   "cell_type": "code",
   "execution_count": 14,
   "id": "arabic-chair",
   "metadata": {},
   "outputs": [
    {
     "data": {
      "text/plain": [
       "array([0.+0.j, 0.-0.j])"
      ]
     },
     "execution_count": 14,
     "metadata": {},
     "output_type": "execute_result"
    }
   ],
   "source": [
    "A = array([[1, -1],\n",
    "           [1, -1]])\n",
    "\n",
    "D, V = eig(A)\n",
    "\n",
    "D.round()"
   ]
  },
  {
   "cell_type": "code",
   "execution_count": 15,
   "id": "nasty-words",
   "metadata": {},
   "outputs": [
    {
     "data": {
      "text/plain": [
       "array([[1.+0.j, 1.-0.j],\n",
       "       [1.+0.j, 1.-0.j]])"
      ]
     },
     "execution_count": 15,
     "metadata": {},
     "output_type": "execute_result"
    }
   ],
   "source": [
    "V.round()"
   ]
  },
  {
   "cell_type": "code",
   "execution_count": 16,
   "id": "attractive-scheduling",
   "metadata": {},
   "outputs": [
    {
     "data": {
      "text/plain": [
       "array([[0, 0],\n",
       "       [0, 0]])"
      ]
     },
     "execution_count": 16,
     "metadata": {},
     "output_type": "execute_result"
    }
   ],
   "source": [
    "dot(A, A)"
   ]
  },
  {
   "cell_type": "code",
   "execution_count": 17,
   "id": "south-mounting",
   "metadata": {},
   "outputs": [
    {
     "data": {
      "text/plain": [
       "array([[1, 1],\n",
       "       [1, 0]])"
      ]
     },
     "execution_count": 17,
     "metadata": {},
     "output_type": "execute_result"
    }
   ],
   "source": [
    "v1, v2 = array([1, 1]), array([1, 0])\n",
    "P = array([v1, v2])\n",
    "P_inv = inv(P)\n",
    "\n",
    "P"
   ]
  },
  {
   "cell_type": "code",
   "execution_count": 18,
   "id": "tracked-medline",
   "metadata": {},
   "outputs": [
    {
     "data": {
      "text/plain": [
       "array([[0., 1.],\n",
       "       [0., 0.]])"
      ]
     },
     "execution_count": 18,
     "metadata": {},
     "output_type": "execute_result"
    }
   ],
   "source": [
    "mul_mat(P_inv, A, P)"
   ]
  },
  {
   "cell_type": "markdown",
   "id": "tropical-consent",
   "metadata": {},
   "source": [
    "$$ $$\n",
    "## 02)\n",
    "$$ $$"
   ]
  },
  {
   "cell_type": "code",
   "execution_count": 19,
   "id": "korean-acoustic",
   "metadata": {},
   "outputs": [
    {
     "data": {
      "text/plain": [
       "array([3., 3.])"
      ]
     },
     "execution_count": 19,
     "metadata": {},
     "output_type": "execute_result"
    }
   ],
   "source": [
    "A = array([[2, 1],\n",
    "           [-1, 4]])\n",
    "\n",
    "D, V = eig(A)\n",
    "\n",
    "D"
   ]
  },
  {
   "cell_type": "markdown",
   "id": "honey-discussion",
   "metadata": {},
   "source": [
    "$$ $$\n",
    "## 03)\n",
    "$$ $$"
   ]
  },
  {
   "cell_type": "code",
   "execution_count": 20,
   "id": "signed-promise",
   "metadata": {},
   "outputs": [
    {
     "data": {
      "text/plain": [
       "array([2.+0.j, 2.+0.j, 2.-0.j])"
      ]
     },
     "execution_count": 20,
     "metadata": {},
     "output_type": "execute_result"
    }
   ],
   "source": [
    "A = array([[5, 1, -4],\n",
    "           [4, 3, -5],\n",
    "           [3, 1, -2]])\n",
    "\n",
    "D, V = eig(A)\n",
    "\n",
    "D.round()"
   ]
  },
  {
   "cell_type": "code",
   "execution_count": 21,
   "id": "outstanding-constraint",
   "metadata": {},
   "outputs": [
    {
     "data": {
      "text/plain": [
       "array([[ 3.,  1., -4.],\n",
       "       [ 4.,  1., -5.],\n",
       "       [ 3.,  1., -4.]])"
      ]
     },
     "execution_count": 21,
     "metadata": {},
     "output_type": "execute_result"
    }
   ],
   "source": [
    "B = A - 2*eye(3)\n",
    "B"
   ]
  },
  {
   "cell_type": "code",
   "execution_count": 22,
   "id": "least-brother",
   "metadata": {},
   "outputs": [
    {
     "data": {
      "text/plain": [
       "array([[ 1.,  0., -1.],\n",
       "       [ 1.,  0., -1.],\n",
       "       [ 1.,  0., -1.]])"
      ]
     },
     "execution_count": 22,
     "metadata": {},
     "output_type": "execute_result"
    }
   ],
   "source": [
    "mul_mat(B, B)"
   ]
  },
  {
   "cell_type": "code",
   "execution_count": 23,
   "id": "liked-cameroon",
   "metadata": {},
   "outputs": [
    {
     "data": {
      "text/plain": [
       "array([[0., 0., 0.],\n",
       "       [0., 0., 0.],\n",
       "       [0., 0., 0.]])"
      ]
     },
     "execution_count": 23,
     "metadata": {},
     "output_type": "execute_result"
    }
   ],
   "source": [
    "mul_mat(B, B, B)"
   ]
  },
  {
   "cell_type": "markdown",
   "id": "homeless-world",
   "metadata": {},
   "source": [
    "$$ $$\n",
    "# Exercícios a fazer\n",
    "$$ $$"
   ]
  },
  {
   "cell_type": "markdown",
   "id": "treated-spine",
   "metadata": {},
   "source": [
    "## 01)\n",
    "$$ $$"
   ]
  },
  {
   "cell_type": "code",
   "execution_count": 24,
   "id": "amazing-pakistan",
   "metadata": {},
   "outputs": [],
   "source": [
    "# Exemplo 1 (exerc�cio 1 da lista, sistema \"Massa-Mola\")\n",
    "\n",
    "# CTE MOLA\n",
    "#k1=1;k2=1;k3=1;\n",
    "k1=1;k2=0.1;k3=1;\n",
    "# k1=5;k2=1;k3=1;\n",
    "\n",
    "# MATRIZ DINÂMICA\n",
    "A = array([[0,         1,        0,  0],\n",
    "           [-(k1+k2), -0,        k2, 0],\n",
    "           [0,         0,        0,  1],\n",
    "           [k2,        0, -(k2+k3), -0]])\n",
    "\n",
    "B = zeros([4, 1])\n",
    "\n",
    "#D = zeros([4, 1])\n",
    "D = 0\n",
    "\n",
    "# C = array([1, 0, 0, 0]) # posição carrinho 1\n",
    "# C = array([0, 1, 0, 0]) # velocidade carrinho 1\n",
    "# C = array([0, 0, 1, 0]) # posição carrinho 2\n",
    "\n",
    "# para visualizar os 4 estados\n",
    "C = eye(4)\n"
   ]
  },
  {
   "cell_type": "code",
   "execution_count": 25,
   "id": "signal-improvement",
   "metadata": {},
   "outputs": [
    {
     "data": {
      "text/plain": [
       "array([0.+1.1j, 0.-1.1j, 0.+1.j , 0.-1.j ])"
      ]
     },
     "execution_count": 25,
     "metadata": {},
     "output_type": "execute_result"
    }
   ],
   "source": [
    "D_v, V = eig(A)\n",
    "\n",
    "# autovalores\n",
    "D_v.round(2)"
   ]
  },
  {
   "cell_type": "code",
   "execution_count": 26,
   "id": "seasonal-sunrise",
   "metadata": {},
   "outputs": [
    {
     "data": {
      "text/plain": [
       "array([[ 0.  +0.48j,  0.  -0.48j,  0.  -0.5j ,  0.  +0.5j ],\n",
       "       [-0.52+0.j  , -0.52-0.j  ,  0.5 +0.j  ,  0.5 -0.j  ],\n",
       "       [ 0.  -0.48j,  0.  +0.48j,  0.  -0.5j ,  0.  +0.5j ],\n",
       "       [ 0.52+0.j  ,  0.52-0.j  ,  0.5 +0.j  ,  0.5 -0.j  ]])"
      ]
     },
     "execution_count": 26,
     "metadata": {},
     "output_type": "execute_result"
    }
   ],
   "source": [
    "# autovetores \n",
    "V.round(2)"
   ]
  },
  {
   "cell_type": "code",
   "execution_count": 27,
   "id": "ancient-safety",
   "metadata": {},
   "outputs": [],
   "source": [
    "# autovetores (colunas já estão transpostos)\n",
    "P = V"
   ]
  },
  {
   "cell_type": "code",
   "execution_count": 28,
   "id": "comparable-sense",
   "metadata": {},
   "outputs": [
    {
     "data": {
      "text/plain": [
       "array([[0.+1.1j, 0.-0.j , 0.+0.j , 0.+0.j ],\n",
       "       [0.+0.j , 0.-1.1j, 0.+0.j , 0.+0.j ],\n",
       "       [0.+0.j , 0.-0.j , 0.+1.j , 0.+0.j ],\n",
       "       [0.+0.j , 0.-0.j , 0.+0.j , 0.-1.j ]])"
      ]
     },
     "execution_count": 28,
     "metadata": {},
     "output_type": "execute_result"
    }
   ],
   "source": [
    "A_diag =  mul_mat(inv(P), A, P)\n",
    "\n",
    "A_diag.round(2)"
   ]
  },
  {
   "cell_type": "code",
   "execution_count": 29,
   "id": "hollywood-courtesy",
   "metadata": {},
   "outputs": [],
   "source": [
    "sys1 = ctl.ss(A, B, C, D)\n",
    "T, yout = ctl.step_response(sys1, X0=[0.1, 0, 0, 0])"
   ]
  },
  {
   "cell_type": "code",
   "execution_count": 30,
   "id": "banner-research",
   "metadata": {},
   "outputs": [
    {
     "data": {
      "image/png": "[encoded data removed]",
      "text/plain": [
       "<Figure size 792x504 with 4 Axes>"
      ]
     },
     "metadata": {
      "needs_background": "light"
     },
     "output_type": "display_data"
    }
   ],
   "source": [
    "plota_resp_sist(T, yout)"
   ]
  },
  {
   "cell_type": "code",
   "execution_count": 31,
   "id": "thousand-contents",
   "metadata": {},
   "outputs": [],
   "source": [
    "# Poderia ser feito com a matriz diagonalizada de Jordan\n",
    "\n",
    "# Simulando resp. a x0 usando a Matriz de Transi��o de Estados\n",
    "# X=[];\n",
    "# for t=0:0.1:100\n",
    "#     xx=V*[exp(D(1,1)*t) 0 0 0; 0 exp(D(2,2)*t) 0 0 ; 0 0 exp(D(3,3)*t) 0 ; 0 0 0 exp(D(4,4)*t)]*inv(V);\n",
    "#     X=[X xx(4)];\n",
    "# end\n",
    "# tt=[0:0.1:100];\n",
    "# figure(5);plot(tt,X)"
   ]
  },
  {
   "cell_type": "markdown",
   "id": "adapted-indianapolis",
   "metadata": {},
   "source": [
    "$$ $$\n",
    "## 02)\n",
    "$$ $$"
   ]
  },
  {
   "cell_type": "code",
   "execution_count": 32,
   "id": "adequate-uruguay",
   "metadata": {},
   "outputs": [
    {
     "data": {
      "text/plain": [
       "array([5., 5.])"
      ]
     },
     "execution_count": 32,
     "metadata": {},
     "output_type": "execute_result"
    }
   ],
   "source": [
    "A = array([[5, -1],\n",
    "           [0,  5]])\n",
    "\n",
    "D, V = eig(A)\n",
    "\n",
    "D"
   ]
  },
  {
   "cell_type": "code",
   "execution_count": 33,
   "id": "timely-expense",
   "metadata": {},
   "outputs": [
    {
     "data": {
      "text/plain": [
       "array([[1., 1.],\n",
       "       [0., 0.]])"
      ]
     },
     "execution_count": 33,
     "metadata": {},
     "output_type": "execute_result"
    }
   ],
   "source": [
    "V.round(3)"
   ]
  },
  {
   "cell_type": "code",
   "execution_count": 34,
   "id": "irish-violation",
   "metadata": {},
   "outputs": [
    {
     "data": {
      "text/plain": [
       "array([-2., -2.])"
      ]
     },
     "execution_count": 34,
     "metadata": {},
     "output_type": "execute_result"
    }
   ],
   "source": [
    "A = array([[-5/2, 1/2],\n",
    "           [-1/2, -3/2]])\n",
    "\n",
    "D, V = eig(A)\n",
    "\n",
    "D"
   ]
  },
  {
   "cell_type": "code",
   "execution_count": 35,
   "id": "returning-reading",
   "metadata": {},
   "outputs": [
    {
     "data": {
      "text/plain": [
       "array([[ 0.707, -0.707],\n",
       "       [ 0.707, -0.707]])"
      ]
     },
     "execution_count": 35,
     "metadata": {},
     "output_type": "execute_result"
    }
   ],
   "source": [
    "V.round(3)"
   ]
  },
  {
   "cell_type": "markdown",
   "id": "collective-syracuse",
   "metadata": {},
   "source": [
    "$$ $$\n",
    "## 03)\n",
    "$$ $$"
   ]
  },
  {
   "cell_type": "code",
   "execution_count": 36,
   "id": "horizontal-antigua",
   "metadata": {},
   "outputs": [
    {
     "data": {
      "text/plain": [
       "array([[ 3.,  0., -0.],\n",
       "       [ 0.,  3.,  0.],\n",
       "       [ 0.,  0.,  3.]])"
      ]
     },
     "execution_count": 36,
     "metadata": {},
     "output_type": "execute_result"
    }
   ],
   "source": [
    "A = array([[3, 1, 1],\n",
    "           [0, 3, 1],\n",
    "           [0, 0, 3]])\n",
    "\n",
    "D, V = eig(A)\n",
    "\n",
    "mul_mat(inv(V), A, V).round(3)"
   ]
  },
  {
   "cell_type": "code",
   "execution_count": 37,
   "id": "developed-sucking",
   "metadata": {},
   "outputs": [
    {
     "data": {
      "text/plain": [
       "array([[3., 0., 0.],\n",
       "       [0., 3., 0.],\n",
       "       [0., 0., 3.]])"
      ]
     },
     "execution_count": 37,
     "metadata": {},
     "output_type": "execute_result"
    }
   ],
   "source": [
    "\n",
    "A = array([[3, 0, 1],\n",
    "           [0, 3, 1],\n",
    "           [0, 0, 3]])\n",
    "\n",
    "D, V = eig(A)\n",
    "\n",
    "mul_mat(inv(V), A, V).round(3)"
   ]
  },
  {
   "cell_type": "markdown",
   "id": "caring-manchester",
   "metadata": {},
   "source": [
    "$$ $$\n",
    "## 04)\n",
    "$$ $$"
   ]
  },
  {
   "cell_type": "code",
   "execution_count": 38,
   "id": "authentic-perth",
   "metadata": {},
   "outputs": [],
   "source": [
    "A = array([[3, -1],\n",
    "           [-1, 3]])"
   ]
  },
  {
   "cell_type": "markdown",
   "id": "broke-croatia",
   "metadata": {},
   "source": [
    "Não se sabe como aplicar esse teorema.\n",
    "$$ $$"
   ]
  },
  {
   "cell_type": "markdown",
   "id": "republican-blogger",
   "metadata": {},
   "source": [
    "$$ $$\n",
    "## 05)\n",
    "$$ $$\n",
    "Exercício não muito útil já que Laplace é muito pouco utilizado para controle avançado.\n",
    "$$ $$\n",
    "## 06)\n",
    "$$ $$\n",
    "Exercício que parece agregar pouco.\n",
    "$$ $$\n",
    "## 07)\n",
    "$$ $$\n",
    "Análogo ao exercício 01).\n",
    "$$ $$\n",
    "## 08)\n",
    "$$ $$\n",
    "Análogo ao exercício 01).\n",
    "$$ $$"
   ]
  }
 ],
 "metadata": {
  "kernelspec": {
   "display_name": "Python 3",
   "language": "python",
   "name": "python3"
  },
  "language_info": {
   "codemirror_mode": {
    "name": "ipython",
    "version": 3
   },
   "file_extension": ".py",
   "mimetype": "text/x-python",
   "name": "python",
   "nbconvert_exporter": "python",
   "pygments_lexer": "ipython3",
   "version": "3.7.9"
  }
 },
 "nbformat": 4,
 "nbformat_minor": 5
}
