{
 "cells": [
  {
   "cell_type": "code",
   "execution_count": 1,
   "id": "senior-recruitment",
   "metadata": {},
   "outputs": [],
   "source": [
    "from numpy.linalg import inv, eig\n",
    "from numpy.linalg import matrix_rank as rank\n",
    "from numpy import array, eye, dot, zeros, poly, ones\n",
    "from numpy import roots, arange, asarray, concatenate\n",
    "from functools import reduce\n",
    "import matplotlib.pyplot as plt\n",
    "from control import acker, place, ss, forced_response\n",
    "from control import obsv, ctrb, minreal, tf\n",
    "from IPython.display import Image\n",
    "\n",
    "def mul_mat(*args):\n",
    "    return reduce(dot, args)\n",
    "\n",
    "def plota_resp(T,\n",
    "               yout,\n",
    "               titulo,\n",
    "               xlabel='Tempos (s)',\n",
    "               ylabel='Altura da bolinha (m)\\n'):\n",
    "\n",
    "    plt.plot(T, yout)\n",
    "    plt.title(titulo + '\\n')\n",
    "    plt.xlabel('\\n' + xlabel)\n",
    "    plt.ylabel(ylabel + '\\n')\n",
    "    plt.grid(alpha=.5)\n",
    "    plt.show()\n",
    "    \n",
    "def plota_resp_sist(t, yout):\n",
    "    \n",
    "    plt.rcParams[\"figure.figsize\"] = (11,7)\n",
    "    \n",
    "    fig, axes = plt.subplots(4, 1)\n",
    "    ylabels = [\"x1\", \"x1'\", \"x2\", \"x2'\"]\n",
    "\n",
    "    for num, ax in enumerate(axes.flatten()):\n",
    "        ax.axhline(y=0, color='black')\n",
    "        ax.plot(T, yout[num], color='b')\n",
    "        ax.set_ylabel(ylabels[num])\n",
    "        ax.grid()\n",
    "\n",
    "    fig.tight_layout()\n",
    "    plt.show()    \n",
    "    \n",
    "# plots config    \n",
    "plt.rcParams[\"figure.figsize\"] = (11,7)\n",
    "plt.rcParams.update({'font.size': 15})\n"
   ]
  },
  {
   "cell_type": "markdown",
   "id": "hungry-victory",
   "metadata": {},
   "source": [
    "$$ $$\n",
    "# Aula 11\n",
    "$$ $$\n",
    "## Exercício 01\n",
    "$$ $$"
   ]
  },
  {
   "cell_type": "code",
   "execution_count": 2,
   "id": "stock-crime",
   "metadata": {},
   "outputs": [],
   "source": [
    "A = array([[2,   0,   -3],\n",
    "           [0,   0,    0],\n",
    "           [3/2, 0,  5/2]])\n",
    "\n",
    "B = array([[-1, 0, -2]]).T\n",
    "\n",
    "C = array([1, 1, -1])\n",
    "\n",
    "D = 0\n",
    "\n",
    "# observabilidade\n",
    "O = array([C, mul_mat(C,A), mul_mat(C,A,A)])\n",
    "\n",
    "# controlabilidade\n",
    "P = array([B, mul_mat(A,B), mul_mat(A,A,B)]).T"
   ]
  },
  {
   "cell_type": "code",
   "execution_count": 3,
   "id": "caring-needle",
   "metadata": {},
   "outputs": [
    {
     "data": {
      "text/plain": [
       "array([[-1],\n",
       "       [ 0],\n",
       "       [-2]])"
      ]
     },
     "execution_count": 3,
     "metadata": {},
     "output_type": "execute_result"
    }
   ],
   "source": [
    "B"
   ]
  },
  {
   "cell_type": "code",
   "execution_count": 4,
   "id": "likely-disposition",
   "metadata": {},
   "outputs": [
    {
     "data": {
      "text/plain": [
       "array([[  1.  ,   1.  ,  -1.  ],\n",
       "       [  0.5 ,   0.  ,  -5.5 ],\n",
       "       [ -7.25,   0.  , -15.25]])"
      ]
     },
     "execution_count": 4,
     "metadata": {},
     "output_type": "execute_result"
    }
   ],
   "source": [
    "O"
   ]
  },
  {
   "cell_type": "code",
   "execution_count": 5,
   "id": "saving-chemistry",
   "metadata": {},
   "outputs": [
    {
     "data": {
      "text/plain": [
       "3"
      ]
     },
     "execution_count": 5,
     "metadata": {},
     "output_type": "execute_result"
    }
   ],
   "source": [
    "rank(O)"
   ]
  },
  {
   "cell_type": "markdown",
   "id": "patent-orchestra",
   "metadata": {},
   "source": [
    "O sistema é observável (rank chieio).\n",
    "$$ $$"
   ]
  },
  {
   "cell_type": "code",
   "execution_count": 6,
   "id": "beautiful-brooklyn",
   "metadata": {},
   "outputs": [
    {
     "data": {
      "text/plain": [
       "matrix([[  1.  ,   1.  ,  -1.  ],\n",
       "        [  0.5 ,   0.  ,  -5.5 ],\n",
       "        [ -7.25,   0.  , -15.25]])"
      ]
     },
     "execution_count": 6,
     "metadata": {},
     "output_type": "execute_result"
    }
   ],
   "source": [
    "# consigo criar a matriz observabilidade direto\n",
    "obsv(A,C)"
   ]
  },
  {
   "cell_type": "code",
   "execution_count": 7,
   "id": "composed-geology",
   "metadata": {},
   "outputs": [
    {
     "data": {
      "text/plain": [
       "(1, 3, 3)"
      ]
     },
     "execution_count": 7,
     "metadata": {},
     "output_type": "execute_result"
    }
   ],
   "source": [
    "P.shape"
   ]
  },
  {
   "cell_type": "code",
   "execution_count": 8,
   "id": "ruled-shipping",
   "metadata": {},
   "outputs": [
    {
     "data": {
      "text/plain": [
       "array([[[ -1.  ,   4.  ,  27.5 ],\n",
       "        [  0.  ,   0.  ,   0.  ],\n",
       "        [ -2.  ,  -6.5 , -10.25]]])"
      ]
     },
     "execution_count": 8,
     "metadata": {},
     "output_type": "execute_result"
    }
   ],
   "source": [
    "P"
   ]
  },
  {
   "cell_type": "code",
   "execution_count": 9,
   "id": "approximate-houston",
   "metadata": {},
   "outputs": [
    {
     "data": {
      "text/plain": [
       "matrix([[ -1.  ,   4.  ,  27.5 ],\n",
       "        [  0.  ,   0.  ,   0.  ],\n",
       "        [ -2.  ,  -6.5 , -10.25]])"
      ]
     },
     "execution_count": 9,
     "metadata": {},
     "output_type": "execute_result"
    }
   ],
   "source": [
    "# consigo criar a matriz controlabilidade direto\n",
    "ctrb(A,B)"
   ]
  },
  {
   "cell_type": "code",
   "execution_count": 10,
   "id": "korean-logging",
   "metadata": {},
   "outputs": [
    {
     "data": {
      "text/plain": [
       "array([ True])"
      ]
     },
     "execution_count": 10,
     "metadata": {},
     "output_type": "execute_result"
    }
   ],
   "source": [
    "rank(ctrb(A,B)) == rank(P)"
   ]
  },
  {
   "cell_type": "markdown",
   "id": "exceptional-claim",
   "metadata": {},
   "source": [
    "$$ $$\n",
    "$P$ não possui inversa por ser LD, logo é necessário modificar alguma (no caso a última) coluna manualmente.\n",
    "$$ $$"
   ]
  },
  {
   "cell_type": "code",
   "execution_count": 11,
   "id": "deluxe-creation",
   "metadata": {},
   "outputs": [
    {
     "data": {
      "text/plain": [
       "array([[-1. ,  4. ,  0. ],\n",
       "       [ 0. ,  0. ,  1. ],\n",
       "       [-2. , -6.5,  0. ]])"
      ]
     },
     "execution_count": 11,
     "metadata": {},
     "output_type": "execute_result"
    }
   ],
   "source": [
    "P = asarray(ctrb(A,B))\n",
    "P1 = P.copy()\n",
    "\n",
    "P1[:, 2] = array([0, 1, 0])\n",
    "\n",
    "P1"
   ]
  },
  {
   "cell_type": "code",
   "execution_count": 12,
   "id": "textile-consolidation",
   "metadata": {},
   "outputs": [],
   "source": [
    "\n",
    "A_bar = mul_mat(inv(P1), A, P1)\n",
    "B_bar = mul_mat(inv(P1), B)\n",
    "C_bar = mul_mat(C, P1)\n",
    "\n",
    "O = array([C_bar, mul_mat(C_bar,A_bar), mul_mat(C_bar,A_bar,A_bar)])\n"
   ]
  },
  {
   "cell_type": "code",
   "execution_count": 13,
   "id": "introductory-tuition",
   "metadata": {},
   "outputs": [
    {
     "data": {
      "text/plain": [
       "array([[ 0. , -9.5,  0. ],\n",
       "       [ 1. ,  4.5,  0. ],\n",
       "       [ 0. ,  0. ,  0. ]])"
      ]
     },
     "execution_count": 13,
     "metadata": {},
     "output_type": "execute_result"
    }
   ],
   "source": [
    "A_bar"
   ]
  },
  {
   "cell_type": "code",
   "execution_count": 14,
   "id": "together-adult",
   "metadata": {},
   "outputs": [
    {
     "data": {
      "text/plain": [
       "array([[1.],\n",
       "       [0.],\n",
       "       [0.]])"
      ]
     },
     "execution_count": 14,
     "metadata": {},
     "output_type": "execute_result"
    }
   ],
   "source": [
    "B_bar"
   ]
  },
  {
   "cell_type": "code",
   "execution_count": 15,
   "id": "closing-chrome",
   "metadata": {},
   "outputs": [
    {
     "data": {
      "text/plain": [
       "array([ 1. , 10.5,  1. ])"
      ]
     },
     "execution_count": 15,
     "metadata": {},
     "output_type": "execute_result"
    }
   ],
   "source": [
    "C_bar"
   ]
  },
  {
   "cell_type": "code",
   "execution_count": 16,
   "id": "beginning-celebration",
   "metadata": {},
   "outputs": [
    {
     "name": "stdout",
     "output_type": "stream",
     "text": [
      "0 states have been removed from the model\n"
     ]
    }
   ],
   "source": [
    "\n",
    "rsys = minreal(ss(A,B,C,D))\n"
   ]
  },
  {
   "cell_type": "code",
   "execution_count": 17,
   "id": "gorgeous-stack",
   "metadata": {},
   "outputs": [
    {
     "data": {
      "text/plain": [
       "2"
      ]
     },
     "execution_count": 17,
     "metadata": {},
     "output_type": "execute_result"
    }
   ],
   "source": [
    "rsys.states"
   ]
  },
  {
   "cell_type": "code",
   "execution_count": 18,
   "id": "northern-telephone",
   "metadata": {},
   "outputs": [
    {
     "data": {
      "text/plain": [
       "1"
      ]
     },
     "execution_count": 18,
     "metadata": {},
     "output_type": "execute_result"
    }
   ],
   "source": [
    "rsys.outputs"
   ]
  },
  {
   "cell_type": "code",
   "execution_count": 19,
   "id": "super-december",
   "metadata": {},
   "outputs": [
    {
     "data": {
      "text/plain": [
       "matrix([[ 1.5,  2. ],\n",
       "        [-2.5,  3. ]])"
      ]
     },
     "execution_count": 19,
     "metadata": {},
     "output_type": "execute_result"
    }
   ],
   "source": [
    "rsys.A"
   ]
  },
  {
   "cell_type": "code",
   "execution_count": 20,
   "id": "ordered-funeral",
   "metadata": {},
   "outputs": [
    {
     "data": {
      "text/plain": [
       "matrix([[ 2.12132034],\n",
       "        [-0.70710678]])"
      ]
     },
     "execution_count": 20,
     "metadata": {},
     "output_type": "execute_result"
    }
   ],
   "source": [
    "rsys.B"
   ]
  },
  {
   "cell_type": "code",
   "execution_count": 21,
   "id": "retired-leisure",
   "metadata": {},
   "outputs": [
    {
     "data": {
      "text/plain": [
       "matrix([[ 0.        , -1.41421356]])"
      ]
     },
     "execution_count": 21,
     "metadata": {},
     "output_type": "execute_result"
    }
   ],
   "source": [
    "rsys.C"
   ]
  },
  {
   "cell_type": "code",
   "execution_count": 22,
   "id": "wooden-shaft",
   "metadata": {},
   "outputs": [
    {
     "data": {
      "text/plain": [
       "matrix([[0.]])"
      ]
     },
     "execution_count": 22,
     "metadata": {},
     "output_type": "execute_result"
    }
   ],
   "source": [
    "rsys.D"
   ]
  },
  {
   "cell_type": "code",
   "execution_count": 23,
   "id": "visible-onion",
   "metadata": {},
   "outputs": [
    {
     "data": {
      "text/plain": [
       "array([2.2+2.1j, 2.2-2.1j, 0. +0.j ])"
      ]
     },
     "execution_count": 23,
     "metadata": {},
     "output_type": "execute_result"
    }
   ],
   "source": [
    "\n",
    "D, V = eig(A)\n",
    "\n",
    "D.round(1)\n"
   ]
  },
  {
   "cell_type": "code",
   "execution_count": 24,
   "id": "advised-theta",
   "metadata": {},
   "outputs": [
    {
     "data": {
      "text/plain": [
       "array([2.2+2.1j, 2.2-2.1j])"
      ]
     },
     "execution_count": 24,
     "metadata": {},
     "output_type": "execute_result"
    }
   ],
   "source": [
    "\n",
    "D, V = eig(rsys.A)\n",
    "\n",
    "D.round(1)\n"
   ]
  },
  {
   "cell_type": "markdown",
   "id": "representative-duplicate",
   "metadata": {},
   "source": [
    "$$ $$\n",
    "## Exercício 02\n",
    "$$ $$\n",
    "\n",
    "Exemplo de um sistema MIMO, 2 entradas e 2 saídas que poderiam ser múltiplas.\n",
    "\n",
    "Aqui terá vários tipos de realizações mínimas para um sistema que é MIMO.\n",
    "$$ $$"
   ]
  },
  {
   "cell_type": "code",
   "execution_count": 2,
   "id": "level-covering",
   "metadata": {},
   "outputs": [],
   "source": [
    "A = array([[-1, -3, 0],\n",
    "           [0,   1, 1],\n",
    "           [0,   2, 0]])\n",
    "\n",
    "B = array([[1,     0,   0],\n",
    "           [2/3, 1/3, 1/3]]).T\n",
    "\n",
    "C = array([[1, -1, 2],\n",
    "           [0,  6, 3]])\n",
    "\n",
    "D = 0"
   ]
  },
  {
   "cell_type": "code",
   "execution_count": 26,
   "id": "alike-builder",
   "metadata": {},
   "outputs": [
    {
     "data": {
      "text/plain": [
       "array([[-1, -3,  0],\n",
       "       [ 0,  1,  1],\n",
       "       [ 0,  2,  0]])"
      ]
     },
     "execution_count": 26,
     "metadata": {},
     "output_type": "execute_result"
    }
   ],
   "source": [
    "A"
   ]
  },
  {
   "cell_type": "code",
   "execution_count": 27,
   "id": "collect-diameter",
   "metadata": {},
   "outputs": [
    {
     "data": {
      "text/plain": [
       "array([[1.        , 0.66666667],\n",
       "       [0.        , 0.33333333],\n",
       "       [0.        , 0.33333333]])"
      ]
     },
     "execution_count": 27,
     "metadata": {},
     "output_type": "execute_result"
    }
   ],
   "source": [
    "B"
   ]
  },
  {
   "cell_type": "code",
   "execution_count": 28,
   "id": "hungry-intervention",
   "metadata": {},
   "outputs": [
    {
     "data": {
      "text/plain": [
       "array([[ 1, -1,  2],\n",
       "       [ 0,  6,  3]])"
      ]
     },
     "execution_count": 28,
     "metadata": {},
     "output_type": "execute_result"
    }
   ],
   "source": [
    "C"
   ]
  },
  {
   "cell_type": "code",
   "execution_count": 29,
   "id": "julian-mississippi",
   "metadata": {},
   "outputs": [
    {
     "data": {
      "text/plain": [
       "2"
      ]
     },
     "execution_count": 29,
     "metadata": {},
     "output_type": "execute_result"
    }
   ],
   "source": [
    "\n",
    "rank(ctrb(A,B))"
   ]
  },
  {
   "cell_type": "code",
   "execution_count": 30,
   "id": "convertible-kruger",
   "metadata": {},
   "outputs": [
    {
     "data": {
      "text/plain": [
       "3"
      ]
     },
     "execution_count": 30,
     "metadata": {},
     "output_type": "execute_result"
    }
   ],
   "source": [
    "\n",
    "rank(obsv(A,C))"
   ]
  },
  {
   "cell_type": "markdown",
   "id": "cathedral-university",
   "metadata": {},
   "source": [
    "Acima vemos que o sistema não é controlável mas é observável.\n",
    "$$ $$"
   ]
  },
  {
   "cell_type": "code",
   "execution_count": 31,
   "id": "following-satellite",
   "metadata": {},
   "outputs": [],
   "source": [
    "D, V = eig(A)"
   ]
  },
  {
   "cell_type": "code",
   "execution_count": 32,
   "id": "living-vanilla",
   "metadata": {},
   "outputs": [
    {
     "data": {
      "text/plain": [
       "array([-1.,  2., -1.])"
      ]
     },
     "execution_count": 32,
     "metadata": {},
     "output_type": "execute_result"
    }
   ],
   "source": [
    "D"
   ]
  },
  {
   "cell_type": "code",
   "execution_count": 33,
   "id": "fifty-shipping",
   "metadata": {},
   "outputs": [
    {
     "data": {
      "text/plain": [
       "array([[ 1.   , -0.577, -1.   ],\n",
       "       [ 0.   ,  0.577, -0.   ],\n",
       "       [ 0.   ,  0.577,  0.   ]])"
      ]
     },
     "execution_count": 33,
     "metadata": {},
     "output_type": "execute_result"
    }
   ],
   "source": [
    "V.round(3)"
   ]
  },
  {
   "cell_type": "code",
   "execution_count": 8,
   "id": "bacterial-milton",
   "metadata": {},
   "outputs": [
    {
     "data": {
      "text/plain": [
       "(3, 6)"
      ]
     },
     "execution_count": 8,
     "metadata": {},
     "output_type": "execute_result"
    }
   ],
   "source": [
    "asarray(ctrb(A,B)).shape"
   ]
  },
  {
   "cell_type": "code",
   "execution_count": 34,
   "id": "silent-rainbow",
   "metadata": {},
   "outputs": [],
   "source": [
    "\n",
    "# minimal realization\n",
    "T = array([[1, -2/3, -1/3],\n",
    "           [0, -1/3,  1/3],\n",
    "           [0,  2/3,  1/3]])\n",
    "\n",
    "A_bar = mul_mat(inv(T),A,T)\n",
    "\n",
    "B_bar = mul_mat(inv(T),B)\n",
    "\n",
    "C_bar = mul_mat(C,T)\n",
    "\n",
    "D_bar = zeros((C_bar.shape[0], B_bar.shape[1]))\n"
   ]
  },
  {
   "cell_type": "code",
   "execution_count": 35,
   "id": "coastal-audit",
   "metadata": {},
   "outputs": [
    {
     "data": {
      "text/plain": [
       "array([[-1.,  1.,  0.],\n",
       "       [ 0., -1.,  0.],\n",
       "       [ 0.,  0.,  2.]])"
      ]
     },
     "execution_count": 35,
     "metadata": {},
     "output_type": "execute_result"
    }
   ],
   "source": [
    "A_bar"
   ]
  },
  {
   "cell_type": "code",
   "execution_count": 36,
   "id": "touched-graphic",
   "metadata": {},
   "outputs": [
    {
     "data": {
      "text/plain": [
       "array([[1., 1.],\n",
       "       [0., 0.],\n",
       "       [0., 1.]])"
      ]
     },
     "execution_count": 36,
     "metadata": {},
     "output_type": "execute_result"
    }
   ],
   "source": [
    "B_bar"
   ]
  },
  {
   "cell_type": "code",
   "execution_count": 37,
   "id": "located-audience",
   "metadata": {},
   "outputs": [
    {
     "data": {
      "text/plain": [
       "array([[1., 1., 0.],\n",
       "       [0., 0., 3.]])"
      ]
     },
     "execution_count": 37,
     "metadata": {},
     "output_type": "execute_result"
    }
   ],
   "source": [
    "C_bar"
   ]
  },
  {
   "cell_type": "code",
   "execution_count": 38,
   "id": "fluid-connecticut",
   "metadata": {},
   "outputs": [
    {
     "data": {
      "text/plain": [
       "array([[0., 0.],\n",
       "       [0., 0.]])"
      ]
     },
     "execution_count": 38,
     "metadata": {},
     "output_type": "execute_result"
    }
   ],
   "source": [
    "D_bar"
   ]
  },
  {
   "cell_type": "code",
   "execution_count": 39,
   "id": "pursuant-industry",
   "metadata": {},
   "outputs": [
    {
     "name": "stdout",
     "output_type": "stream",
     "text": [
      "1 states have been removed from the model\n"
     ]
    }
   ],
   "source": [
    "\n",
    "# fazer redução\n",
    "sysMin = minreal(ss(A_bar,B_bar,C_bar,D_bar))\n"
   ]
  },
  {
   "cell_type": "code",
   "execution_count": 40,
   "id": "binding-personality",
   "metadata": {},
   "outputs": [
    {
     "data": {
      "text/plain": [
       "array([[-1., -0.],\n",
       "       [-0.,  2.]])"
      ]
     },
     "execution_count": 40,
     "metadata": {},
     "output_type": "execute_result"
    }
   ],
   "source": [
    "sysMin.A.round(3)"
   ]
  },
  {
   "cell_type": "code",
   "execution_count": 41,
   "id": "capable-consideration",
   "metadata": {},
   "outputs": [
    {
     "data": {
      "text/plain": [
       "array([[-1., -1.],\n",
       "       [-0.,  1.]])"
      ]
     },
     "execution_count": 41,
     "metadata": {},
     "output_type": "execute_result"
    }
   ],
   "source": [
    "sysMin.B.round(3)"
   ]
  },
  {
   "cell_type": "code",
   "execution_count": 42,
   "id": "alive-athens",
   "metadata": {},
   "outputs": [
    {
     "data": {
      "text/plain": [
       "array([[-1., -0.],\n",
       "       [ 0.,  3.]])"
      ]
     },
     "execution_count": 42,
     "metadata": {},
     "output_type": "execute_result"
    }
   ],
   "source": [
    "sysMin.C.round(3)"
   ]
  },
  {
   "cell_type": "code",
   "execution_count": 43,
   "id": "foster-distance",
   "metadata": {},
   "outputs": [
    {
     "data": {
      "text/plain": [
       "array([[0., 0.],\n",
       "       [0., 0.]])"
      ]
     },
     "execution_count": 43,
     "metadata": {},
     "output_type": "execute_result"
    }
   ],
   "source": [
    "sysMin.D.round(3)"
   ]
  },
  {
   "cell_type": "code",
   "execution_count": 44,
   "id": "frequent-feedback",
   "metadata": {},
   "outputs": [
    {
     "data": {
      "text/plain": [
       "array([-1.,  2., -1.])"
      ]
     },
     "execution_count": 44,
     "metadata": {},
     "output_type": "execute_result"
    }
   ],
   "source": [
    "\n",
    "D, V = eig(A)\n",
    "\n",
    "D"
   ]
  },
  {
   "cell_type": "code",
   "execution_count": 45,
   "id": "ongoing-collapse",
   "metadata": {},
   "outputs": [
    {
     "data": {
      "text/plain": [
       "array([-1.,  2.])"
      ]
     },
     "execution_count": 45,
     "metadata": {},
     "output_type": "execute_result"
    }
   ],
   "source": [
    "\n",
    "D, V = eig(sysMin.A)\n",
    "\n",
    "D"
   ]
  },
  {
   "cell_type": "code",
   "execution_count": 46,
   "id": "infinite-greeting",
   "metadata": {},
   "outputs": [
    {
     "name": "stdout",
     "output_type": "stream",
     "text": [
      "1 states have been removed from the model\n"
     ]
    }
   ],
   "source": [
    "\n",
    "# sistema original\n",
    "aux = minreal(ss(A,B,C,D_bar))\n"
   ]
  },
  {
   "cell_type": "code",
   "execution_count": 47,
   "id": "conscious-pierre",
   "metadata": {},
   "outputs": [
    {
     "data": {
      "text/plain": [
       "array([[-1.   ,  2.121],\n",
       "       [ 0.   ,  2.   ]])"
      ]
     },
     "execution_count": 47,
     "metadata": {},
     "output_type": "execute_result"
    }
   ],
   "source": [
    "aux.A.round(3)"
   ]
  },
  {
   "cell_type": "code",
   "execution_count": 48,
   "id": "hollywood-senior",
   "metadata": {},
   "outputs": [
    {
     "data": {
      "text/plain": [
       "array([-1.,  2.])"
      ]
     },
     "execution_count": 48,
     "metadata": {},
     "output_type": "execute_result"
    }
   ],
   "source": [
    "eig(aux.A)[0]"
   ]
  },
  {
   "cell_type": "code",
   "execution_count": 49,
   "id": "hydraulic-peter",
   "metadata": {},
   "outputs": [
    {
     "data": {
      "text/latex": [
       "$$\\begin{bmatrix}\\frac{s}{s^2 + s}&\\frac{s}{s^2 + s}\\\\\\frac{-1.665 \\times 10^{-15} s + 9.992 \\times 10^{-16}}{s^2 - s - 2}&\\frac{3 s + 3}{s^2 - s - 2}\\\\ \\end{bmatrix}$$"
      ],
      "text/plain": [
       "TransferFunction([[array([1., 0.]), array([1., 0.])], [array([-1.66533454e-15,  9.99200722e-16]), array([3., 3.])]], [[array([1., 1., 0.]), array([1., 1., 0.])], [array([ 1., -1., -2.]), array([ 1., -1., -2.])]])"
      ]
     },
     "execution_count": 49,
     "metadata": {},
     "output_type": "execute_result"
    }
   ],
   "source": [
    "tf(ss(sysMin))"
   ]
  },
  {
   "cell_type": "markdown",
   "id": "cardiac-dallas",
   "metadata": {},
   "source": [
    "$$ $$\n",
    "Acima vemos 4 funções de trasnferência pro sistema.\n",
    "\n",
    "* entrada 1 -> saída 1\n",
    "\n",
    "* entrada 1 -> saída 2\n",
    "\n",
    "* entrada 2 -> saída 1\n",
    "\n",
    "* entrada 2 -> saída 2\n",
    "\n",
    "$$ $$"
   ]
  },
  {
   "cell_type": "code",
   "execution_count": 50,
   "id": "seventh-bedroom",
   "metadata": {},
   "outputs": [
    {
     "data": {
      "text/plain": [
       "2"
      ]
     },
     "execution_count": 50,
     "metadata": {},
     "output_type": "execute_result"
    }
   ],
   "source": [
    "rank(ctrb(sysMin.A,sysMin.B))"
   ]
  },
  {
   "cell_type": "markdown",
   "id": "grand-processor",
   "metadata": {},
   "source": [
    "Agora o sistema é controlável.\n",
    "$$ $$"
   ]
  },
  {
   "cell_type": "markdown",
   "id": "indoor-taiwan",
   "metadata": {},
   "source": [
    "$$ $$\n",
    "## Exercício 03\n",
    "$$ $$\n",
    "Aqui é desejado os pólos do observador em $-4$ e $-4$.\n",
    "$$ $$"
   ]
  },
  {
   "cell_type": "code",
   "execution_count": 51,
   "id": "turkish-intensity",
   "metadata": {},
   "outputs": [],
   "source": [
    "A = array([[-1,  0],\n",
    "           [ 1, -1]])\n",
    "\n",
    "B = array([[2, 0]]).T\n",
    "\n",
    "#C = array([0, 0.5])\n",
    "C2 = array([[0, 0.5]])\n",
    "\n",
    "D = 0\n",
    "\n",
    "polos = array([-4, -4])\n",
    "\n",
    "L = acker(A.T, C2.T, polos).T"
   ]
  },
  {
   "cell_type": "code",
   "execution_count": 52,
   "id": "portuguese-recruitment",
   "metadata": {},
   "outputs": [
    {
     "data": {
      "text/plain": [
       "matrix([[18.],\n",
       "        [12.]])"
      ]
     },
     "execution_count": 52,
     "metadata": {},
     "output_type": "execute_result"
    }
   ],
   "source": [
    "L"
   ]
  },
  {
   "cell_type": "code",
   "execution_count": 53,
   "id": "agreed-count",
   "metadata": {},
   "outputs": [
    {
     "data": {
      "text/plain": [
       "array([-4.+0.j, -4.-0.j])"
      ]
     },
     "execution_count": 53,
     "metadata": {},
     "output_type": "execute_result"
    }
   ],
   "source": [
    "D, V = eig(A-dot(L,C2))\n",
    "D.round()"
   ]
  },
  {
   "cell_type": "markdown",
   "id": "nonprofit-drilling",
   "metadata": {},
   "source": [
    "$$ $$\n",
    "O exemplo a seguir é para um sistema discreto.\n",
    "$$ $$"
   ]
  },
  {
   "cell_type": "code",
   "execution_count": 54,
   "id": "academic-agriculture",
   "metadata": {},
   "outputs": [],
   "source": [
    "A = array([[1.8097,  -0.8187],\n",
    "           [1,             0]])\n",
    "\n",
    "B = array([[0.5, 0]]).T\n",
    "\n",
    "#C = array([0, 0.5])\n",
    "C2 = array([[0.1810, -0.1810]])\n",
    "\n",
    "D = 0\n",
    "\n",
    "polos = array([0.5, 0.7])\n",
    "\n",
    "L = acker(A.T, C2.T, polos).T"
   ]
  },
  {
   "cell_type": "code",
   "execution_count": 55,
   "id": "alternate-touch",
   "metadata": {},
   "outputs": [
    {
     "data": {
      "text/plain": [
       "array([[-83.19],\n",
       "       [-86.56]])"
      ]
     },
     "execution_count": 55,
     "metadata": {},
     "output_type": "execute_result"
    }
   ],
   "source": [
    "L.round(2)"
   ]
  },
  {
   "cell_type": "code",
   "execution_count": 56,
   "id": "necessary-association",
   "metadata": {},
   "outputs": [
    {
     "data": {
      "text/plain": [
       "array([0.7, 0.5])"
      ]
     },
     "execution_count": 56,
     "metadata": {},
     "output_type": "execute_result"
    }
   ],
   "source": [
    "\n",
    "D, V = eig(A-dot(L,C2))\n",
    "D.round(2)"
   ]
  },
  {
   "cell_type": "markdown",
   "id": "ahead-chaos",
   "metadata": {},
   "source": [
    "Acima vemos valores menores que $1$, já que para um sistema discreto ser estável os pólos precisam estar dentro do círculo de raio unitário.\n",
    "$$ $$"
   ]
  },
  {
   "cell_type": "code",
   "execution_count": 57,
   "id": "controversial-village",
   "metadata": {},
   "outputs": [],
   "source": [
    "x = array([-1, 1])\n",
    "x_hat = array([0, 0])\n",
    "\n",
    "XX = x.copy()\n",
    "XXhat = x_hat.copy()\n",
    "\n",
    "T = 40\n",
    "\n",
    "UU = 0.1*ones(T)\n"
   ]
  },
  {
   "cell_type": "code",
   "execution_count": 58,
   "id": "unlikely-sharing",
   "metadata": {},
   "outputs": [
    {
     "name": "stdout",
     "output_type": "stream",
     "text": [
      "erro de índice: 39\n"
     ]
    }
   ],
   "source": [
    "primeiro = True\n",
    "\n",
    "for k in range(T):\n",
    "    \n",
    "    try:\n",
    "        u = UU[k+1]\n",
    "\n",
    "        y = dot(C2,x) + D*u\n",
    "\n",
    "        yhat = dot(C2,x_hat) + D*u\n",
    "\n",
    "        x = dot(A,x) + B*u\n",
    "\n",
    "        xhat = dot(A,x_hat) + B*u + dot(L, ([y-yhat]))\n",
    "\n",
    "        aux = array([XX]).T\n",
    "\n",
    "        if primeiro:\n",
    "            XX = concatenate((aux, x), axis=1)\n",
    "            primeiro = False\n",
    "        else:\n",
    "            XX = concatenate((XX, x), axis=1)\n",
    "\n",
    "        #print(XX)\n",
    "\n",
    "        XXhat = concatenate((XXhat, x_hat), axis=0)\n",
    "    except:\n",
    "        print(f'erro de índice: {k}')\n",
    "        pass\n"
   ]
  },
  {
   "cell_type": "code",
   "execution_count": 59,
   "id": "grave-limitation",
   "metadata": {},
   "outputs": [
    {
     "data": {
      "text/plain": [
       "((2, 79), (80,))"
      ]
     },
     "execution_count": 59,
     "metadata": {},
     "output_type": "execute_result"
    }
   ],
   "source": [
    "XX.shape, XXhat.shape"
   ]
  },
  {
   "cell_type": "code",
   "execution_count": 60,
   "id": "female-patient",
   "metadata": {},
   "outputs": [
    {
     "data": {
      "image/png": "[encoded data removed]",
      "text/plain": [
       "<Figure size 792x504 with 1 Axes>"
      ]
     },
     "metadata": {
      "needs_background": "light"
     },
     "output_type": "display_data"
    }
   ],
   "source": [
    "aux = XX.copy().T\n",
    "aux2 = XXhat.copy().T\n",
    "\n",
    "plt.plot(arange(0,T*2-1,1), aux[:,0], '-b')\n",
    "plt.plot(arange(0,T*2-1,1), aux[:,1], '-g')\n",
    "plt.plot(arange(0,T*2,1), aux2, '-r')\n",
    "\n",
    "plt.grid(alpha=.5)\n",
    "plt.show()"
   ]
  },
  {
   "cell_type": "code",
   "execution_count": null,
   "id": "incorporate-analysis",
   "metadata": {},
   "outputs": [],
   "source": []
  }
 ],
 "metadata": {
  "kernelspec": {
   "display_name": "Python 3",
   "language": "python",
   "name": "python3"
  },
  "language_info": {
   "codemirror_mode": {
    "name": "ipython",
    "version": 3
   },
   "file_extension": ".py",
   "mimetype": "text/x-python",
   "name": "python",
   "nbconvert_exporter": "python",
   "pygments_lexer": "ipython3",
   "version": "3.7.9"
  }
 },
 "nbformat": 4,
 "nbformat_minor": 5
}
