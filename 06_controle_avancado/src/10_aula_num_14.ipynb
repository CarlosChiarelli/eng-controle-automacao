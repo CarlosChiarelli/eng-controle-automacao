{
 "cells": [
  {
   "cell_type": "code",
   "execution_count": 1,
   "id": "descending-celebrity",
   "metadata": {},
   "outputs": [],
   "source": [
    "from numpy.linalg import inv, eig\n",
    "from numpy.linalg import matrix_rank as rank\n",
    "from numpy import array, eye, dot, zeros, poly, ones\n",
    "from numpy import roots, arange, asarray, concatenate\n",
    "from functools import reduce\n",
    "import matplotlib.pyplot as plt\n",
    "from control import acker, place, ss, forced_response\n",
    "from control import obsv, ctrb, minreal, tf, ss2tf, tf2ss\n",
    "from IPython.display import Image\n",
    "\n",
    "def mul_mat(*args):\n",
    "    return reduce(dot, args)\n",
    "\n",
    "def plota_resp(T,\n",
    "               yout,\n",
    "               titulo,\n",
    "               xlabel='Tempos (s)',\n",
    "               ylabel='Altura da bolinha (m)\\n'):\n",
    "\n",
    "    plt.plot(T, yout)\n",
    "    plt.title(titulo + '\\n')\n",
    "    plt.xlabel('\\n' + xlabel)\n",
    "    plt.ylabel(ylabel + '\\n')\n",
    "    plt.grid(alpha=.5)\n",
    "    plt.show()\n",
    "    \n",
    "def plota_resp_sist(t, yout):\n",
    "    \n",
    "    plt.rcParams[\"figure.figsize\"] = (11,7)\n",
    "    \n",
    "    fig, axes = plt.subplots(4, 1)\n",
    "    ylabels = [\"x1\", \"x1'\", \"x2\", \"x2'\"]\n",
    "\n",
    "    for num, ax in enumerate(axes.flatten()):\n",
    "        ax.axhline(y=0, color='black')\n",
    "        ax.plot(T, yout[num], color='b')\n",
    "        ax.set_ylabel(ylabels[num])\n",
    "        ax.grid()\n",
    "\n",
    "    fig.tight_layout()\n",
    "    plt.show()    \n",
    "    \n",
    "# plots config    \n",
    "plt.rcParams[\"figure.figsize\"] = (11,7)\n",
    "plt.rcParams.update({'font.size': 15})\n"
   ]
  },
  {
   "cell_type": "code",
   "execution_count": 2,
   "id": "amber-processor",
   "metadata": {},
   "outputs": [],
   "source": [
    "\n",
    "# numerador e denominador da função transferência\n",
    "n = [2, 3, -4]\n",
    "d = [1, -1, 3, -1]\n",
    "\n",
    "out = tf2ss(n, d)"
   ]
  },
  {
   "cell_type": "code",
   "execution_count": 3,
   "id": "sixth-february",
   "metadata": {},
   "outputs": [
    {
     "data": {
      "text/plain": [
       "matrix([[ 1.,  3., -1.],\n",
       "        [-1., -0.,  0.],\n",
       "        [ 0.,  1.,  0.]])"
      ]
     },
     "execution_count": 3,
     "metadata": {},
     "output_type": "execute_result"
    }
   ],
   "source": [
    "out.A.round()"
   ]
  },
  {
   "cell_type": "code",
   "execution_count": 4,
   "id": "lovely-rebecca",
   "metadata": {},
   "outputs": [
    {
     "data": {
      "text/plain": [
       "matrix([[-1.],\n",
       "        [ 0.],\n",
       "        [ 0.]])"
      ]
     },
     "execution_count": 4,
     "metadata": {},
     "output_type": "execute_result"
    }
   ],
   "source": [
    "out.B.round()"
   ]
  },
  {
   "cell_type": "code",
   "execution_count": 5,
   "id": "solid-princeton",
   "metadata": {},
   "outputs": [
    {
     "data": {
      "text/plain": [
       "matrix([[-2.,  3., -4.]])"
      ]
     },
     "execution_count": 5,
     "metadata": {},
     "output_type": "execute_result"
    }
   ],
   "source": [
    "out.C.round()"
   ]
  },
  {
   "cell_type": "code",
   "execution_count": 6,
   "id": "abstract-cincinnati",
   "metadata": {},
   "outputs": [
    {
     "data": {
      "text/plain": [
       "matrix([[0.]])"
      ]
     },
     "execution_count": 6,
     "metadata": {},
     "output_type": "execute_result"
    }
   ],
   "source": [
    "out.D.round()"
   ]
  },
  {
   "cell_type": "markdown",
   "id": "varied-disability",
   "metadata": {},
   "source": [
    "$$ $$\n",
    "# Aula 14\n",
    "$$ $$"
   ]
  },
  {
   "cell_type": "code",
   "execution_count": 7,
   "id": "brilliant-handle",
   "metadata": {},
   "outputs": [],
   "source": [
    "# Modelo de planta utilizado\n",
    "A = array([[4,  -2],\n",
    "           [15, -9]])\n",
    "\n",
    "B = array([[1, 1]]).T\n",
    "\n",
    "C = array([1, 0])\n",
    "C2 = array([[1, 0]])\n",
    "\n",
    "D = array([0])\n",
    "\n",
    "out = ss2tf(A,B,C,D)\n",
    "\n",
    "sys = ss (A,B,C,D)"
   ]
  },
  {
   "cell_type": "code",
   "execution_count": 8,
   "id": "optimum-vietnam",
   "metadata": {},
   "outputs": [
    {
     "data": {
      "text/latex": [
       "$$\\frac{s + 7}{s^2 + 5 s - 6}$$"
      ],
      "text/plain": [
       "TransferFunction(array([1., 7.]), array([ 1.,  5., -6.]))"
      ]
     },
     "execution_count": 8,
     "metadata": {},
     "output_type": "execute_result"
    }
   ],
   "source": [
    "out"
   ]
  },
  {
   "cell_type": "code",
   "execution_count": 9,
   "id": "right-police",
   "metadata": {},
   "outputs": [],
   "source": [
    "# [Ac,Bc,Cc,T] = ctrbf(A,B,C)\n",
    "# [Ao,Bo,Co,T] = obsvf(A,B,C)"
   ]
  },
  {
   "cell_type": "code",
   "execution_count": 10,
   "id": "sonic-invitation",
   "metadata": {},
   "outputs": [],
   "source": [
    "P = array([B, dot(A,B)])"
   ]
  },
  {
   "cell_type": "code",
   "execution_count": 11,
   "id": "computational-anatomy",
   "metadata": {},
   "outputs": [
    {
     "data": {
      "text/plain": [
       "array([[1, 1],\n",
       "       [2, 6]])"
      ]
     },
     "execution_count": 11,
     "metadata": {},
     "output_type": "execute_result"
    }
   ],
   "source": [
    "P = P.reshape((2,2))\n",
    "\n",
    "P"
   ]
  },
  {
   "cell_type": "code",
   "execution_count": 12,
   "id": "rapid-dance",
   "metadata": {},
   "outputs": [],
   "source": [
    "T = P\n",
    "\n",
    "Abar = mul_mat(inv(T), A, T)\n",
    "Bbar = dot(inv(T), B)\n",
    "Cbar = dot(C, T)"
   ]
  },
  {
   "cell_type": "code",
   "execution_count": 13,
   "id": "artistic-finding",
   "metadata": {},
   "outputs": [],
   "source": [
    "Q = array([C, dot(C,A)])\n",
    "\n",
    "T = inv(Q)\n",
    "\n",
    "Abar = mul_mat(inv(T), A, T)\n",
    "Bbar = dot(inv(T), B)\n",
    "Cbar = dot(C, T)"
   ]
  },
  {
   "cell_type": "code",
   "execution_count": 14,
   "id": "anticipated-jordan",
   "metadata": {},
   "outputs": [],
   "source": [
    "iP = inv(P)"
   ]
  },
  {
   "cell_type": "code",
   "execution_count": 15,
   "id": "mighty-andrew",
   "metadata": {},
   "outputs": [
    {
     "data": {
      "text/plain": [
       "array([[ 1.5 , -0.25],\n",
       "       [-0.5 ,  0.25]])"
      ]
     },
     "execution_count": 15,
     "metadata": {},
     "output_type": "execute_result"
    }
   ],
   "source": [
    "iP"
   ]
  },
  {
   "cell_type": "code",
   "execution_count": 16,
   "id": "demonstrated-lewis",
   "metadata": {},
   "outputs": [
    {
     "data": {
      "text/plain": [
       "array([-0.5 ,  0.25])"
      ]
     },
     "execution_count": 16,
     "metadata": {},
     "output_type": "execute_result"
    }
   ],
   "source": [
    "iP[1,:]"
   ]
  },
  {
   "cell_type": "code",
   "execution_count": 17,
   "id": "determined-developer",
   "metadata": {},
   "outputs": [],
   "source": [
    "p = iP[1,:]\n",
    "\n",
    "iPP=[p, dot(p,A)]\n",
    "\n",
    "T = inv(iPP)\n",
    "\n",
    "Ac = mul_mat(inv(T), A, T)\n",
    "\n",
    "Bc = dot(inv(T), B)\n",
    "\n",
    "Cc = dot(C, T)"
   ]
  },
  {
   "cell_type": "code",
   "execution_count": 18,
   "id": "comfortable-crest",
   "metadata": {},
   "outputs": [],
   "source": [
    "iQ = inv(Q)"
   ]
  },
  {
   "cell_type": "code",
   "execution_count": 19,
   "id": "commercial-ending",
   "metadata": {},
   "outputs": [
    {
     "data": {
      "text/plain": [
       "array([[ 1. ,  0. ],\n",
       "       [ 2. , -0.5]])"
      ]
     },
     "execution_count": 19,
     "metadata": {},
     "output_type": "execute_result"
    }
   ],
   "source": [
    "iQ"
   ]
  },
  {
   "cell_type": "code",
   "execution_count": 20,
   "id": "grand-python",
   "metadata": {},
   "outputs": [
    {
     "data": {
      "text/plain": [
       "array([ 0. , -0.5])"
      ]
     },
     "execution_count": 20,
     "metadata": {},
     "output_type": "execute_result"
    }
   ],
   "source": [
    "iQ[:,1]"
   ]
  },
  {
   "cell_type": "code",
   "execution_count": 21,
   "id": "informational-mediterranean",
   "metadata": {},
   "outputs": [],
   "source": [
    "q = iQ[:,1]\n",
    "\n",
    "QQ = [q, dot(A,q)]\n",
    "\n",
    "T = (QQ)\n",
    "\n",
    "Ao = mul_mat(inv(T), A, T)\n",
    "\n",
    "Bo = dot(inv(T), B)\n",
    "\n",
    "Co = dot(C, T)"
   ]
  },
  {
   "cell_type": "code",
   "execution_count": 22,
   "id": "canadian-assessment",
   "metadata": {},
   "outputs": [
    {
     "data": {
      "text/plain": [
       "(1, 2)"
      ]
     },
     "execution_count": 22,
     "metadata": {},
     "output_type": "execute_result"
    }
   ],
   "source": [
    "C2.shape"
   ]
  },
  {
   "cell_type": "code",
   "execution_count": 23,
   "id": "collaborative-playing",
   "metadata": {},
   "outputs": [
    {
     "data": {
      "text/plain": [
       "array([[1],\n",
       "       [0]])"
      ]
     },
     "execution_count": 23,
     "metadata": {},
     "output_type": "execute_result"
    }
   ],
   "source": [
    "C2.T"
   ]
  },
  {
   "cell_type": "code",
   "execution_count": 24,
   "id": "thrown-legislation",
   "metadata": {},
   "outputs": [
    {
     "data": {
      "text/plain": [
       "array([[ 4, -2],\n",
       "       [15, -9]])"
      ]
     },
     "execution_count": 24,
     "metadata": {},
     "output_type": "execute_result"
    }
   ],
   "source": [
    "A"
   ]
  },
  {
   "cell_type": "code",
   "execution_count": 25,
   "id": "indoor-details",
   "metadata": {},
   "outputs": [
    {
     "data": {
      "text/plain": [
       "(array([-6., -8.]),\n",
       " matrix([[0.89442719, 0.5547002 ],\n",
       "         [0.4472136 , 0.83205029]]))"
      ]
     },
     "execution_count": 25,
     "metadata": {},
     "output_type": "execute_result"
    }
   ],
   "source": [
    "# Controlador com polos em s=-1 e s=-2\n",
    "# Observador com polos 3x mais rápido\n",
    "K = acker(A, B, [-1, -2])\n",
    "\n",
    "eig(A - dot(B,K))\n",
    "\n",
    "polos = array([-6, -8])\n",
    "\n",
    "C2 = array([[1, 0]])\n",
    "\n",
    "L = acker(A.T, C2.T, polos)\n",
    "#L = acker(A.T, C.T, [-6 -8])\n",
    "\n",
    "L = L.T\n",
    "\n",
    "eig(A-dot(L,C2))"
   ]
  },
  {
   "cell_type": "code",
   "execution_count": null,
   "id": "regulation-aircraft",
   "metadata": {},
   "outputs": [],
   "source": []
  },
  {
   "cell_type": "code",
   "execution_count": 26,
   "id": "utility-istanbul",
   "metadata": {},
   "outputs": [
    {
     "data": {
      "text/plain": [
       "array([[1, 0]])"
      ]
     },
     "execution_count": 26,
     "metadata": {},
     "output_type": "execute_result"
    }
   ],
   "source": [
    "C2"
   ]
  },
  {
   "cell_type": "code",
   "execution_count": 27,
   "id": "upper-thong",
   "metadata": {},
   "outputs": [
    {
     "data": {
      "text/plain": [
       "array([0])"
      ]
     },
     "execution_count": 27,
     "metadata": {},
     "output_type": "execute_result"
    }
   ],
   "source": [
    "D"
   ]
  },
  {
   "cell_type": "code",
   "execution_count": 28,
   "id": "humanitarian-stanford",
   "metadata": {},
   "outputs": [
    {
     "data": {
      "text/plain": [
       "((1, 2), (1,))"
      ]
     },
     "execution_count": 28,
     "metadata": {},
     "output_type": "execute_result"
    }
   ],
   "source": [
    "C2.shape, D.shape"
   ]
  },
  {
   "cell_type": "code",
   "execution_count": 29,
   "id": "hundred-interpretation",
   "metadata": {},
   "outputs": [],
   "source": [
    "D2 = array([[0]])\n",
    "\n",
    "a1_ = concatenate((A, B), axis=1)\n",
    "a2_ = concatenate((C2, D2), axis=1)\n",
    "\n",
    "AA = concatenate((a1_, a2_), axis=0)\n"
   ]
  },
  {
   "cell_type": "code",
   "execution_count": 30,
   "id": "sweet-excitement",
   "metadata": {},
   "outputs": [
    {
     "data": {
      "text/plain": [
       "array([[ 4, -2,  1],\n",
       "       [15, -9,  1],\n",
       "       [ 1,  0,  0]])"
      ]
     },
     "execution_count": 30,
     "metadata": {},
     "output_type": "execute_result"
    }
   ],
   "source": [
    "AA"
   ]
  },
  {
   "cell_type": "code",
   "execution_count": 31,
   "id": "mysterious-violin",
   "metadata": {},
   "outputs": [
    {
     "data": {
      "image/png": "[encoded data removed]",
      "text/plain": [
       "<IPython.core.display.Image object>"
      ]
     },
     "execution_count": 31,
     "metadata": {},
     "output_type": "execute_result"
    }
   ],
   "source": [
    "Image('../img/08_01.png')"
   ]
  },
  {
   "cell_type": "code",
   "execution_count": 32,
   "id": "separate-trailer",
   "metadata": {},
   "outputs": [
    {
     "data": {
      "text/plain": [
       "array([[0],\n",
       "       [0],\n",
       "       [2]])"
      ]
     },
     "execution_count": 32,
     "metadata": {},
     "output_type": "execute_result"
    }
   ],
   "source": [
    "# set point é 2\n",
    "rss = 2\n",
    "t = array([[0, 0, rss]]).T\n",
    "\n",
    "t"
   ]
  },
  {
   "cell_type": "code",
   "execution_count": 33,
   "id": "attached-river",
   "metadata": {},
   "outputs": [],
   "source": [
    "# xss -> 2x1\n",
    "# uss -> 1x1\n",
    "# t = [[xss], [uss]]\n",
    "aux = dot(inv(AA),t)\n",
    "\n",
    "\n",
    "xss = aux[0:2,:]\n",
    "\n",
    "# valor de controle\n",
    "uss = aux[2,:]"
   ]
  },
  {
   "cell_type": "code",
   "execution_count": 34,
   "id": "balanced-shanghai",
   "metadata": {},
   "outputs": [
    {
     "data": {
      "text/plain": [
       "array([[2.        ],\n",
       "       [3.14285714]])"
      ]
     },
     "execution_count": 34,
     "metadata": {},
     "output_type": "execute_result"
    }
   ],
   "source": [
    "# x1 tem que ficar em 2 e x2 ficar em 3.14\n",
    "xss"
   ]
  },
  {
   "cell_type": "code",
   "execution_count": 35,
   "id": "streaming-estonia",
   "metadata": {},
   "outputs": [
    {
     "data": {
      "text/plain": [
       "matrix([[-7.5,  5.5]])"
      ]
     },
     "execution_count": 35,
     "metadata": {},
     "output_type": "execute_result"
    }
   ],
   "source": [
    "K"
   ]
  },
  {
   "cell_type": "code",
   "execution_count": 36,
   "id": "contemporary-cross",
   "metadata": {},
   "outputs": [],
   "source": [
    "Nx = xss/rss\n",
    "Nu = uss/rss\n",
    "Nbar = Nu + dot(K,Nx)"
   ]
  },
  {
   "cell_type": "code",
   "execution_count": 37,
   "id": "quiet-circle",
   "metadata": {},
   "outputs": [],
   "source": [
    "Nbar = float(Nbar)"
   ]
  },
  {
   "cell_type": "code",
   "execution_count": 38,
   "id": "loaded-elements",
   "metadata": {},
   "outputs": [
    {
     "data": {
      "text/plain": [
       "0.2857142857142855"
      ]
     },
     "execution_count": 38,
     "metadata": {},
     "output_type": "execute_result"
    }
   ],
   "source": [
    "Nbar"
   ]
  },
  {
   "cell_type": "code",
   "execution_count": null,
   "id": "suburban-postage",
   "metadata": {},
   "outputs": [],
   "source": []
  },
  {
   "cell_type": "code",
   "execution_count": 39,
   "id": "complex-liability",
   "metadata": {},
   "outputs": [],
   "source": [
    "\n",
    "# construindo At\n",
    "a11 = A - dot(B,K)\n",
    "a12 = dot(B,K)\n",
    "a21 = zeros(A.shape)\n",
    "a22 = A - dot(L,C2)\n",
    "\n",
    "a1_ = concatenate((a11, a12), axis=1)\n",
    "a2_ = concatenate((a21, a22), axis=1)\n",
    "\n",
    "Ace = concatenate((a1_, a2_), axis=0)\n",
    "\n",
    "# construindo Bt\n",
    "b11 = B*Nbar\n",
    "b21 = zeros(B.shape)\n",
    "\n",
    "Bce = concatenate((b11, b21), axis=0)\n",
    "\n",
    "# construindo Ct\n",
    "c11 = C2\n",
    "c12 = zeros(C2.shape)\n",
    "\n",
    "Cce = concatenate((c11, c12), axis=1)\n"
   ]
  },
  {
   "cell_type": "code",
   "execution_count": null,
   "id": "descending-beach",
   "metadata": {},
   "outputs": [],
   "source": []
  },
  {
   "cell_type": "code",
   "execution_count": 40,
   "id": "compound-external",
   "metadata": {},
   "outputs": [],
   "source": [
    "\n",
    "# Ace = array([[A-dot(B,K), dot(B,K)],\n",
    "#              [zeros(A.shape), A-dot(L,C2)]])\n",
    "\n",
    "# Bce = array([B*Nbar, zeros(B.shape)])\n",
    "\n",
    "# Cce = array([C, zeros(size(C))])\n",
    "\n",
    "# Dce = array([0])"
   ]
  },
  {
   "cell_type": "code",
   "execution_count": null,
   "id": "swiss-coast",
   "metadata": {},
   "outputs": [],
   "source": []
  },
  {
   "cell_type": "code",
   "execution_count": 49,
   "id": "tough-survival",
   "metadata": {},
   "outputs": [],
   "source": [
    "t = arange(0, 10, 0.01)\n",
    "\n",
    "sys_est_cl = ss(Ace,Bce,Cce,D2)\n",
    "\n",
    "x0 = [0,0,3,3]\n",
    "#x0 = [0,0,0.5,0.5]\n",
    "\n",
    "T, yout, xout = forced_response(sys=sys_est_cl, T=t, U=2, X0=x0)\n"
   ]
  },
  {
   "cell_type": "code",
   "execution_count": 50,
   "id": "greater-ferry",
   "metadata": {},
   "outputs": [
    {
     "data": {
      "text/plain": [
       "(4, 1000)"
      ]
     },
     "execution_count": 50,
     "metadata": {},
     "output_type": "execute_result"
    }
   ],
   "source": [
    "xout.shape"
   ]
  },
  {
   "cell_type": "code",
   "execution_count": 51,
   "id": "aging-skating",
   "metadata": {},
   "outputs": [
    {
     "data": {
      "image/png": "[encoded data removed]",
      "text/plain": [
       "<Figure size 792x504 with 4 Axes>"
      ]
     },
     "metadata": {
      "needs_background": "light"
     },
     "output_type": "display_data"
    }
   ],
   "source": [
    "plota_resp_sist(T, xout)"
   ]
  },
  {
   "cell_type": "code",
   "execution_count": 52,
   "id": "adjusted-complement",
   "metadata": {},
   "outputs": [
    {
     "data": {
      "image/png": "[encoded data removed]",
      "text/plain": [
       "<Figure size 792x504 with 1 Axes>"
      ]
     },
     "metadata": {
      "needs_background": "light"
     },
     "output_type": "display_data"
    }
   ],
   "source": [
    "plota_resp(T, yout, 'Yout')"
   ]
  },
  {
   "cell_type": "code",
   "execution_count": null,
   "id": "african-persian",
   "metadata": {},
   "outputs": [],
   "source": []
  },
  {
   "cell_type": "code",
   "execution_count": null,
   "id": "ancient-yellow",
   "metadata": {},
   "outputs": [],
   "source": []
  },
  {
   "cell_type": "code",
   "execution_count": null,
   "id": "valid-resident",
   "metadata": {},
   "outputs": [],
   "source": []
  }
 ],
 "metadata": {
  "kernelspec": {
   "display_name": "Python 3",
   "language": "python",
   "name": "python3"
  },
  "language_info": {
   "codemirror_mode": {
    "name": "ipython",
    "version": 3
   },
   "file_extension": ".py",
   "mimetype": "text/x-python",
   "name": "python",
   "nbconvert_exporter": "python",
   "pygments_lexer": "ipython3",
   "version": "3.7.9"
  }
 },
 "nbformat": 4,
 "nbformat_minor": 5
}
