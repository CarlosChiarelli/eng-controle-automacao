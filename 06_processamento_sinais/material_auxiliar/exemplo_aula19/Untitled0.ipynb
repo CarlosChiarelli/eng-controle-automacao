{
  "nbformat": 4,
  "nbformat_minor": 0,
  "metadata": {
    "colab": {
      "name": "Untitled0.ipynb",
      "provenance": []
    },
    "kernelspec": {
      "name": "python3",
      "display_name": "Python 3"
    }
  },
  "cells": [
    {
      "cell_type": "markdown",
      "metadata": {
        "id": "N87RDZtO4fAt",
        "colab_type": "text"
      },
      "source": [
        "# Projeto de Aquisição de Dados\n",
        "\n",
        "O projeto foi implementado na linguagem Python 3."
      ]
    },
    {
      "cell_type": "code",
      "metadata": {
        "id": "yBLVL0uZ4enu",
        "colab_type": "code",
        "colab": {}
      },
      "source": [
        ""
      ],
      "execution_count": 0,
      "outputs": []
    }
  ]
}